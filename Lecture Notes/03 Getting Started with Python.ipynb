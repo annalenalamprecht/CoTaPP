{
 "cells": [
  {
   "cell_type": "markdown",
   "metadata": {},
   "source": [
    "# Module 3: Getting Started with Python \n",
    "February 17, 2021"
   ]
  },
  {
   "cell_type": "markdown",
   "metadata": {},
   "source": [
    "Last time we learned about UML Activity Diagrams as means to describe (computational) processes at different levels of abstraction. Such models can be used as guidelines for the implementation of a process in an actual programming language, for example in Python.\n",
    "\n",
    "Today we will get started with Python. The lecture covers how to write, edit and run Pyhon code, how to do simple and formatted printouts, how to read simple user inputs, the basic data types, arithmetic expressions, and variables. The exercises for this lecture will guide you in setting up a Python programming environment on your computer, and give you the first programming assignments to work on yourselves.\n",
    "\n",
    "Next time we will proceed to boolean expressions and conditional branching."
   ]
  },
  {
   "cell_type": "markdown",
   "metadata": {},
   "source": [
    "## The Python Programming Language\n",
    "\n",
    "Python (yes, indeed named after the British comedy group [Monty Python](https://en.wikipedia.org/wiki/Monty_Python)) is one of the most popular programming languages today. It has been released for the first time already back in 1990, but gained extreme popularity only in the last years, hand in hand with the increasing importance of the world wide web, big data and data science.\n",
    "\n",
    "Although older versions (in particular the second generation) are still operational, we will use **Python 3** in the course to make full use of the features of the latest generation. As of January 2021, the latest stable release of Python has number 3.9.1.\n",
    "\n",
    "There is a lot of free literature about Python available that you can use for the course in addition to the lecture notes provided. Especially if you have difficulties understanding a particular concept, it is often a good idea to look at alternative explanations. What works good for the one, might just not be the best way to put it for the other. Here are some links to useful Python online books, but please feel free to check out also other sources of information:\n",
    "\n",
    "* https://python.swaroopch.com (“A Byte of Python”, especially for beginners)\n",
    "* http://greenteapress.com/wp/think-python-2e/ (“Think Python”, also targeted at beginners)\n",
    "* https://docs.python.org/3/tutorial/index.html (the official Python tutorial)\n",
    "\n",
    "During the course we will work with the Anaconda Python Data Science Platform (official website: https://www.anaconda.com/), in particular we will use the Spyder IDE (Integrated Development Environment) and Jupyter notebooks. The exercises will guide you through the installation and first steps with these environments."
   ]
  },
  {
   "cell_type": "markdown",
   "metadata": {},
   "source": [
    "## Hello World\n",
    "\n",
    "The first program that one writes in any language is typically the \"Hello world!\" program, which simply prints \"Hello world!\" on the screen. In Python, this program is very simple and needs just one line:\n",
    "\n",
    "`print(\"Hello world!\")`\n",
    "\n",
    "The program just calls the ```print``` function with the character sequence (string) \"Hello world!\" as argument. \n",
    "\n",
    "There are different ways to write and run this code. You can for example just type it into a Python console and hit \"enter\":\n",
    "\n",
    "![python_console](img/python_console.png)\n",
    "\n",
    "Typing code directly into the console can be handy for testing commands or for quick calculations. Generally, however, we want to save our code so that we can easily execute it again later. "
   ]
  },
  {
   "cell_type": "markdown",
   "metadata": {},
   "source": [
    "When can for example write the code in an arbitrary text editor and save it to a file (e.g. helloworld.py). We can run this program in the command line terminal and get the same output: \n",
    "\n",
    "![](img/editor_commandline.png)"
   ]
  },
  {
   "cell_type": "markdown",
   "metadata": {},
   "source": [
    "Technically, .py files are text files and can be opened in any text editor. Some even recognize it as code and will turn on syntax highlighthing, as shown in the example. When working on larger and more complex programs, however, it is better to use a real programming environment. In this course we use Spyder, the Integrated Development Environment (IDE) that comes with Anaconda when you install it. \n",
    "\n",
    "In Spyder the same program in development and during execution looks like this: \n",
    "\n",
    "![](img/spyder.png)"
   ]
  },
  {
   "cell_type": "markdown",
   "metadata": {},
   "source": [
    "Another popular environment for writing and running Python code are Jupyter Notebooks. The lecture notes are an example. Notebooks are handy when one wants to combine code with text and other resources, as it allows for their easy interleaving in one document. Individual notebook cells can be run with just one click, and easily be changed to play around with the code in it. That makes them suitable as interactive textbooks, but also for sharing data, analysis code and results of a research project. \n",
    "\n",
    "Here is the \"Hello world!\" program in a Jupyter code cell: "
   ]
  },
  {
   "cell_type": "code",
   "execution_count": 2,
   "metadata": {},
   "outputs": [
    {
     "name": "stdout",
     "output_type": "stream",
     "text": [
      "Hello World!\n",
      "second line\n"
     ]
    }
   ],
   "source": [
    "print(\"Hello World!\")"
   ]
  },
  {
   "cell_type": "markdown",
   "metadata": {},
   "source": [
    "Because there is more in them than just Python code, Jupyter notebooks are not .py files, but use the file ending .ipynb. (Opening them in a plain text editor is again possible, but not very useful.) Jupyter notebooks are made for being viewed in a web browser. If you have local .ipynb files (for example the lecture notes you downloaded), you need to start a (local) notebook server first. \n",
    "\n",
    "The Jupyter notebook server also comes with Anaconda as you install it. For starting up the server, you only need to type `jupyter notebook` in the command line: \n",
    "\n",
    "![](img/server_startup.png)\n",
    "\n",
    "A browser window will open with a local address like `http://localhost:8889/tree` and show a view on your local file system: \n",
    "\n",
    "![](img/jupyter_home.png)\n",
    "\n",
    "From there you can navigate to any .ipynb on your computer and interact with it in the browser:\n",
    "\n",
    "![](img/jupyter_example.png)\n"
   ]
  },
  {
   "cell_type": "markdown",
   "metadata": {},
   "source": [
    "## Sequential Execution\n",
    "\n",
    "If we want our program to greet not only the world, but for example also the Netherlands and especially Utrecht, we can add more statements to the program, like this:"
   ]
  },
  {
   "cell_type": "code",
   "execution_count": 20,
   "metadata": {},
   "outputs": [
    {
     "name": "stdout",
     "output_type": "stream",
     "text": [
      "Hello World!\n",
      "Hello Netherlands!\n",
      "Hello Utrecht!\n"
     ]
    }
   ],
   "source": [
    "print(\"Hello World!\")\n",
    "print(\"Hello Netherlands!\")\n",
    "print(\"Hello Utrecht!\") "
   ]
  },
  {
   "cell_type": "markdown",
   "metadata": {},
   "source": [
    "Note here that Python is an interpreted language. That means that Python programs are executed directly by an interpreter, which runs the program line by line. This is in contrast to compiled languages, which need to be translated into another representation before being executable."
   ]
  },
  {
   "cell_type": "markdown",
   "metadata": {},
   "source": [
    "## Comments\n",
    "\n",
    "It is good practice (and really good idea!) to include comments in your program that explain what is happening ([\"*Code tells you how, comments should tell you why.*\"](https://blog.codinghorror.com/code-tells-you-how-comments-tell-you-why/)). Comment lines in Python start wish a hash (#). They are ignored by the interpreter during execution, but can be very helpful for you or another person trying to understand the code, especially when it does more complicated things. Make commenting your code a habit directly from the beginning, even if it feels unnecessary for the simpler first examples.  \n",
    "\n",
    "Example:"
   ]
  },
  {
   "cell_type": "code",
   "execution_count": 21,
   "metadata": {},
   "outputs": [
    {
     "name": "stdout",
     "output_type": "stream",
     "text": [
      "Hello World!\n",
      "Hello Netherlands!\n",
      "Hello Utrecht!\n"
     ]
    }
   ],
   "source": [
    "# greet the world\n",
    "print(\"Hello World!\")\n",
    "\n",
    "# greet the Dutch\n",
    "print(\"Hello Netherlands!\")\n",
    "\n",
    "# greet the people of Utrecht\n",
    "print(\"Hello Utrecht!\") "
   ]
  },
  {
   "cell_type": "markdown",
   "metadata": {},
   "source": [
    "The output of this program is still the same as before."
   ]
  },
  {
   "cell_type": "markdown",
   "metadata": {},
   "source": [
    "## Literal Constants\n",
    "\n",
    "The string ```“Hello world!”``` (can also be written as ```‘Hello world!’```, i.e., with single quotation marks) from the above example is a so-called literal constant. Literal because its value is used literally (exactly as it is written in the program code), and constant because it just represents itself and cannot be changed during runtime. \n",
    "\n",
    "In the same way also numbers can be literal constants in a program, for example ```42``` or ```3.14```, but more on numbers later."
   ]
  },
  {
   "cell_type": "markdown",
   "metadata": {},
   "source": [
    "## Strings\n",
    "\n",
    "Strings (sequences of characters, including white spaces and other sorts of special characters) are one of the basic data types in Python. Strings can be denoted by using single quotes as well as double quotes, which work exactly the same way. \n",
    "\n",
    "Triple single or double quotes can be used to specify multi-line strings, which can be convenient when dealing with longer pieces of text. For example, the following code again produces the same output as above:"
   ]
  },
  {
   "cell_type": "code",
   "execution_count": 22,
   "metadata": {},
   "outputs": [
    {
     "name": "stdout",
     "output_type": "stream",
     "text": [
      "Hello World!\n",
      "Hello Netherlands!\n",
      "Hello Utrecht!\n"
     ]
    }
   ],
   "source": [
    "print(\"\"\"Hello World!\n",
    "Hello Netherlands!\n",
    "Hello Utrecht!\"\"\") "
   ]
  },
  {
   "cell_type": "markdown",
   "metadata": {},
   "source": [
    "A single backslash at the end of a line is used to indicate that the string is continued in the next line, but without adding a newline. For example:"
   ]
  },
  {
   "cell_type": "code",
   "execution_count": 23,
   "metadata": {},
   "outputs": [
    {
     "name": "stdout",
     "output_type": "stream",
     "text": [
      "Hello World! Hello Netherlands! Hello Utrecht!\n"
     ]
    }
   ],
   "source": [
    "print(\"Hello World! \\\n",
    "Hello Netherlands! \\\n",
    "Hello Utrecht!\") "
   ]
  },
  {
   "cell_type": "markdown",
   "metadata": {},
   "source": [
    "Clearly, if you use a quotation mark to indicate the beginning and the end of a string, you cannot just use the same character within the string itself, as it would be interpreted as the end of the string. For these cases, there are so-called escape sequences, beginning with the backslash character \\, which change the standard interpretation of the character(s). For example, to print the sentence <code>It’s called “Brexit”</code> correctly, the following code can be used:"
   ]
  },
  {
   "cell_type": "code",
   "execution_count": 24,
   "metadata": {},
   "outputs": [
    {
     "name": "stdout",
     "output_type": "stream",
     "text": [
      "It's called \"Brexit\".\n"
     ]
    }
   ],
   "source": [
    "print(\"It's called \\\"Brexit\\\".\") "
   ]
  },
  {
   "cell_type": "markdown",
   "metadata": {},
   "source": [
    "or"
   ]
  },
  {
   "cell_type": "code",
   "execution_count": 25,
   "metadata": {},
   "outputs": [
    {
     "name": "stdout",
     "output_type": "stream",
     "text": [
      "It's called \"Brexit\".\n"
     ]
    }
   ],
   "source": [
    "print('It\\'s called \"Brexit\".') "
   ]
  },
  {
   "cell_type": "markdown",
   "metadata": {},
   "source": [
    "Some other frequently useful escape sequences are \\\\\\\\ for including a backslash in a string, \\n for a newline and \\t for a tab.\n",
    "\n",
    "\n",
    "For a somewhat different purpose, Python allows to handle strings as “raw” strings, for which it does no processing of escape sequences and the like. Strings can be declared raw by prefixing them with <code>r</code> or <code>R</code>. For example:"
   ]
  },
  {
   "cell_type": "code",
   "execution_count": 26,
   "metadata": {},
   "outputs": [
    {
     "name": "stdout",
     "output_type": "stream",
     "text": [
      "It's called \\\"Brexit\\\".\n"
     ]
    }
   ],
   "source": [
    "print(r\"It's called \\\"Brexit\\\".\") "
   ]
  },
  {
   "cell_type": "markdown",
   "metadata": {},
   "source": [
    "## Numbers\n",
    "\n",
    "Python knows basically two types of numbers: integers (whole numbers) and floating point numbers, or floats for short (such with a decimal point). The E notation can be used to indicate powers of ten. For example:"
   ]
  },
  {
   "cell_type": "code",
   "execution_count": 27,
   "metadata": {},
   "outputs": [
    {
     "name": "stdout",
     "output_type": "stream",
     "text": [
      "42\n",
      "3.14\n",
      "0.002\n"
     ]
    }
   ],
   "source": [
    "print(42)\n",
    "print(3.14)\n",
    "print(2E-3) "
   ]
  },
  {
   "cell_type": "markdown",
   "metadata": {},
   "source": [
    "Note that in this example, the numbers are again literal constants."
   ]
  },
  {
   "cell_type": "markdown",
   "metadata": {},
   "source": [
    "## Arithmetic Expressions\n",
    "\n",
    "Python supports seven basic operators for working with numbers:\n",
    "\n",
    "\n",
    " \t** (power, exponentiation)\n",
    " \t*  (multiplication)\n",
    " \t/  (division)\n",
    " \t// (integer division)\n",
    " \t%  (remainder, modulo)\n",
    " \t+  (addition)\n",
    " \t-  (subtraction)\n",
    "    \n",
    "The order of expressions is the same as you know it from mathematics, and like there you can also use parentheses to structure more complex expressions.\n",
    "\n",
    "\n",
    "For example:"
   ]
  },
  {
   "cell_type": "code",
   "execution_count": 28,
   "metadata": {},
   "outputs": [
    {
     "name": "stdout",
     "output_type": "stream",
     "text": [
      "2+2 is 4\n",
      "20 is the result of 10*2.\n",
      "10/6 is 1.6666666666666667 and 10//6 is 1\n"
     ]
    }
   ],
   "source": [
    "# do some random arithmetics\n",
    "print(\"2+2 is\", 2+2)\n",
    "print(10*2, \"is the result of 10*2.\")\n",
    "print(\"10/6 is\", 10/6, \"and 10//6 is\", 10//6) "
   ]
  },
  {
   "cell_type": "markdown",
   "metadata": {},
   "source": [
    "Interestingly, the + (addition) and * (multiplication) operators are also defined for strings, where they function as concatenation and repetition operators, respectively: \n",
    "\n",
    "\n",
    "For example:"
   ]
  },
  {
   "cell_type": "code",
   "execution_count": 29,
   "metadata": {},
   "outputs": [
    {
     "name": "stdout",
     "output_type": "stream",
     "text": [
      "Hello world!\n",
      "Hello! Hello! Hello! \n"
     ]
    }
   ],
   "source": [
    "# string concatenation\n",
    "print(\"Hello \" + \"world!\")\n",
    "\n",
    "# string repetition\n",
    "print(\"Hello! \" * 3) "
   ]
  },
  {
   "cell_type": "markdown",
   "metadata": {},
   "source": [
    "## Variables\n",
    "\n",
    "With only literal constants, as in the examples so far, programming would be quite limited and boring, but luckily there are variables. Variables store (variable) data. A variable has a name (identifier) and we can assign a value to it. An assignment statement has the name on the left and the value to be assigned on the right. For example:"
   ]
  },
  {
   "cell_type": "code",
   "execution_count": 30,
   "metadata": {},
   "outputs": [],
   "source": [
    "# variables storing numbers\n",
    "number1 = 5\n",
    "number2 = 2.3\n",
    "\n",
    "# variable storing a string\n",
    "string1 = \"Hello!\" "
   ]
  },
  {
   "cell_type": "markdown",
   "metadata": {},
   "source": [
    "Python is a dynamically typed language. That means that data objects get assigned their type only at runtime, and that it is not necessary to declare the type of the variable in the program (in contrast to programming languages such as C or Java).\n",
    "\n",
    "\n",
    "Note that there are some rules and conventions for identifiers: Variable names in Python may consist of letters, numbers and the underscore \"_\", but they must not start with a number. If they do, or if any other characters are used, this will lead to errors. Variable names are case sensitive, that is, ```\"Name\"``` is something different than ```\"name\"```. Many Python developers use only lowercase letters in variable names, if necessary separating words with underscores, to improve readability. For example, ```\"my_first_name\"``` instead of ```\"myfirstname\"```. Some prefer the so-called camelCase instead, that would mean ```\"myFirstName\"``` for the example. All variants are fine, but for good readability it is strongly advisable to choose one and follow it consistently.  \n",
    "\n",
    "If a program is to do different things with the same numbers or strings, it handy to use variables to assign the values to them at one point in the program and read the values from the variables again where they are needed. This way, if we want to run the program with other values, we need to change them only once.\n",
    "\n",
    "\n",
    "Example:"
   ]
  },
  {
   "cell_type": "code",
   "execution_count": 31,
   "metadata": {},
   "outputs": [
    {
     "name": "stdout",
     "output_type": "stream",
     "text": [
      "10 + 6 is 16\n",
      "60 is the result of 10 * 6\n",
      "10 / 6 is 1.6666666666666667 and 10 // 6 is 1\n"
     ]
    }
   ],
   "source": [
    "# do some random arithmetics with the same two numbers\n",
    "a = 10\n",
    "b = 6\n",
    "\n",
    "print(a, \"+\", b, \"is\", a+b) \n",
    "print(a*b, \"is the result of\", a, \"*\", b) \n",
    "print(a, \"/\", b, \"is\", a/b, \"and\", a, \"//\", b, \"is\", a//b) "
   ]
  },
  {
   "cell_type": "markdown",
   "metadata": {},
   "source": [
    "Variables can also be used to store the result of operations, for example:"
   ]
  },
  {
   "cell_type": "code",
   "execution_count": 32,
   "metadata": {},
   "outputs": [],
   "source": [
    "# variables storing the results of operations\n",
    "number3 = 5 * 2\n",
    "number4 = number1 * 2.3\n",
    "number5 = number1 * number2\n",
    "string2 = \"Hello \" + string1"
   ]
  },
  {
   "cell_type": "markdown",
   "metadata": {},
   "source": [
    "The type function can be used to check of which type a variable is, for example:"
   ]
  },
  {
   "cell_type": "code",
   "execution_count": 33,
   "metadata": {},
   "outputs": [
    {
     "name": "stdout",
     "output_type": "stream",
     "text": [
      "<class 'float'>\n",
      "<class 'str'>\n"
     ]
    }
   ],
   "source": [
    "# check types of variables\n",
    "print(type(number5))\n",
    "print(type(string2)) "
   ]
  },
  {
   "cell_type": "markdown",
   "metadata": {},
   "source": [
    "## Aside: Shortcut Assignment\n",
    "\n",
    "For assignments where a variable is updated using an arithmetic expression, that is, where the variable name at the left side of an assignment statement is also used in the expression on the right, there is a shorter way to write it. For example:\n",
    "\n",
    "\n",
    "\ta = a + 1\t\tdoes the same as\t\ta += 1\n",
    "    \n",
    "None of the two is generally better than the other, and using the shortcut or not is a matter of personal taste and style, but every programmers should understand both."
   ]
  },
  {
   "cell_type": "markdown",
   "metadata": {},
   "source": [
    "## Formatted Output\n",
    "\n",
    "We have used the ```print()``` function so far to print out individual strings or sequences of strings by simply passing them to the function as a comma-separated list of arguments. We could also construct the string by using the + operator as follows:"
   ]
  },
  {
   "cell_type": "code",
   "execution_count": 34,
   "metadata": {},
   "outputs": [
    {
     "name": "stdout",
     "output_type": "stream",
     "text": [
      "10 + 6 is 16\n"
     ]
    }
   ],
   "source": [
    "a = 10\n",
    "b = 6\n",
    "print(str(a) + \" + \" + str(b) + \" is \" + str(a+b))"
   ]
  },
  {
   "cell_type": "markdown",
   "metadata": {},
   "source": [
    "However, with the ```format()``` methods for strings it is much easier to construct strings from other information and format it properly:"
   ]
  },
  {
   "cell_type": "code",
   "execution_count": 35,
   "metadata": {},
   "outputs": [
    {
     "name": "stdout",
     "output_type": "stream",
     "text": [
      "10 + 6 is 16\n",
      "60 is the result of 10 * 6\n",
      "10 / 6 is 1.6666666666666667 and 10 // 6 is 1\n"
     ]
    }
   ],
   "source": [
    "print(\"{0} + {1} is {2}\".format(a, b, a+b)) \n",
    "print(\"{0} is the result of {1} * {2}\".format(a*b, a, b))\n",
    "print(\"{0} / {1} is {2} and {0} // {1} is {3}\".format(a, b, a/b, a//b)) "
   ]
  },
  {
   "cell_type": "markdown",
   "metadata": {},
   "source": [
    "That is, placeholders {0}, {1}, {2}, … are placed in the string at the points where we want to include particular values, which are passed as parameters to the ```format()``` method. These can be literals, variables or expressions, and they will be converted to string (str) format immediately.\n",
    "\n",
    "\n",
    "Note that when there are as many placeholders as parameters to the format method, it is also possible to omit the numbers and use empty pairs of parentheses. If the numbers of parenthesis pairs and arguments do not match, there is an error:"
   ]
  },
  {
   "cell_type": "code",
   "execution_count": 36,
   "metadata": {},
   "outputs": [
    {
     "name": "stdout",
     "output_type": "stream",
     "text": [
      "10 + 6 is 16\n",
      "10 is the result of 6 * 60\n"
     ]
    },
    {
     "ename": "IndexError",
     "evalue": "tuple index out of range",
     "output_type": "error",
     "traceback": [
      "\u001b[0;31m---------------------------------------------------------------------------\u001b[0m",
      "\u001b[0;31mIndexError\u001b[0m                                Traceback (most recent call last)",
      "\u001b[0;32m<ipython-input-36-bd96512b3755>\u001b[0m in \u001b[0;36m<module>\u001b[0;34m\u001b[0m\n\u001b[1;32m      1\u001b[0m \u001b[0mprint\u001b[0m\u001b[0;34m(\u001b[0m\u001b[0;34m\"{} + {} is {}\"\u001b[0m\u001b[0;34m.\u001b[0m\u001b[0mformat\u001b[0m\u001b[0;34m(\u001b[0m\u001b[0ma\u001b[0m\u001b[0;34m,\u001b[0m \u001b[0mb\u001b[0m\u001b[0;34m,\u001b[0m \u001b[0ma\u001b[0m\u001b[0;34m+\u001b[0m\u001b[0mb\u001b[0m\u001b[0;34m)\u001b[0m\u001b[0;34m)\u001b[0m\u001b[0;34m\u001b[0m\u001b[0;34m\u001b[0m\u001b[0m\n\u001b[1;32m      2\u001b[0m \u001b[0mprint\u001b[0m\u001b[0;34m(\u001b[0m\u001b[0;34m\"{} is the result of {} * {}\"\u001b[0m\u001b[0;34m.\u001b[0m\u001b[0mformat\u001b[0m\u001b[0;34m(\u001b[0m\u001b[0ma\u001b[0m\u001b[0;34m,\u001b[0m \u001b[0mb\u001b[0m\u001b[0;34m,\u001b[0m \u001b[0ma\u001b[0m\u001b[0;34m*\u001b[0m\u001b[0mb\u001b[0m\u001b[0;34m)\u001b[0m\u001b[0;34m)\u001b[0m\u001b[0;34m\u001b[0m\u001b[0;34m\u001b[0m\u001b[0m\n\u001b[0;32m----> 3\u001b[0;31m \u001b[0mprint\u001b[0m\u001b[0;34m(\u001b[0m\u001b[0;34m\"{} / {} is {} and {} // {} is {}\"\u001b[0m\u001b[0;34m.\u001b[0m\u001b[0mformat\u001b[0m\u001b[0;34m(\u001b[0m\u001b[0ma\u001b[0m\u001b[0;34m,\u001b[0m \u001b[0mb\u001b[0m\u001b[0;34m,\u001b[0m \u001b[0ma\u001b[0m\u001b[0;34m/\u001b[0m\u001b[0mb\u001b[0m\u001b[0;34m,\u001b[0m \u001b[0ma\u001b[0m\u001b[0;34m//\u001b[0m\u001b[0mb\u001b[0m\u001b[0;34m)\u001b[0m\u001b[0;34m)\u001b[0m\u001b[0;34m\u001b[0m\u001b[0;34m\u001b[0m\u001b[0m\n\u001b[0m",
      "\u001b[0;31mIndexError\u001b[0m: tuple index out of range"
     ]
    }
   ],
   "source": [
    "print(\"{} + {} is {}\".format(a, b, a+b))\n",
    "print(\"{} is the result of {} * {}\".format(a, b, a*b))\n",
    "print(\"{} / {} is {} and {} // {} is {}\".format(a, b, a/b, a//b)) "
   ]
  },
  {
   "cell_type": "markdown",
   "metadata": {},
   "source": [
    "Instead of using indices, one can also use named parameters:"
   ]
  },
  {
   "cell_type": "code",
   "execution_count": null,
   "metadata": {},
   "outputs": [],
   "source": [
    "print(\"{a} + {b} is {result}\".format(a=a, b=b, result=a+b))\n",
    "print(\"{result} is the result of {a} * {b}\".format(a=a, b=b, \\\n",
    "            result=a*b))\n",
    "print(\"{a} / {b} is {result1} and {a} // {b} is \\\n",
    "{result2}\".format(a=a, b=b, result1=a/b, result2=a//b)) "
   ]
  },
  {
   "cell_type": "markdown",
   "metadata": {},
   "source": [
    "Another frequent use of the ```format``` method is to limit the number of decimal places of a number that are printed out, for example to 3 decimal places by adding ```:.3f``` to the corresponding placeholder:"
   ]
  },
  {
   "cell_type": "code",
   "execution_count": null,
   "metadata": {},
   "outputs": [],
   "source": [
    "print(\"{a} / {b} is {result1:.3f} and {a} // {b} is \\\n",
    "{result2}\".format(a=a, b=b, result1=a/b, result2=a//b))"
   ]
  },
  {
   "cell_type": "markdown",
   "metadata": {},
   "source": [
    "Finally, note that Python has only quite recently introduced the so-called f-strings, which allow for an even shorter way of accessing previously defined variables in a string:"
   ]
  },
  {
   "cell_type": "code",
   "execution_count": null,
   "metadata": {},
   "outputs": [],
   "source": [
    "print(f\"{a} + {b} is {a+b}\")\n",
    "print(f\"{a*b} is the result of {a} * {b}\")\n",
    "print(f\"{a} / {b} is {a/b:.3f} and {a} // {b} is {a//b}\") "
   ]
  },
  {
   "cell_type": "markdown",
   "metadata": {},
   "source": [
    "Due to their good readability, we will mostly use f-strings for formatted outputs."
   ]
  },
  {
   "cell_type": "markdown",
   "metadata": {},
   "source": [
    "## Interactive Input\n",
    "\n",
    "Finally, it is also not very useful if the program can only print or calculate with fixed values that have been \"hard-coded\" during the development of the program. Rather, it should get inputs at runtime and do something with them. We can for instance ask the user to enter some information into the console at runtime with the input function and store it in a variable for later use.\n",
    "\n",
    "For example:"
   ]
  },
  {
   "cell_type": "code",
   "execution_count": null,
   "metadata": {},
   "outputs": [],
   "source": [
    "# ask the user for name and greet him/her\n",
    "user_name = input(\"What is your name? \")\n",
    "print(f\"Hello {user_name}!\")\n",
    "\n",
    "# ask the user for age (in years) and print age in months\n",
    "user_age = int(input(\"What is your age (in years)? \"))\n",
    "print(f\"Then you are at least {user_age*12} months old.\") "
   ]
  },
  {
   "cell_type": "markdown",
   "metadata": {},
   "source": [
    "The plain ```input``` function reads the user input as a string. If you want to read the input as an integer or floating-point number, you have to add a type cast to ```int``` or ```float```, respectively:"
   ]
  },
  {
   "cell_type": "code",
   "execution_count": null,
   "metadata": {},
   "outputs": [],
   "source": [
    "# read string\n",
    "input_string = input(\"Enter string: \")\n",
    "\n",
    "# read integer\n",
    "input_int = int(input(\"Enter integer: \"))\n",
    "\n",
    "# read float\n",
    "input_float = float(input(\"Enter float: \")) "
   ]
  },
  {
   "cell_type": "markdown",
   "metadata": {},
   "source": [
    "It is best to do the type cast directly with the input, as it is easily forgotten to do it at a later stage in the program. Furthermore, directly when reading means that it only needs to be done once, and not (up to) every time the entered value is used."
   ]
  },
  {
   "cell_type": "markdown",
   "metadata": {},
   "source": [
    "## Exercises"
   ]
  },
  {
   "cell_type": "markdown",
   "metadata": {},
   "source": [
    "Please use Quarterfall to submit and check your answers. "
   ]
  },
  {
   "cell_type": "markdown",
   "metadata": {},
   "source": [
    "### 0. Anaconda Setup\n",
    "\n",
    "We will use the Anaconda Data Science platform in the course. Anaconda is a free and open source distribution of Python and some other programming languages used in scientific applications. It runs on all major operating systems and provides a number of very useful tools for Python programming.\n",
    "Here is what you have to do to get started: \n",
    "1. Go to https://docs.anaconda.com/anaconda/install/ and follow the installation instructions for your operating system. \n",
    "2. Go to https://docs.anaconda.com/anaconda/user-guide/getting-started/#open-nav-lin and follow the instructions how to start Spyder. \n",
    "3. Start coding!\n",
    "\n",
    "If you have (unresolvable) trouble with the installation of Anaconda on your device, you can use it also via UU’s MyWorkplace (https://myworkplace.uu.nl/). The app that you need to start is called “Spyder Anaconda3”."
   ]
  },
  {
   "cell_type": "markdown",
   "metadata": {},
   "source": [
    "### 1. Understanding Python Code (★★★☆☆)\n",
    "Consider the following piece of code, which is very similar to, but not exactly the same as the interactive input example from the lecture. \n",
    "\n",
    "```\n",
    "user_name = input(\"What is your name? \")\n",
    "print(f\"Hello {user_name}!\")\n",
    "user_age = input(\"What is your age (in years)? \")\n",
    "print(f\"Then you are at least {user_age*12} months old.\")\n",
    "```\n",
    "\n",
    "What is its output? What is the difference in the code, and can you explain why the output is different?\n",
    "\n",
    "**Important:** Do not immediately paste the code into an editor or code cell and run it to see what it does. First try to read the code and figure it out from that, then check by executing it. Same for any other piece of Python code that you come across. That will greatly improve your understanding of Python programs. "
   ]
  },
  {
   "cell_type": "markdown",
   "metadata": {},
   "source": [
    "### 2. Understanding more Python Code (★★★☆☆)\n",
    "Here is another piece of code:\n",
    "```\n",
    "a = 2.3\n",
    "b = 42\n",
    "print(f\"{a} + {b} is {a+b}\")\n",
    "print(f\"{a} + {b} is {str(a+b)}\")\n",
    "print(f\"{a} + {b} is {str(a)+str(b)}\")\n",
    "print(f\"{a} + {b} is {int(a+b)}\")\n",
    "print(f\"{a} + {b} is {int(a)+int(b)}\")\n",
    "print(f\"{a} + {b} is {float(a+b)}\")\n",
    "print(f\"{a} + {b} is {float(a)+float(b)}\")\n",
    "```\n",
    "What is the output? Explain what causes the differences between the lines."
   ]
  },
  {
   "cell_type": "markdown",
   "metadata": {},
   "source": [
    "### 3. Printing Source Code (★★★☆☆)\n",
    "Write a program that prints the Python source code from the previous exercise to the screen. The output should look as the piece of code above.\n",
    "\n",
    "**Important:** If you get any error messages when you try to execute your programs, don't panic. Read the message and try to understand where and what the problem is. You can also use Google to find out more, common errors are usually discussed in different development forums. If that does not get you any further, ask a teaching assistant, or post your question to the course's Q&A channel on MS Teams."
   ]
  },
  {
   "cell_type": "markdown",
   "metadata": {},
   "source": [
    "### 4. List Your Lectures (★★★☆☆)\n",
    "Write a program that prints out for all of the weekdays the lectures that you have there. The output of the program should be something like:\n",
    "```\n",
    "Monday:     Evolutionary Computing\n",
    "Tuesday:    (nothing)\n",
    "Wednesday:  Evolutionary Computing, Programming with Python\n",
    "Thursday:   (nothing)\n",
    "Friday:     Programming with Python\n",
    "```\n",
    "Make sure that the \tlist of lectures begins at the same position in every line."
   ]
  },
  {
   "cell_type": "markdown",
   "metadata": {},
   "source": [
    "### 5. Arithmetic Operations (★★★☆☆)\n",
    "Write a program that asks the user to enter two integer numbers and then executes all the seven arithmetic operations with it for which Python has standard operators. The output of the program should be something like:\n",
    "```\n",
    "Please enter an integer number: 7\n",
    "Please enter another integer number: 4\n",
    "7 ** 4 is 2401\n",
    "7 * 4 is 28\n",
    "7 / 4 is 1.75\n",
    "7 // 4 is 1\n",
    "7 % 4 is 3\n",
    "7 + 4 is 11\n",
    "7 - 4 is 3\n",
    "```\n",
    "You can assume that the user enters two positive integer numbers (>0). Nevertheless, try what happens when you enter a negative number or 0."
   ]
  },
  {
   "cell_type": "markdown",
   "metadata": {},
   "source": [
    "### 6. Celsius-to-Fahrenheit Converter (★★★☆☆)\n",
    "Write a Python program that asks the user to enter a temperature (as float) in degrees Celsius and computes what the temperature is in degrees Fahrenheit. The formula to compute Fahrenheit from Celsius is: \n",
    "32.0 + degrees Celsius * (9.0 / 5.0)\n",
    "The output of the program should be something like: \n",
    "```\n",
    "Please enter the temperature in degrees Celsius: 12.5\n",
    "12.5 degrees Celsius is 54.5 degrees Fahrenheit.\n",
    "```"
   ]
  },
  {
   "cell_type": "markdown",
   "metadata": {},
   "source": [
    "### 7. BMI Calculation (★★★☆☆)\n",
    "Write a Python program that welcomes the user, asks for his name (string), weight in kg (integer) and height in m (float), computes the body mass index (BMI) from the information (weight/height2) and finally displays a message to the user, saying something like `\"Hello Jim, your BMI is 23.4.\".` You can assume that the user enters correct values."
   ]
  },
  {
   "cell_type": "markdown",
   "metadata": {},
   "source": [
    "## Extras for the Weekend\n",
    "We have seen in the lecture that the “Hello World!” program in Python is really easy. The “Hello World Collection” at http://helloworldcollection.de/ has the program in 585 different programming languages. Look at some examples to see that it is not that easy in a lot of other languages. Can you find the program for some other programming languages that you have heard of?\n",
    "The website https://www.scriptol.com/programming/history.php gives a nice overview of the history and evolution of programming languages since the 1950s. "
   ]
  }
 ],
 "metadata": {
  "kernelspec": {
   "display_name": "Python 3",
   "language": "python",
   "name": "python3"
  },
  "language_info": {
   "codemirror_mode": {
    "name": "ipython",
    "version": 3
   },
   "file_extension": ".py",
   "mimetype": "text/x-python",
   "name": "python",
   "nbconvert_exporter": "python",
   "pygments_lexer": "ipython3",
   "version": "3.7.4"
  }
 },
 "nbformat": 4,
 "nbformat_minor": 4
}
