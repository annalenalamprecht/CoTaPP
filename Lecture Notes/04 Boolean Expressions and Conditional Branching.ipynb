{
 "cells": [
  {
   "cell_type": "markdown",
   "metadata": {},
   "source": [
    "# Module 4: Boolean Expressions and Conditional Branching\n",
    "February 19, 2021"
   ]
  },
  {
   "cell_type": "markdown",
   "metadata": {},
   "source": [
    "Last time we got started with Python. We learned about simple and formatted printouts, how to read simple user inputs, the basic data types, arithmetic expressions, and variables. You have used these in your first programming exercises.\n",
    "\n",
    "Today we will talk about boolean expressions and conditional branching. Boolean expressions allow us to express conditions and to check at runtime if they are true or false. With the if statement we can deviate from the normal sequential control-flow depending on whether a certain condition is true or not. This allows us to let our program behave differently in different situations. Furthermore we will take a short detour and have a look at binary numbers.\n",
    "\n",
    "Next time we will deal with the implementation of repetitive behavior (loops)."
   ]
  },
  {
   "cell_type": "markdown",
   "metadata": {},
   "source": [
    "## Boolean Values \n",
    "\n",
    "Booleans are data types that have only two possible values: ```True``` and ```False```, or ```1``` and ```0```. They represent the two truth values of Boolean logic and algebra (named after the English mathematician, philosopher and logician George Boole, who worked on this logic in the 19th century).\n",
    "\n",
    "In Python we can assign the values ```True``` and ```False``` to variables just like strings and numbers, and also use and for example print them as usual:"
   ]
  },
  {
   "cell_type": "code",
   "execution_count": 1,
   "metadata": {},
   "outputs": [
    {
     "name": "stdout",
     "output_type": "stream",
     "text": [
      "a is True and b is False.\n"
     ]
    }
   ],
   "source": [
    "a = True\n",
    "b = False\n",
    "print(f\"a is {a} and b is {b}.\") "
   ]
  },
  {
   "cell_type": "markdown",
   "metadata": {},
   "source": [
    "## Boolean Expressions\n",
    "\n",
    "What can we do with Boolean values, and where do they actually come from?\n",
    "\n",
    "Boolean algebra has three basic operations: ```not```, ```and``` and ```or```(evaluation in this order of precedence). The following Python program demonstrates how they work:"
   ]
  },
  {
   "cell_type": "code",
   "execution_count": 2,
   "metadata": {},
   "outputs": [
    {
     "name": "stdout",
     "output_type": "stream",
     "text": [
      "a is True and b is False.\n",
      "not True is False and not False is True.\n",
      "True or False is True.\n",
      "True and False is False.\n"
     ]
    }
   ],
   "source": [
    "a = True\n",
    "b = False\n",
    "print(f\"a is {a} and b is {b}.\")\n",
    "print(f\"not {a} is {not a} and not {b} is {not b}.\")\n",
    "print(f\"{a} or {b} is {a or b}.\")\n",
    "print(f\"{a} and {b} is {a and b}.\") "
   ]
  },
  {
   "cell_type": "markdown",
   "metadata": {},
   "source": [
    "That is, the ```not``` operation turns a Boolean value into the other. The result of an ```or``` operation with two Boolean values is ```True``` if at least one of them is ```True```. The result of an ```and``` operation is ```True``` if both input values are ```True```.\n",
    "\n",
    "Typically the functional values of Boolean expressions for all possible combinations of values of their functional arguments are surveyed in truth tables. They are especially useful when dealing with more complex Boolean expressions. The truth table below covers the basic operations from above and the Boolean expressions for implication (```not a or b```, sometimes abbreviated as a => b) and exclusive or (```(not a and b) or (a and not b)```, sometimes abbreviated as a xor b):"
   ]
  },
  {
   "cell_type": "markdown",
   "metadata": {},
   "source": [
    "\n",
    "|```a```|```b```|```not a```|```not b```|```a or b```|```a and b```|```not a or b```|```(not a and b) or (a and not b)```|\n",
    "| :-: | :-: | :-: | :-: | :-: | :-: | :-: | :-: |\n",
    "|```True```|```True```|```False```|```False```|```True```|```True```|```True```|```False```|\n",
    "|```True```|```False```|```False```|```True```|```True```|```False```|```False```|```True```|\n",
    "|```False```|```True```|```True```|```False```|```True```|```False```|```True```|```True```|\n",
    "|```False```|```False```|```True```|```True```|```False```|```False```|```True```|```False```|\n"
   ]
  },
  {
   "cell_type": "markdown",
   "metadata": {},
   "source": [
    "The complex expressions can be put into Python code just as the basic ones:"
   ]
  },
  {
   "cell_type": "code",
   "execution_count": 3,
   "metadata": {},
   "outputs": [
    {
     "name": "stdout",
     "output_type": "stream",
     "text": [
      "True => False is False.\n",
      "True xor False is True.\n"
     ]
    }
   ],
   "source": [
    "a = True\n",
    "b = False\n",
    "print(f\"{a} => {b} is {not a or b}.\")\n",
    "print(f\"{a} xor {b} is {(a and not b) or (not a and b)}.\") "
   ]
  },
  {
   "cell_type": "markdown",
   "metadata": {},
   "source": [
    "Note that unlike strings and numbers, Boolean values cannot be simply read as input from the user. (If a user types in ```True``` or ```False``` at an input prompt, this is initially a string. By convention, Python considers any non-empty string to be ```True```, so a type cast to Boolean would lead to a ```True``` value in both cases.)\n",
    "\n",
    "Usually Boolean values originate from comparisons or other tests. In Python the basic comparison operators returning ```True``` or ```False``` are:\n",
    "\n",
    "\t<\t (less than)\n",
    "\t>\t (greater than)\n",
    "\t<=\t(less than or equal to)\n",
    "\t>=\t(greater than or equal to)\n",
    "\t==\t(equal to)\n",
    "\t!=\t(not equal to)\n",
    "    \n",
    "Equality and non-equality can be checked for objects of all data types (also those that we have not yet discussed), while the less/greater than checks only work for data types for which an ordering relation is defined. This is for example the case for numbers (integers and floats) and strings, so they can easily be applied there:"
   ]
  },
  {
   "cell_type": "code",
   "execution_count": 4,
   "metadata": {},
   "outputs": [
    {
     "name": "stdout",
     "output_type": "stream",
     "text": [
      "5.2 < 3 is False\n",
      "5.2 <= 3 is False\n",
      "5.2 > 3 is True\n",
      "5.2 >= 3 is True\n",
      "5.2 == 3 is False\n",
      "5.2 != 3 is True\n"
     ]
    }
   ],
   "source": [
    "a = 5.2\n",
    "b = 3\n",
    "print(f\"{a} < {b} is {a < b}\")\n",
    "print(f\"{a} <= {b} is {a <= b}\")\n",
    "print(f\"{a} > {b} is {a > b}\")\n",
    "print(f\"{a} >= {b} is {a >= b}\")\n",
    "print(f\"{a} == {b} is {a == b}\")\n",
    "print(f\"{a} != {b} is {a != b}\")"
   ]
  },
  {
   "cell_type": "code",
   "execution_count": 5,
   "metadata": {},
   "outputs": [
    {
     "name": "stdout",
     "output_type": "stream",
     "text": [
      "hello < world is True\n",
      "hello <= world is True\n",
      "hello > world is False\n",
      "hello >= world is False\n",
      "hello == world is False\n",
      "hello != world is True\n"
     ]
    }
   ],
   "source": [
    "a = \"hello\"\n",
    "b = \"world\"\n",
    "print(f\"{a} < {b} is {a < b}\")\n",
    "print(f\"{a} <= {b} is {a <= b}\")\n",
    "print(f\"{a} > {b} is {a > b}\")\n",
    "print(f\"{a} >= {b} is {a >= b}\")\n",
    "print(f\"{a} == {b} is {a == b}\")\n",
    "print(f\"{a} != {b} is {a != b}\")"
   ]
  },
  {
   "cell_type": "markdown",
   "metadata": {},
   "source": [
    "Note that comparisons can be chained arbitrarily, that is, and expression like ```0 < x <= 10``` is perfectly valid, but this is often not easy to read and understand. In most cases it is thus better coding style to use only pair-wise comparisons and chain them together with the Boolean `and` operator:"
   ]
  },
  {
   "cell_type": "code",
   "execution_count": 6,
   "metadata": {},
   "outputs": [
    {
     "name": "stdout",
     "output_type": "stream",
     "text": [
      "Enter an integer number: 12\n",
      "Is 12 in range? False\n"
     ]
    }
   ],
   "source": [
    "x = int(input(\"Enter an integer number: \"))\n",
    "is_in_range = 0 < x and x <= 10\n",
    "print(f\"Is {x} in range? {is_in_range}\") "
   ]
  },
  {
   "cell_type": "markdown",
   "metadata": {},
   "source": [
    "This example also shows how comparisons that result in Boolean values and Boolean operations can be combined into more complex Boolean expressions. Here another, maybe more meaningful example:"
   ]
  },
  {
   "cell_type": "code",
   "execution_count": 7,
   "metadata": {},
   "outputs": [
    {
     "name": "stdout",
     "output_type": "stream",
     "text": [
      "Which day of the week is it? Wednesday\n",
      "What time is it? (hh:mm) 12:45\n",
      "Lecture time? False\n"
     ]
    }
   ],
   "source": [
    "weekday = input(\"Which day of the week is it? \")\n",
    "time = input(\"What time is it? (hh:mm) \")\n",
    "is_lecturetime = (weekday == \"Wednesday\" or weekday == \"Friday\") \\\n",
    "and time >= \"13:15\" and time <= \"15:00\"\n",
    "print(f\"Lecture time? {is_lecturetime}\")"
   ]
  },
  {
   "cell_type": "markdown",
   "metadata": {},
   "source": [
    "Note that Python performs a \"lazy evaluation\" of Boolean expressions, that is, it will process the expression from left to right, but only until the point where a certain decision can be made if it evaluates to ```True``` or ```False```. For example, when we enter “Tuesday” in the program above, the evaluation will stop after the check for Friday, at it is clear at this point that the and expression cannot become ```True``` any more. If we enter “Wednesday”, it will skip the test for Friday, but it still it needs to confirm both of the times to be sure that it is lecture time (and can stop after one of them fails). Taking into account this lazy evaluation behavior can help to write more efficient evaluations, for example by checking those things first that can already determine the result of the complete expression, or by performing \"expensive\" calls (e.g. to external databases) only when it is really needed for determining the outcome. In the program above it might be somewhat faster to check the times first and then the day, but for human readers it is more logical to check the day first."
   ]
  },
  {
   "cell_type": "markdown",
   "metadata": {},
   "source": [
    "## The `if` statement\n",
    "\n",
    "Now let’s see how we can use Boolean expressions for implementing conditional branching in Python programs. This will allow us to not only print out the bare Boolean values as we did above, but to actually react on whether something is true or false. What we need is the ```if``` statement. Here is a simple example:"
   ]
  },
  {
   "cell_type": "code",
   "execution_count": 8,
   "metadata": {},
   "outputs": [
    {
     "name": "stdout",
     "output_type": "stream",
     "text": [
      "What is your name? Anna\n"
     ]
    }
   ],
   "source": [
    "name = input(\"What is your name? \")\n",
    "if name == \"Jane\":\n",
    "    print(\"Hello Jane, nice to see you again!\") "
   ]
  },
  {
   "cell_type": "markdown",
   "metadata": {},
   "source": [
    "In the first line the program reads an input (name) from the user. In the next line, it checks if the name is “Jane”, and only if that is ```True``` the following line is executed. If it is ```False```, nothing else happens.\n",
    "\n",
    "If we want something to happen also for the case the checked condition is False, we can add an else statement. For example:"
   ]
  },
  {
   "cell_type": "code",
   "execution_count": 9,
   "metadata": {},
   "outputs": [
    {
     "name": "stdout",
     "output_type": "stream",
     "text": [
      "What is your name? Anna\n",
      "Hello Anna, nice to meet you!\n"
     ]
    }
   ],
   "source": [
    "name = input(\"What is your name? \")\n",
    "if name == \"Jane\":\n",
    "    print(\"Hello Jane, nice to see you again!\")\n",
    "else:\n",
    "    print(f\"Hello {name}, nice to meet you!\") "
   ]
  },
  {
   "cell_type": "markdown",
   "metadata": {},
   "source": [
    "And if we want to distinguish even more than two cases, we can furthermore add ```elif``` (Python’s abbreviation for “else if”) statements. For example:"
   ]
  },
  {
   "cell_type": "code",
   "execution_count": 10,
   "metadata": {},
   "outputs": [
    {
     "name": "stdout",
     "output_type": "stream",
     "text": [
      "What is your name? Kim\n",
      "Hello Kim, nice to see you again!\n"
     ]
    }
   ],
   "source": [
    "name = input(\"What is your name? \")\n",
    "if name == \"Jane\":\n",
    "    print(\"Hello Jane, nice to see you again!\")\n",
    "elif name == \"Steven\":\n",
    "    print(\"Hello Steven, nice to see you again!\")\n",
    "elif name == \"Kim\":\n",
    "    print(\"Hello Kim, nice to see you again!\")\n",
    "else:\n",
    "    print(f\"Hello {name}, nice to meet you!\")"
   ]
  },
  {
   "cell_type": "markdown",
   "metadata": {},
   "source": [
    "With the if statement we can also rewrite the Boolean expression examples from above to produce nicer outputs:"
   ]
  },
  {
   "cell_type": "code",
   "execution_count": 11,
   "metadata": {},
   "outputs": [
    {
     "name": "stdout",
     "output_type": "stream",
     "text": [
      "Enter an integer number: 8\n",
      "8 is in range.\n"
     ]
    }
   ],
   "source": [
    "x = int(input(\"Enter an integer number: \"))\n",
    "if 0 < x and x <= 10:\n",
    "    print(f\"{x} is in range.\")\n",
    "else:\n",
    "    print(f\"{x} is not in range\")"
   ]
  },
  {
   "cell_type": "code",
   "execution_count": 12,
   "metadata": {},
   "outputs": [
    {
     "name": "stdout",
     "output_type": "stream",
     "text": [
      "Which day of the week is it? Wednesday\n",
      "What time is it? (hh:mm) 12:45\n",
      "It is homework time!\n"
     ]
    }
   ],
   "source": [
    "weekday = input(\"Which day of the week is it? \")\n",
    "time = input(\"What time is it? (hh:mm) \")\n",
    "if (weekday == \"Wednesday\" or weekday == \"Friday\") and \\\n",
    "    time >= \"13:15\" and time <= \"15:00\":\n",
    "    print(\"It is lecture time!\")\n",
    "elif (weekday == \"Wednesday\" or weekday == \"Friday\") and \\\n",
    "    time >= \"15:15\" and time <= \"17:00\":\n",
    "    print(\"It is lab time!\")\n",
    "else:\n",
    "    print(\"It is homework time!\") "
   ]
  },
  {
   "cell_type": "markdown",
   "metadata": {},
   "source": [
    "So, the basic structure for conditional branching with in Python can be described as follows (where ```elif``` and ```else``` are optional and there can be more than one ```elif```):\n",
    "\n",
    "```\n",
    "if <some condition>:\n",
    "    <do something>\n",
    "elif <some condition>:\n",
    "    <do something else>\n",
    "else:\n",
    "    <do something else>\n",
    "```\n",
    "\n",
    "Two things are important to note here:\n",
    "\n",
    "1.\tThere can be more than one line of code after the ```if/elif/else``` statements that is executed for the respective case. These lines of code together are then called a block. Blocks can contain further ```if/elif/else``` statements.\n",
    "\n",
    "\n",
    "2.\tIndentation is important. The ```if/elif/else``` blocks are indented by exactly four spaces (in most Python editors the TAB key will insert them automatically) to denote that they belong to the block for the respective case. The next code after the if-statement is simply not indented. (We will see later that Python uses this “meaningful whitespace” also for other constructs. Many other languages use additional parentheses for the same purpose.)\n",
    "\n",
    "Here is a slightly more complex example to illustrate the above:"
   ]
  },
  {
   "cell_type": "code",
   "execution_count": 13,
   "metadata": {},
   "outputs": [
    {
     "name": "stdout",
     "output_type": "stream",
     "text": [
      "Enter a number:12\n",
      "Enter another number:12\n",
      "The numbers are the same\n",
      "(What a boring input…)\n",
      "Thanks for using this program.\n"
     ]
    }
   ],
   "source": [
    "a = float(input(\"Enter a number:\"))\n",
    "b = float(input(\"Enter another number:\")) \n",
    "                \n",
    "if a == b:\n",
    "    print(\"The numbers are the same\")\n",
    "    print(\"(What a boring input…)\")\n",
    "else:\n",
    "    if a > b:\n",
    "        print(f\"{a} is greater than {b}.\")\n",
    "        print(f\"{a/b:.1f} times greater, to be more precise.\")\n",
    "    else:\n",
    "        print(f\"{b} is greater than {a}.\")\n",
    "        print(f\"{b/a:.1f} times greater, to be more precise.\")\n",
    "                \n",
    "print(\"Thanks for using this program.\")\n"
   ]
  },
  {
   "cell_type": "markdown",
   "metadata": {},
   "source": [
    "## By the way: Binary Numbers\n",
    "\n",
    "True/False, 1/0, binary numbers… Does that somehow belong together? Yes, it does indeed. You have probably heard people saying that computers work with 1s and 0s, and often graphics or movie scenes that have something to do with computers or hackers or anything like that are heavily decorated with sequences of these two numbers… However, we don’t (usually) see anything of that when writing software with a high-level language like Python. There are several layers that translate between our Python program and the bare machine, most importantly the interpreter and the operating system. On the lowest level, the voltage in memory cells is interpreted as 1 (voltage above a certain threshold, present, or True) or 0 (below, not present, or False). This smallest unit of meaningful information is called a bit. 8 bits form one byte. Let’s look at a random example:\n"
   ]
  },
  {
   "cell_type": "markdown",
   "metadata": {},
   "source": [
    "|1|1|0|1|0|0|1|0|\n",
    "| :-: | :-: | :-: | :-: | :-: | :-: | :-: | :-: |\n",
    "|x2$^7$|x2$^6$|x2$^5$|x2$^4$|x2$^3$|x2$^2$|x2$^1$|x2$^0$|\n",
    "|128|64|0|16|0|0|2|0|"
   ]
  },
  {
   "cell_type": "markdown",
   "metadata": {},
   "source": [
    "The first row represents the 8-bit binary number 11010010. If it was a “normal” decimal number, we would interpret its last digit as 0x1 (or 0x10$^0$), its second to last digit as 1x10 (or 1x10$^1$), its third to last digit as 0x100 (or 0x10$^2$), etc. In the binary system, the base is however not 10, but 2, so the places in the number represent the amount of 1 (2$^0$), 2 (2$^1$), 4 (2$^2$), etc in it. The third row in the table is thus the result of the multiplications of the two cells above. When we add them together, we get the decimal representation of 11010010, which is 210. This is often also written as 11010010$_{(2)}$ = 210$_{(10)}$ to make clear which numeral system is used. Note that in principle all integer numbers can be used as base (how useful that is is another question). Another system that is sometimes used in computing is the hexadecimal system, with base 16, which uses the letters A-F in addition to the decimal digits 0-9 to be able to represent the numbers.\n",
    "\n",
    "At the end of the day all operations that are carried out on a computer and all data that is processed are represented as binary numbers. Modern computers have 32 or 64 bit CPU architectures, which means that they have the respective number of bits available for the representing the instruction set of the corresponding machine language. Modern harddrives easily store terabytes of data, and the working memory (RAM) of modern computers can also hold several gigabytes of data.\n",
    "\n",
    "As mentioned above, one does usually not see anything of binary numbers when working with high-level languages like Python. Certainly not in most data science applications, but they can be useful for en-/decryption purposes or for smart memory management in programs that are supposed to run on embedded systems, where programs need to make more efficient use of the limited available resources. Therefore, also Python supports some arithmetic operations that make sense on the binary representation of numbers:\n",
    "\n",
    "    <<   (left shift, shifting the bits of the number to the left)\n",
    "\t>>   (right shift, shifting the bits of the number to the right)\n",
    "\t&\t(bit-wise AND of the numbers)\n",
    "\t|\t(bit-wise OR of the numbers)\n",
    "\t^\t(bit-wise XOR of the numbers)\n",
    "\t~\t(bit-wise invert of the number)\n",
    "\n",
    "The following Python codes uses the ```bin()``` function to illustrate the operations:"
   ]
  },
  {
   "cell_type": "code",
   "execution_count": 14,
   "metadata": {},
   "outputs": [
    {
     "name": "stdout",
     "output_type": "stream",
     "text": [
      "210 << 2 results in 840 because 0b11010010 << 2 is 0b1101001000\n",
      "210 >> 2 results in 52 because 0b11010010 >> 2 is 0b110100\n",
      "210 & 7 results in 2 because 0b11010010 & 0b111 is 0b10\n",
      "210 | 7 results in 215 because 0b11010010 | 0b111 is 0b11010111\n",
      "210 ^ 7 results in 213 because 0b11010010 ^ 0b111 is 0b11010101\n",
      "~210 results in -211 because ~0b11010010 is -0b11010011\n"
     ]
    }
   ],
   "source": [
    "number = 210\n",
    "print(f\"{number} << 2 results in {number << 2} because \"\\\n",
    "      f\"{bin(number)} << 2 is {bin(number << 2)}\")\n",
    "print(f\"{number} >> 2 results in {number >> 2} because \" \\\n",
    "      f\"{bin(number)} >> 2 is {bin(number >> 2)}\")\n",
    "print(f\"{number} & 7 results in {number & 7} because \"\\\n",
    "      f\"{bin(number)} & {bin(7)} is {bin(number & 7)}\")\n",
    "print(f\"{number} | 7 results in {number | 7} because \" \\\n",
    "      f\"{bin(number)} | {bin(7)} is {bin(number | 7)}\")\n",
    "print(f\"{number} ^ 7 results in {number ^ 7} because \" \\\n",
    "      f\"{bin(number)} ^ {bin(7)} is {bin(number ^ 7)}\")\n",
    "print(f\"~{number} results in {~ number} because \" \\\n",
    "      f\"~{bin(number)} is {bin(~ number)}\") "
   ]
  },
  {
   "cell_type": "markdown",
   "metadata": {},
   "source": [
    "Most of the bit-wise operations should be self-explanatory when looking at the binary representation of the numbers. The last, the bit-wise invert, causes the number to become negative. This is because (not shown in our simplified representation) there is one designated bit (typically the first) in a bit sequence representing a binary number that is 1 to indicate a positive number. If it is flipped to 0, the whole number becomes negative."
   ]
  },
  {
   "cell_type": "markdown",
   "metadata": {},
   "source": [
    "## Exercises"
   ]
  },
  {
   "cell_type": "markdown",
   "metadata": {},
   "source": [
    "Please use Quarterfall to submit and check your answers. "
   ]
  },
  {
   "cell_type": "markdown",
   "metadata": {},
   "source": [
    "### 1. Age Check (★★☆☆☆)\n",
    "Write a program that asks the user to enter their age. If it is under 18, the program should display a message to refuse entry, otherwise invite the user to come in. The output should be something like: \n",
    "```\n",
    "How old are you (in years)? 15\n",
    "Sorry, you are not allowed to enter.\n",
    "How old are you (in years)? 29\n",
    "Welcome! Please come in.\n",
    "```"
   ]
  },
  {
   "cell_type": "markdown",
   "metadata": {},
   "source": [
    "### 2. Divisibility (★★★☆☆)\n",
    "Write a program that asks the user to enter two integer numbers, then checks if the first number is divisible by the second number and informs the user accordingly. The output should be something like:\n",
    "```\n",
    "Please enter an integer number: 15\n",
    "Please enter another integer number: 5\n",
    "15 is divisible by 5.\n",
    "Please enter an integer number: 12\n",
    "Please enter another integer number: 5\n",
    "12 is not divisible by 5.\n",
    "```"
   ]
  },
  {
   "cell_type": "markdown",
   "metadata": {},
   "source": [
    "### 3.  BMI Calculation Revisited (★★★☆☆)\n",
    "Extend the BMI calculation program from the last homework so that after informing the user about the calculated BMI, it also prints out if the BMI is within the range that is generally considered normal (between 18.5 and 25) or higher (above 25) or lower (below 18.5) than that. The output of the modified program should then be something like:\n",
    "```\n",
    "Welcome to the BMI calculator.\n",
    "What is your name? John Doe\n",
    "What is your weight (in kg)? 78\n",
    "What is your height (in m)? 1.82\n",
    "Hello John Doe, your BMI is 23.5.\n",
    "Your BMI is normal.\n",
    "```"
   ]
  },
  {
   "cell_type": "markdown",
   "metadata": {},
   "source": [
    "### 4. Morning Coffee (★★★☆☆)\n",
    "Write a program that pretends to be your waiter, bringing your morning coffee with optional milk/sugar, like in the Activity Diagram that we discussed in the lecture in the first week. The program should ask the user regarding milk and sugar, and the output should be something like:\n",
    "```\n",
    "Good morning! I made coffee for you.\n",
    "Do you want to add milk? (y/n) y\n",
    "I added milk.\n",
    "Do you want to add sugar? (y/n) n\n",
    "Ok, no sugar.\n",
    "Enjoy!\n",
    "```"
   ]
  },
  {
   "cell_type": "markdown",
   "metadata": {},
   "source": [
    "### 5. Diagnostics (★★★☆☆)\n",
    "Influenza-like illness is characterized by the patients having fever, cough, and one or more of the following symptoms: sore throat, joint and muscle pain, complete exhaustion. Write a Python program that asks a patient about the symptoms (if the patient has them or not), and from that determines if influenza-like illness is likely or not. Use only one Boolean expression for that (one if-statement). The output should be something like:\n",
    "```\n",
    "Do you have fever? (y/n) y\n",
    "Do you have a cough? (y/n) y\n",
    "Do you have a sore throat? (y/n) n\n",
    "Do you have joint and muscle pain? (y/n) n\n",
    "Do you experience complete exhaustion? (y/n) y\n",
    "I think you have influenza-like illness. Please consult your GP.\n",
    "Do you have fever? (y/n) y\n",
    "Do you have a cough? (y/n) n\n",
    "Do you have a sore throat? (y/n) y\n",
    "Do you have joint and muscle pain? (y/n) y\n",
    "Do you experience complete exhaustion? (y/n) n\n",
    "I don't know what you have, but it does not seem to be influenza-like illness. Please consult your GP.\n",
    "```"
   ]
  },
  {
   "cell_type": "markdown",
   "metadata": {},
   "source": [
    "### 6. Grade Calculation (★★★★☆)\n",
    "Write a program that calculates the grade for “Computational Thinking and Programming in Python”. It should first ask if a student took part in all three examination parts (midterm, final exam, projects). If not, it should send the student to the lecturer to discuss the situation. Otherwise, it reads in the grades. It checks if midterm, final exam and average project grade are all >= 4. If not, the course is failed. If they are, it checks if the weighted average (the midterm accounts for 20% of the final grade, the final exam for 40%, and the four projects for 10% each) is >= 6. If not, send the student to the retake exam. If it is, print out the final grade to the screen. The output should be something like: \n",
    "```\n",
    "Hello student, welcome to grade calculation!\n",
    "Have you taken part in all examination parts (midterm, final exam, project? (yes/no)  no\n",
    "Please go to the lecturer to discuss your situation.\n",
    "```\n",
    "```\n",
    "Have you taken part in all examination parts (midterm, final exam, project? (yes/no)  yes\n",
    "Please enter your midterm grade:  6\n",
    "Please enter your final exam grade:  8\n",
    "Please enter your project 1 grade:  7\n",
    "Please enter your project 2 grade:  7.5\n",
    "Please enter your project 3 grade:  4\n",
    "Please enter your project 4 grade:  7\n",
    "Congratulations, you passed the course with grade 7.0.\n",
    "```\n",
    "```\n",
    "Hello student, welcome to grade calculation!\n",
    "Have you taken part in all examination parts (midterm, final exam, project? (yes/no)  yes\n",
    "Please enter your midterm grade:  4\n",
    "Please enter your final exam grade:  5\n",
    "Please enter your project 1 grade:  5\n",
    "Please enter your project 2 grade:  7\n",
    "Please enter your project 3 grade:  2\n",
    "Please enter your project 4 grade:  4\n",
    "You have to take part in the retake exam.\n",
    "```\n"
   ]
  },
  {
   "cell_type": "markdown",
   "metadata": {},
   "source": [
    "## Extras for the Weekend\n",
    "In the lecture we talked about binary numbers. Maybe you now find “binary jokes” funny, like those collected in http://amagicclassroom.com/uploads/3/4/5/2/34528828/math_binary_jokes.pdf. If you like that, ask Google for more binary or boolean or programmer jokes, there are plenty… \n",
    "\n",
    "If you want to test your understanding of binary numbers, try the decimal-to-binary quiz at http://www.free-test-online.com/binary/decimal2binary.htm or the binary-to-decimal quiz at http://www.free-test-online.com/binary/binary2decimal.htm. "
   ]
  }
 ],
 "metadata": {
  "kernelspec": {
   "display_name": "Python 3",
   "language": "python",
   "name": "python3"
  },
  "language_info": {
   "codemirror_mode": {
    "name": "ipython",
    "version": 3
   },
   "file_extension": ".py",
   "mimetype": "text/x-python",
   "name": "python",
   "nbconvert_exporter": "python",
   "pygments_lexer": "ipython3",
   "version": "3.7.4"
  }
 },
 "nbformat": 4,
 "nbformat_minor": 4
}
