{
 "cells": [
  {
   "cell_type": "markdown",
   "metadata": {},
   "source": [
    "# Module 8: File I/O and Error Handling\n",
    "March 4, 2022"
   ]
  },
  {
   "cell_type": "markdown",
   "metadata": {},
   "source": [
    "Last time we covered data structures (lists, tuples, dictionaries, sets) in Python that allow us to work with more powerful data items than just the individual numbers, strings and Booleans that we had used before. We also discussed the important difference between call by value and call by reference.\n",
    "\n",
    "Until now the course dealt with the basics of imperative programming in Python, and you have learned about the most important concepts that you need as a programmer. We will now leave the relatively secluded, controlled environment that we were in so far and look at how to read and write data from and to files, access online resources, use external libraries, and connected to that how to make programs more robust against errors that come from “the outside”. \n",
    "\n",
    "Today we will cover how to read and write files in general, how to deal with CSV files in particular, and how to handle runtime errors that can for example be caused by user inputs or file operations.\n",
    "\n",
    "Next time we will have a look at fetching data and other resources from the internet, and how to interact with web services from within Python programs. "
   ]
  },
  {
   "cell_type": "markdown",
   "metadata": {},
   "source": [
    "## Reading and Writing Files\n",
    "\n",
    "Python distinguishes between only two types of files: **text and binary**. Basically, anything that is not a text file is regarded as a binary. Text files are sequences of lines, which are themselves sequences of characters that are terminated with a special end-of-line (EOL) character, often the newline character. The content of text files can be processed with the common string manipulation functionality, while processing binary files requires knowledge about their structure. For the moment we are only concerned with text files.\n",
    "\n",
    "To open a file, first a file object needs to be created with the ```open()``` function:\n",
    "\n",
    "```\n",
    "<file_object> = open(<filename>, <mode>)\n",
    "```\n",
    "\n",
    "```<filename>``` is the name (path) of the file to open, and ```<mode>``` specifies for which kind of processing the file is opened (\"r\" for reading content, \"w\" for writing content, \"a\" for appending content, or \"r+\" for a special read and write mode).  For example:"
   ]
  },
  {
   "cell_type": "code",
   "execution_count": null,
   "metadata": {},
   "outputs": [],
   "source": [
    "# create a file object in reading mode\n",
    "file = open(\"data/shorttext.txt\", \"r\")\n",
    "print(file)\n",
    "file.close()"
   ]
  },
  {
   "cell_type": "markdown",
   "metadata": {},
   "source": [
    "When the file is opened, operations according to the chosen mode can be carried out. When all operations on the file have been performed, the file should be closed again to avoid unintended side effects:\n",
    "```\n",
    "file.close()\n",
    "```\n",
    "Play around with the following code examples and a small text file if your choice to see what happens. Add printouts to visualize what has been read by the different commands.\n",
    "\n",
    "For example, when opened in reading mode we can call different functions for reading content from the file:"
   ]
  },
  {
   "cell_type": "code",
   "execution_count": null,
   "metadata": {},
   "outputs": [],
   "source": [
    "# creating a file object in reading mode\n",
    "file = open(\"data/shorttext.txt\", \"r\")\n",
    "\n",
    "# file.read() to read all characters in the file\n",
    "# content = file.read()\n",
    "# print(content)\n",
    "\n",
    "# file.read(n) to read the first/next n characters of the file\n",
    "# first_n = file.read(10)\n",
    "# print(first_n)\n",
    "\n",
    "# file.readline() to read a (the first/next) line of the file\n",
    "# first_line = file.readline()\n",
    "# print(first_line)\n",
    "\n",
    "# file.readlines to read the content of the files line by line\n",
    "lines = file.readlines()\n",
    "print(lines)\n",
    "\n",
    "# close file\n",
    "file.close()"
   ]
  },
  {
   "cell_type": "markdown",
   "metadata": {},
   "source": [
    "When opened in writing mode, we can call diffent functions to write text into the file:"
   ]
  },
  {
   "cell_type": "code",
   "execution_count": null,
   "metadata": {},
   "outputs": [],
   "source": [
    "# creating a file object in writing mode\n",
    "file = open(\"data/textdump.txt\", \"w\")\n",
    "\n",
    "# file.write to write (or append) text to a file\n",
    "file.write(\"Hello World!\\n\")\n",
    "file.write(\"It's cold today...\\n\")\n",
    "file.writelines([\"Another line\\n\", \"and another line\\n\"]) \n",
    "\n",
    "# close file\n",
    "file.close()"
   ]
  },
  {
   "cell_type": "markdown",
   "metadata": {},
   "source": [
    "Change this example from writing to appending mode (parameter \"a\") and see what the difference is."
   ]
  },
  {
   "cell_type": "markdown",
   "metadata": {},
   "source": [
    "With the ```with```-statement, Python provides an alternative, elegant way to handle files. It also takes care of closing the file, so it is a good idea to make it a habit to use it for file handling (and never forget closing):"
   ]
  },
  {
   "cell_type": "code",
   "execution_count": null,
   "metadata": {},
   "outputs": [],
   "source": [
    "with open(\"data/shorttext.txt\", \"r\") as file:\n",
    "    content = file.read()\n",
    "    \n",
    "with open(\"data/newtext.txt\", \"w\") as file:\n",
    "    file.write(\"Hello World!\\n\")\n",
    "    file.write(\"It's cold today...\\n\")\n",
    "    file.writelines([\"Another line\\n\", \"and another line\\n\"])"
   ]
  },
  {
   "cell_type": "markdown",
   "metadata": {},
   "source": [
    "Note that here is also a short and elegant way to iterate over all lines of a file, without explicitly calling ```readlines()``` before:\n",
    "\n",
    "```\n",
    "for line in file:\n",
    "    <do something with line>\n",
    "```    \n",
    "    \n",
    "As a more complete example, see the following code to read the text from a file, encrypt it using the Caesar cipher, and write it into another file:"
   ]
  },
  {
   "cell_type": "code",
   "execution_count": null,
   "metadata": {},
   "outputs": [],
   "source": [
    "from caesarcipher import CaesarCipher\n",
    "\n",
    "with open(\"data/shorttext.txt\", \"r\") as file:\n",
    "    content = file.read()\n",
    "    \n",
    "content_encrypted = CaesarCipher(content, offset=3)\n",
    "\n",
    "with open(\"data/shorttext_encrypted.txt\", \"w\") as file:\n",
    "    file.write(content_encrypted.encoded)"
   ]
  },
  {
   "cell_type": "markdown",
   "metadata": {},
   "source": [
    "This code produces no output on the command line, but if you try it with a text file yourself, you will see the effect in the new file that is created."
   ]
  },
  {
   "cell_type": "markdown",
   "metadata": {},
   "source": [
    "![](img/activity_small.png) Challenge!\n",
    "\n",
    "Create a function that receives a filename and counts the number of times each word appears in the text file.\n",
    "\n",
    "Hints:\n",
    "1. Use a dictionary to store the word frequencies\n",
    "2. Don't care for punctuation \n",
    "3. Use a loop to go over the words\n",
    "4. Use the ```split()``` method to get the list of words from a string. E.g. "
   ]
  },
  {
   "cell_type": "code",
   "execution_count": null,
   "metadata": {},
   "outputs": [],
   "source": [
    "text = \"this is a sample text\"\n",
    "text.split()"
   ]
  },
  {
   "cell_type": "code",
   "execution_count": null,
   "metadata": {},
   "outputs": [],
   "source": [
    "def word_frequencies(file):\n",
    "    frequencies = {}\n",
    "    with open(file, \"r\") as file:\n",
    "        content = file.read()\n",
    "        for word in content.split():\n",
    "            if word in frequencies:\n",
    "                frequencies[word] += 1\n",
    "            else:\n",
    "                frequencies[word] = 1\n",
    "        return frequencies\n",
    "    \n",
    "word_frequencies(\"data/shorttext.txt\")"
   ]
  },
  {
   "cell_type": "markdown",
   "metadata": {},
   "source": [
    "## Dealing With CSV Files\n",
    "Let's look at another kind of text file, that you will frequently come across when working on data science problems: CSV files. CSV stands for \"comma-separated values\" and means that commas are used to separate the values in a line from each other. Sometimes also other characters are used as separators, such as the tabulator \"\\t\" or the semicolon \";\", so don't be confused if you see that. As such, CSV files are a simple means to represent tabular data. The following example is based on the Dutch municipalities data set from Kaggle (https://www.kaggle.com/justinboon/municipalities-of-the-netherlands/data), stored in the file dutch_municipalities.csv. We can open and read this file as in the examples above:"
   ]
  },
  {
   "cell_type": "code",
   "execution_count": null,
   "metadata": {},
   "outputs": [],
   "source": [
    "with open(\"data/dutch_municipalities.csv\", \"r\") as csvfile:\n",
    "    print(csvfile.read())"
   ]
  },
  {
   "cell_type": "markdown",
   "metadata": {},
   "source": [
    "In this form (as one long string) the content of the CSV file is of course not of too much use, as it is difficult to access individual elements from it. Instead of reading the content file completely, we could read it line by line (getting a list of lines), and then split the lines at the separator to create a list or dictionary of the elements in each row of the table, resulting in big list of lists or list of dictionaries. Luckily, however, CSV files are so common that there is a package called csv that provides this and other frequently needed functionality for working with CSV files (please refer to the online documentation at https://docs.python.org/3/library/csv.html for full reference). Here are some examples of what working with the package can look like:"
   ]
  },
  {
   "cell_type": "code",
   "execution_count": null,
   "metadata": {},
   "outputs": [],
   "source": [
    "# import the csv library\n",
    "import csv\n",
    "\n",
    "# csv.reader returns the content of the file as list of lists of strings\n",
    "with open(\"data/dutch_municipalities.csv\", \"r\") as csvfile:\n",
    "    csvreader = csv.reader(csvfile, delimiter='\\t')\n",
    "    for row in csvreader:\n",
    "        print(row[0])"
   ]
  },
  {
   "cell_type": "code",
   "execution_count": null,
   "metadata": {},
   "outputs": [],
   "source": [
    "# csv.DictReader returns the content of the file as list of dictionaries, using the first row of the CSV file as keys\n",
    "with open(\"data/dutch_municipalities.csv\", \"r\") as csvfile:\n",
    "    csvreader = csv.DictReader(csvfile, delimiter='\\t')\n",
    "    for row in csvreader:\n",
    "        print(f'{row[\"municipality\"]}: {row[\"university\"]}')"
   ]
  },
  {
   "cell_type": "code",
   "execution_count": null,
   "metadata": {},
   "outputs": [],
   "source": [
    "# same as the previous example, but printing only municipalitiers with at least one university\n",
    "with open(\"data/dutch_municipalities.csv\", \"r\") as csvfile:\n",
    "    csvreader = csv.DictReader(csvfile, delimiter='\\t')\n",
    "    for row in csvreader:\n",
    "        if int(row[\"university\"]) != 0:\n",
    "            print(f'{row[\"municipality\"]}: {row[\"university\"]}')"
   ]
  },
  {
   "cell_type": "markdown",
   "metadata": {},
   "source": [
    "![](img/activity_small.png)  Challenge!\n",
    "\n",
    "Write a code to print only the municipalities with an average household income above 40000"
   ]
  },
  {
   "cell_type": "code",
   "execution_count": null,
   "metadata": {},
   "outputs": [],
   "source": [
    "with open(\"data/dutch_municipalities.csv\", \"r\") as csvfile:\n",
    "    csvreader = csv.DictReader(csvfile, delimiter='\\t')\n",
    "    for row in csvreader:\n",
    "        if int(row[\"avg_household_income_2012\"]) > 40000:\n",
    "            print(f'{row[\"municipality\"]}: {row[\"province\"]}')"
   ]
  },
  {
   "cell_type": "code",
   "execution_count": null,
   "metadata": {},
   "outputs": [],
   "source": [
    "with open(\"data/dutch_municipalities.csv\", \"r\") as csvfile:\n",
    "    csvreader = csv.DictReader(csvfile, delimiter='\\t')\n",
    "    for row in csvreader:\n",
    "        income = row[\"avg_household_income_2012\"]\n",
    "        if income != \"\" and int(row[\"avg_household_income_2012\"]) > 40000:\n",
    "            print(f'{row[\"municipality\"]}: {row[\"province\"]}')"
   ]
  },
  {
   "cell_type": "markdown",
   "metadata": {},
   "source": [
    "### Pandas"
   ]
  },
  {
   "cell_type": "markdown",
   "metadata": {},
   "source": [
    "If you want to do more advanced things with the data from CSV files, like for example merge, join, or concatenate tables from different CSV files, you can absolutely do that with CSV files read in as above and the knowledge about loops, conditions, list, dictionaries etc. that you have, but it can be a bit tricky. This is why when such operations are (likely to be) needed, it is usually recommended to use the pandas library (http://pandas.pydata.org/), which has some specialized functions for this.\n",
    "\n",
    "Pandas has an own function for reading CSV files, which returns the result as a so-called data frame, as shown in the following example:"
   ]
  },
  {
   "cell_type": "code",
   "execution_count": null,
   "metadata": {},
   "outputs": [],
   "source": [
    "import pandas as pd\n",
    "\n",
    "df = pd.read_csv('data/dutch_municipalities.csv', sep=\"\\t\")\n",
    "print(df)"
   ]
  },
  {
   "cell_type": "markdown",
   "metadata": {},
   "source": [
    "Data frames are two-dimensional labeled data structures, very much like tables. The rows are labeled by an index (typically ascending from 0), and the columns are labeled by the column names, corresponding to the kind of data that is contained in them. See https://pandas.pydata.org/pandas-docs/stable/dsintro.html#dataframe for further details.\n",
    "\n"
   ]
  },
  {
   "cell_type": "markdown",
   "metadata": {},
   "source": [
    "<figure>\n",
    "  <img src=\"https://www.w3resource.com/w3r_images/pandas-data-frame.svg\" alt=\"Pandas data frame\" style=\"width:45%\">\n",
    "  <figcaption>Souce: https://www.w3resource.com/</figcaption>\n",
    "</figure>"
   ]
  },
  {
   "cell_type": "markdown",
   "metadata": {},
   "source": [
    "The ```head()``` method return the first ```n``` rows (default = 5) of a data frame. It is useful for quickly testing if your object has the right type of data in it."
   ]
  },
  {
   "cell_type": "code",
   "execution_count": null,
   "metadata": {},
   "outputs": [],
   "source": [
    "df.head()"
   ]
  },
  {
   "cell_type": "markdown",
   "metadata": {},
   "source": [
    "Data frames have a number of attributes, such as the column labels, the row indices and the types of the data in the columns (see a full list at https://pandas.pydata.org/pandas-docs/stable/reference/api/pandas.DataFrame.html), that can be accessed as illustrated below:"
   ]
  },
  {
   "cell_type": "code",
   "execution_count": null,
   "metadata": {},
   "outputs": [],
   "source": [
    "print(df.index)\n",
    "print(\"----------\")\n",
    "print(df.columns)\n",
    "print(\"----------\")\n",
    "print(df.dtypes)"
   ]
  },
  {
   "cell_type": "markdown",
   "metadata": {},
   "source": [
    "The ```info()``` method prints a concise summary of a DataFrame:"
   ]
  },
  {
   "cell_type": "code",
   "execution_count": null,
   "metadata": {},
   "outputs": [],
   "source": [
    "print(df.info())"
   ]
  },
  {
   "cell_type": "markdown",
   "metadata": {},
   "source": [
    "Via the ```iloc``` attribute we can access a row by its index, for example:"
   ]
  },
  {
   "cell_type": "code",
   "execution_count": null,
   "metadata": {},
   "outputs": [],
   "source": [
    "print(df.iloc[39])\n",
    "print(\"----------\")\n",
    "print(type(df.iloc[39]))"
   ]
  },
  {
   "cell_type": "markdown",
   "metadata": {},
   "source": [
    "Apparently, such single row of a data frame is of type “Series” (see https://pandas.pydata.org/pandas-docs/stable/reference/series.html for full reference), which basically means a one-dimensional labeled data structure. Series are iterable. You have maybe already noticed that many functions in, e.g., pandas and matplotlib take Series as input, and this is one way to get them.\n",
    "\n",
    "Slicing works with ```iloc```, too, so a range of indices can be used to access several rows at a time. The result is of type “DataFrame” again:"
   ]
  },
  {
   "cell_type": "code",
   "execution_count": null,
   "metadata": {},
   "outputs": [],
   "source": [
    "print(df.iloc[39:42])\n",
    "print(\"----------\")\n",
    "print(type(df.iloc[39:42]))"
   ]
  },
  {
   "cell_type": "markdown",
   "metadata": {},
   "source": [
    "Similarly, a list of indices (not necessarily a range) can be used:"
   ]
  },
  {
   "cell_type": "code",
   "execution_count": null,
   "metadata": {},
   "outputs": [],
   "source": [
    "print(df.iloc[[38,40,42]]) \n",
    "print(\"----------\")\n",
    "print(type(df.iloc[[38,40,42]]))"
   ]
  },
  {
   "cell_type": "markdown",
   "metadata": {},
   "source": [
    "The ```iloc``` access can also be used for indexing at both axes of the data frame, including accessing a single element (note the different resulting data types):"
   ]
  },
  {
   "cell_type": "code",
   "execution_count": null,
   "metadata": {},
   "outputs": [],
   "source": [
    "print(df.iloc[1:3,1:3])\n",
    "print(\"----------\")\n",
    "print(type(df.iloc[1:3,1:3]))\n",
    "print(\"----------\")\n",
    "print(df.iloc[3,3])\n",
    "print(\"----------\")\n",
    "print(type(df.iloc[3,3]))"
   ]
  },
  {
   "cell_type": "markdown",
   "metadata": {},
   "source": [
    "Very similar to ```iloc```, the ```loc``` attribute can be used to access (groups of) rows and columns by their labels. For example (note the difference in the interpretation of the range now that the labels of the indexes are used):"
   ]
  },
  {
   "cell_type": "code",
   "execution_count": null,
   "metadata": {},
   "outputs": [],
   "source": [
    "print(df.loc[1:3,\"population\"])\n",
    "print(\"----------\")\n",
    "print(type(df.loc[1:3,\"population\"]))"
   ]
  },
  {
   "cell_type": "markdown",
   "metadata": {},
   "source": [
    "Without using any attributes, just in pairs of square brackets, columns in a dataframe can be addressed by their name. For example, to access the “murders_2014” column of our example data frame, it’s name can be used as reference:"
   ]
  },
  {
   "cell_type": "code",
   "execution_count": null,
   "metadata": {},
   "outputs": [],
   "source": [
    "print(df[\"population\"])\n",
    "print(\"----------\")\n",
    "print(type(df[\"population\"]))"
   ]
  },
  {
   "cell_type": "markdown",
   "metadata": {},
   "source": [
    "Again, the output is a Series, so this is another way to get this data structure.\n",
    "\n",
    "Accessing several columns at once is also possible, the result is a data frame:"
   ]
  },
  {
   "cell_type": "markdown",
   "metadata": {},
   "source": [
    "![](img/activity_small.png)  Challenge! (small)\n",
    "\n",
    "What is the diference between ```df[39]``` and ```df.iloc[39]```?"
   ]
  },
  {
   "cell_type": "code",
   "execution_count": null,
   "metadata": {},
   "outputs": [],
   "source": [
    "df.iloc[39]\n",
    "df[39]"
   ]
  },
  {
   "cell_type": "code",
   "execution_count": null,
   "metadata": {},
   "outputs": [],
   "source": [
    "print(df[[\"municipality\",\"population\"]])\n",
    "print(\"----------\")\n",
    "print(type(df[[\"municipality\",\"population\"]]))"
   ]
  },
  {
   "cell_type": "markdown",
   "metadata": {},
   "source": [
    "Another handy feature is to filter data frames based on certain criteria. For example, we might only want to see the data of municipalities with at least 150,000 inhabitants:"
   ]
  },
  {
   "cell_type": "code",
   "execution_count": null,
   "metadata": {},
   "outputs": [],
   "source": [
    "print(df[df[\"population\"]>=150000])"
   ]
  },
  {
   "cell_type": "markdown",
   "metadata": {},
   "source": [
    "Or the data for the province of Utrecht:"
   ]
  },
  {
   "cell_type": "code",
   "execution_count": null,
   "metadata": {},
   "outputs": [],
   "source": [
    "print(df[df[\"province\"]==\"Utrecht\"])"
   ]
  },
  {
   "cell_type": "markdown",
   "metadata": {},
   "source": [
    "Or for the municipalities in the province of Utrecht with at least 150,000 inhabitants:"
   ]
  },
  {
   "cell_type": "code",
   "execution_count": null,
   "metadata": {},
   "outputs": [],
   "source": [
    "print(df[ (df[\"province\"]==\"Utrecht\") & (df[\"population\"]>=150000) ])"
   ]
  },
  {
   "cell_type": "markdown",
   "metadata": {},
   "source": [
    "Note that are several other clever ways to access (ranges of) values in data frames, but discussing them all would be out of scope of this lecture. We will see some of them in the examples later on, but if you are interested in digging deeper into this, please refer to the official “Indexing and Selecting Data” guide at http://pandas.pydata.org/pandas-docs/stable/user_guide/indexing.html or ask Google if you are looking for hints how to index best in a specific situation.\n",
    "\n",
    "In the following we will look at a few methods that pandas data frames provide. This selection is by no means complete, either, but you can find the full list at https://pandas.pydata.org/pandas-docs/stable/reference/api/pandas.DataFrame.html.\n",
    "\n",
    "For example, there are methods to easily sum up values, or get basic statistic information like the max, min, mean and median values. Just to show a few:"
   ]
  },
  {
   "cell_type": "code",
   "execution_count": null,
   "metadata": {},
   "outputs": [],
   "source": [
    "print(f\"Population was {df['population'].sum()} in total.\")\n",
    "print(f\"The maximum population in a municipality was \"\\\n",
    "      f\"{df['population'].max()}.\")\n",
    "print(f\"The average population per municipality was \"\\\n",
    "      f\"{df['population'].mean():.3f}.\")\n",
    "print(f\"The average population per municipality with at \"\\\n",
    "      f\"least 1 university was \"\\\n",
    "      f\"{df[df['university']>=1]['population'].mean():.3f}.\")"
   ]
  },
  {
   "cell_type": "markdown",
   "metadata": {},
   "source": [
    "The ```hist``` method can be used to plot simple histograms from data:"
   ]
  },
  {
   "cell_type": "code",
   "execution_count": null,
   "metadata": {},
   "outputs": [],
   "source": [
    "print(df[\"avg_household_income_2012\"].hist())"
   ]
  },
  {
   "cell_type": "markdown",
   "metadata": {},
   "source": [
    "Or, with a larger number of bins:"
   ]
  },
  {
   "cell_type": "code",
   "execution_count": null,
   "metadata": {},
   "outputs": [],
   "source": [
    "print(df[\"avg_household_income_2012\"].hist(bins=20))"
   ]
  },
  {
   "cell_type": "markdown",
   "metadata": {},
   "source": [
    "If a data frame contains several columns with numeric values, the ```hist``` method will create histograms for all of them. For example, when called on the whole data frame:"
   ]
  },
  {
   "cell_type": "code",
   "execution_count": null,
   "metadata": {},
   "outputs": [],
   "source": [
    "print(df.hist())"
   ]
  },
  {
   "cell_type": "markdown",
   "metadata": {},
   "source": [
    "The possibilities for making histograms with ```hist()``` more “beautiful” are a bit limited, so other libraries should be used when a better design is wanted. However, for a quick check of the distribution of data in a data frame it is very suitable.\n",
    "\n",
    "As a last example for today, we want to sort the data in the data frame according to average household income (descending), instead of having them sorted by municipality, like it is now. The ```sort_values()``` method is what we need:"
   ]
  },
  {
   "cell_type": "code",
   "execution_count": null,
   "metadata": {},
   "outputs": [],
   "source": [
    "sorted_df = df.sort_values(\"avg_household_income_2012\", ascending=False)\n",
    "print(sorted_df[[\"municipality\", \"avg_household_income_2012\"]])"
   ]
  },
  {
   "cell_type": "markdown",
   "metadata": {},
   "source": [
    "Note that the index column was sorted with the rest of the data, too. So, if we want to have indices there running up from 0, we need to reset the index:"
   ]
  },
  {
   "cell_type": "code",
   "execution_count": null,
   "metadata": {},
   "outputs": [],
   "source": [
    "sorted_reindexed_df = sorted_df.reset_index(drop=True)\n",
    "print(sorted_reindexed_df[[\"municipality\", \"avg_household_income_2012\"]])"
   ]
  },
  {
   "cell_type": "markdown",
   "metadata": {},
   "source": [
    "Finally, note that data frames can easily be saved as CSV files with the ```to_csv()``` method. For example:"
   ]
  },
  {
   "cell_type": "code",
   "execution_count": null,
   "metadata": {},
   "outputs": [],
   "source": [
    "sorted_reindexed_df.to_csv('data/dutch_municipalities_sorted.csv')"
   ]
  },
  {
   "cell_type": "markdown",
   "metadata": {},
   "source": [
    "We will see more about data frames in the following lecture(s)."
   ]
  },
  {
   "cell_type": "markdown",
   "metadata": {},
   "source": [
    "## Error Handling\n",
    "There are basically two kinds of errors that can be detected by the Python interpreter: syntax (aka parsing) errors and exceptions (aka runtime or execution-time errors). ```SyntaxErrors``` are caused by syntactically incorrect code (like invalid variable names, forgotten indentations, braces, quotation marks or colons, etc.; Spyder will often already point you to them). They are fixed by correcting the code accordingly. Syntactically correct code can however still cause exceptions during exection. For example, a division by zero will result in a ```ZeroDivisonError```, and a type mismatch between str and int will result in a ```TypeError```. We say that an exception is \"thrown\" at runtime when the respective error occurs, and we can add code to \"catch\" and handle it if that happens (and thus prevent the program from simply crashing). That is done by the try-and-except construct in Python. Simply put, it defines what should be tried, and what happens if that goes wrong:\n",
    "\n",
    "```\n",
    "try:\n",
    "    <do something>\n",
    "except <error>:\n",
    "    <do something to react on error>\n",
    "```\n",
    "\n",
    "For example, a `ValueError` is thrown when the user's input is not convertible into an integer, so we can catch it and display an error message accordingly:"
   ]
  },
  {
   "cell_type": "code",
   "execution_count": null,
   "metadata": {},
   "outputs": [],
   "source": [
    "try:\n",
    "    x = int(input(\"Please enter a number: \"))\n",
    "except ValueError:\n",
    "    print(\"That was no valid number.\")"
   ]
  },
  {
   "cell_type": "code",
   "execution_count": null,
   "metadata": {},
   "outputs": [],
   "source": [
    "int('hello')\n"
   ]
  },
  {
   "cell_type": "markdown",
   "metadata": {},
   "source": [
    "In this case, it would in practice be handy if the user is asked to try again, until (s)he enters a valid input. Maybe even encapsulated into a function, to have a specific, error-handling reader available for reuse:"
   ]
  },
  {
   "cell_type": "code",
   "execution_count": null,
   "metadata": {},
   "outputs": [],
   "source": [
    "def read_integer(prompt):\n",
    "    while True:\n",
    "        try:\n",
    "            x = int(input(prompt))\n",
    "            return x\n",
    "        except ValueError:\n",
    "            print(\"That was no valid number. Try again.\")\n",
    "            \n",
    "# in main program:\n",
    "number = read_integer(\"Please enter a number:\" )"
   ]
  },
  {
   "cell_type": "markdown",
   "metadata": {},
   "source": [
    "As another example: When handling files, it can easily happen that the path to the file to be opened is not correct, and the file cannot be opened. Then the ```FileNotFoundError``` can be caught to prevent the program from crashing because of that:"
   ]
  },
  {
   "cell_type": "code",
   "execution_count": null,
   "metadata": {},
   "outputs": [],
   "source": [
    "filename = input(\"Enter file name: \")\n",
    "while True:\n",
    "    try:\n",
    "        with open(filename, \"r\") as file:\n",
    "            print(file.read())\n",
    "        break\n",
    "    except FileNotFoundError:\n",
    "        print(\"File not found. Please try again.\")\n",
    "        filename = input(\"Enter file name: \")"
   ]
  },
  {
   "cell_type": "markdown",
   "metadata": {},
   "source": [
    "There are several built-in exceptions in Python. We cannot go through them all, but you find them listed at https://docs.python.org/3/library/exceptions.html.\n",
    "\n",
    "Often several things can potentially go wrong, so that it makes sense to catch several exceptions:"
   ]
  },
  {
   "cell_type": "code",
   "execution_count": null,
   "metadata": {},
   "outputs": [],
   "source": [
    "number1 = read_integer(\"Enter number 1: \")\n",
    "number2 = read_integer(\"Enter number 2: \")\n",
    "try:\n",
    "    print(number1 * number2)\n",
    "    print(number1 / number2)\n",
    "except (FloatingPointError, OverflowError, ZeroDivisionError):\n",
    "    print(\"Something went wrong with the calculation.\")"
   ]
  },
  {
   "cell_type": "markdown",
   "metadata": {},
   "source": [
    "Or in a more specific variant, distinguishing between division by zero and all other kinds of errors:"
   ]
  },
  {
   "cell_type": "code",
   "execution_count": null,
   "metadata": {},
   "outputs": [],
   "source": [
    "number1 = read_integer(\"Enter number 1: \")\n",
    "number2 = read_integer(\"Enter number 2: \")\n",
    "try:\n",
    "    print(number1 * number2)\n",
    "    print(number1 / number2)\n",
    "except ZeroDivisionError:\n",
    "    print(\"Division by 0!\")\n",
    "except:\n",
    "    print(\"Something went wrong with the calculation.\")"
   ]
  },
  {
   "cell_type": "markdown",
   "metadata": {},
   "source": [
    "As you can maybe guess from the previous example, and except clause with no specific error defined will catch all (remaining) errors that happen in the try clause. In such a case, it is often useful to assign a name to the exception that is caught, so that the error-handling code can check its type or get the underlying error message, to deal with the exception accordingly. For example:"
   ]
  },
  {
   "cell_type": "code",
   "execution_count": null,
   "metadata": {},
   "outputs": [],
   "source": [
    "number1 = read_integer(\"Enter number 1: \")\n",
    "number2 = read_integer(\"Enter number 2: \")\n",
    "try:\n",
    "    print(number1 * number2)\n",
    "    print(number1 / number2)\n",
    "except Exception as err:\n",
    "    print(\"Error handling for:\", err)"
   ]
  },
  {
   "cell_type": "markdown",
   "metadata": {},
   "source": [
    "Finally, note that with the ```raise``` statement it is also possible to let your own code throw one of the predefined or also self-defined exceptions:"
   ]
  },
  {
   "cell_type": "code",
   "execution_count": null,
   "metadata": {},
   "outputs": [],
   "source": [
    "temperature = read_integer(\"Enter temperature: \")\n",
    "try:\n",
    "    if 0 < temperature < 100:\n",
    "        print(\"Water is liquid.\")\n",
    "    else:\n",
    "        raise Exception(\"incompatible temperature\", temperature)\n",
    "except Exception as err:\n",
    "    print(err) "
   ]
  },
  {
   "cell_type": "markdown",
   "metadata": {},
   "source": [
    "In practice it needs a bit of experience to decide how and where to implement error-handling behavior in a software. In the scope of the projects that you are working on in this course, it would not be feasible to surround each individual statement by try-and-except clauses. As a practical rule, error-handling should be implemented at places where things can easily go wrong, such as reading input from the user (even users with a lot of goodwill make typos), handling files (working with file systems is always prone to unexpected behavior) or accessing online resources and services (communication with them can be affected by network problems etc.). Generally, the less control the programmer (or their code) has over what happens, the more error-handling is a good idea."
   ]
  },
  {
   "cell_type": "markdown",
   "metadata": {},
   "source": [
    "![](img/activity_small.png)  Challenge!\n",
    "\n",
    "Write a code to print only the municipalities with an average household income above 40000\n",
    "\n",
    "Handle the case when the average household income is missing"
   ]
  },
  {
   "cell_type": "code",
   "execution_count": null,
   "metadata": {},
   "outputs": [],
   "source": [
    "#with open(\"data/dutch_municipalities.csv\", \"r\") as csvfile:\n",
    "#    csvreader = csv.DictReader(csvfile, delimiter='\\t')\n",
    "#    for row in csvreader:\n",
    "#       if int(row[\"avg_household_income_2012\"]) > 40000:\n",
    "#            print(f'{row[\"municipality\"]}: {row[\"province\"]}')\n",
    "       \n",
    "            \n",
    "with open(\"data/dutch_municipalities.csv\", \"r\") as csvfile:\n",
    "    csvreader = csv.DictReader(csvfile, delimiter='\\t')\n",
    "    for row in csvreader:\n",
    "        try: \n",
    "            if int(row[\"avg_household_income_2012\"]) > 40000:\n",
    "                print(f'{row[\"municipality\"]}: {row[\"province\"]}')\n",
    "        except ValueError:\n",
    "            print(f'No INCOME for --> {row[\"municipality\"]}: {row[\"province\"]}')"
   ]
  },
  {
   "cell_type": "markdown",
   "metadata": {},
   "source": [
    "## Exercises\n",
    "\n",
    "Please use Quarterfall to submit and check your answers. "
   ]
  },
  {
   "cell_type": "markdown",
   "metadata": {},
   "source": [
    "### 1. Interview Anonymization (★★★★☆)\n",
    "Imagine you are a journalist, and you have written a text about an interview with somebody. Because the person wants to remain unrecognized, you have to replace their name through a fictive one everywhere in the text before it gets published. Write a Python program that reads the file containing the interview text, replaces all occurrences of the original name by a new one (the `str.replace()` function can be used here), and saves the changed text in the file. You can use the text file \"interview-with-a-syrian-refugee.txt\" or create an own one. Do not forget to implement error-handling."
   ]
  },
  {
   "cell_type": "markdown",
   "metadata": {},
   "source": [
    "### 2. Longest Word (★★★★☆)\n",
    "Reuse your code from exercise 5.5 (Text Analysis) to create a function that finds the longest word in a text. Apply it to the text file that you used for exercise 1 above. The output should be something like: \n",
    "```\n",
    "The longest word in the text is \"responsibility\".\n",
    "```\n",
    "Again, keep in mind to implement error-handling."
   ]
  },
  {
   "cell_type": "markdown",
   "metadata": {},
   "source": [
    "### 3. Randomized Story-Telling (★★★★☆)\n",
    "One of the simple pen-and-paper games I remember from my childhood days goes as follows: A paper sheet is divided into four columns for the questions “Who?”, “Does what?”, “How?” and “Where?”. The first player would write down a person in the first column, then fold it away, the second would fill in a verb, fold it away, etc. After the fourth column has been filled, the complete sentence is read out. It could then be something like “My brother is showering excessively at the gas station.”\n",
    "\n",
    "Write a program that creates a user-defined number of such random sentences. The file `“inputs.csv”` contains a list of possible answers to all of the four questions. Take the values from there. Feel free to add further words to the CSV file to create more variation. The output of the program should be something like:\n",
    "```\n",
    "How many sentences do you want to create? 3\n",
    "My granny is dancing massively at the fair.\n",
    "The butcher is travelling aggressively in bed.\n",
    "My grandpa is reading nicely in the bathroom.\n",
    "```"
   ]
  },
  {
   "cell_type": "markdown",
   "metadata": {},
   "source": [
    "### 4. Population and Universities per Province (★★★★☆)\n",
    "Write a Python program that reads in the CSV file `\"dutch_municipalities.csv\"` that we already used in the lecture. Sum up the population and universities for each province and write the result into a new CSV file `“dutch_provinces.csv”`, in alphabetical order of the province names. Its content should look like:\n",
    "```\n",
    "province,population,universities\n",
    "Drenthe,488892.0,0\n",
    "Flevoland,400179.0,0\n",
    "Friesland,580537.0,0\n",
    "Gelderland,1993851.0,2\n",
    "Groningen,495508.0,1\n",
    "Limburg,1119751.0,1\n",
    "Noord-Brabant,2390214.0,2\n",
    "Noord-Holland,2766854.0,2\n",
    "Overijssel,1139754.0,1\n",
    "Utrecht,1254034.0,1\n",
    "Zeeland,380619.0,0\n",
    "Zuid-Holland,3579503.0,3\n",
    "```"
   ]
  },
  {
   "cell_type": "markdown",
   "metadata": {},
   "source": [
    "### 5. Error Handling (★★★☆☆)\n",
    "Add adequate \"try and except\" error handling to your code for exercises 1.-4.\n",
    "Include it in all code that you write from now on, at least when dealing with user inputs, file reading/writing operations, and accessing resources or services on the web."
   ]
  },
  {
   "cell_type": "markdown",
   "metadata": {},
   "source": [
    "## Extras for the Weekend\n",
    "Exercise 3 was hopefully a bit of fun, but of course we generated a very simple kind of prose text there. The website https://eh.bard.edu/generating-algorithmic-poetry/ describes how to use Python to automatically generate poems in the style of Shakespeare or Dickinson. Have a look if you find that interesting!"
   ]
  },
  {
   "cell_type": "code",
   "execution_count": null,
   "metadata": {},
   "outputs": [],
   "source": []
  }
 ],
 "metadata": {
  "kernelspec": {
   "display_name": "Python 3",
   "language": "python",
   "name": "python3"
  },
  "language_info": {
   "codemirror_mode": {
    "name": "ipython",
    "version": 3
   },
   "file_extension": ".py",
   "mimetype": "text/x-python",
   "name": "python",
   "nbconvert_exporter": "python",
   "pygments_lexer": "ipython3",
   "version": "3.8.10"
  }
 },
 "nbformat": 4,
 "nbformat_minor": 4
}
