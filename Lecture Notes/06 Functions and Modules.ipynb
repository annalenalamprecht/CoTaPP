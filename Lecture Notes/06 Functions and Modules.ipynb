{
 "cells": [
  {
   "cell_type": "markdown",
   "metadata": {},
   "source": [
    "# Module 6: Functions and Modules\n",
    "February 26, 2021"
   ]
  },
  {
   "cell_type": "markdown",
   "metadata": {},
   "source": [
    "Last time we talked about the implementation of repetitive behavior (loops). The lecture covered (pre-test) loops with the ```while``` and ```for``` statements, and the special behavior of the ```break``` and ```continue``` statements. We furthermore discussed the issue of post-test loops in Python.\n",
    "\n",
    "Today we will discuss functions, modules and packages, have a quick look at the Python’s standard library and the Python Package Index, and introduce the principle of recursion and recursive function definitions. When Python programs become complex, it is a good idea to structure the code using functions, modules, and packages. Proper modularization will keep the code base easier to understand and maintain, and is in fact one of the principles of good software development. Another important principle is the reuse of already existing functionality (rather than implementing it again), so familiarity with the standard libraries is important.\n",
    "\n",
    "Next time we will cover special data structures in Python, which will allow us to work with more powerful data items than just the individual numbers, strings and Booleans that we have used so far."
   ]
  },
  {
   "cell_type": "markdown",
   "metadata": {},
   "source": [
    "## Functions\n",
    "\n",
    "We have seen and used functions before (`print`, `input`, and `bin`, for example), now it is time to have a more systematic look at them and to define functions ourselves. Functions are useful whenever a piece of code forms a self-contained component and is (potentially) used repeatedly in the program. It simplifies coding, testing, debugging and maintenance if this code is only defined once (as a function) and just called when it is needed. \n",
    "\n",
    "Here is an example of code with unnecessary repetitions:"
   ]
  },
  {
   "cell_type": "code",
   "execution_count": 1,
   "metadata": {},
   "outputs": [
    {
     "name": "stdin",
     "output_type": "stream",
     "text": [
      "Please enter name of player:  a\n"
     ]
    },
    {
     "name": "stdout",
     "output_type": "stream",
     "text": [
      "Hello a, welcome to the game!\n"
     ]
    },
    {
     "name": "stdin",
     "output_type": "stream",
     "text": [
      "Please enter name of player:  b\n"
     ]
    },
    {
     "name": "stdout",
     "output_type": "stream",
     "text": [
      "Hello b, welcome to the game!\n"
     ]
    },
    {
     "name": "stdin",
     "output_type": "stream",
     "text": [
      "Please enter name of player:  c\n"
     ]
    },
    {
     "name": "stdout",
     "output_type": "stream",
     "text": [
      "Hello c, welcome to the game!\n"
     ]
    }
   ],
   "source": [
    "player1 = input(\"Please enter name of player: \")\n",
    "print(f\"Hello {player1}, welcome to the game!\")\n",
    "player2 = input(\"Please enter name of player: \")\n",
    "print(f\"Hello {player2}, welcome to the game!\")\n",
    "player3 = input(\"Please enter name of player: \")\n",
    "print(f\"Hello {player3}, welcome to the game!\")"
   ]
  },
  {
   "cell_type": "markdown",
   "metadata": {},
   "source": [
    "Essentially, this code does the same thing three times. This is impractical, for example, if we want to add more players (we have to duplicate a lot of code), or if we want to change the text of the outputs to the players, for instance translate it to Dutch (we would have to do that at all occurrences of the text). So, it might be useful to define functions that ask for a player's name and for displaying a personalized welcome message.\n",
    "\n",
    "Function definitions in Python have the following basic form:\n",
    "\n",
    "    def <function name>(<function parameter(s)>):\n",
    "        <do something>\n",
    "        return <value(s)>\n",
    "       \n",
    "That is, they define the name of the function, which parameters they take as input arguments at runtime (can be none), what they actually do and the value(s) that they return to the calling function (can be none). Functions have to be defined before they can be used. For example, we can define a function that takes a name as a parameter and welcomes a player accordingly:"
   ]
  },
  {
   "cell_type": "code",
   "execution_count": null,
   "metadata": {},
   "outputs": [],
   "source": [
    "def greet_player(name):\n",
    "    print(f\"Hello {name}, welcome to the game!\")\n",
    "    \n",
    "player1 = input(\"Please enter name of player: \")\n",
    "greet_player(player1)\n",
    "player2 = input(\"Please enter name of player: \")\n",
    "greet_player(player2)\n",
    "player3 = input(\"Please enter name of player: \")\n",
    "greet_player(player3)"
   ]
  },
  {
   "cell_type": "markdown",
   "metadata": {},
   "source": [
    "This already looks better, but we still have redundant code for asking the players to enter their names. We can define another function for that, that has no input parameters, but returns a value to the caller:"
   ]
  },
  {
   "cell_type": "code",
   "execution_count": 2,
   "metadata": {},
   "outputs": [
    {
     "name": "stdin",
     "output_type": "stream",
     "text": [
      "Please enter name of player:  a\n"
     ]
    },
    {
     "name": "stdout",
     "output_type": "stream",
     "text": [
      "Hello a, welcome to the game!\n"
     ]
    },
    {
     "name": "stdin",
     "output_type": "stream",
     "text": [
      "Please enter name of player:  b\n"
     ]
    },
    {
     "name": "stdout",
     "output_type": "stream",
     "text": [
      "Hello b, welcome to the game!\n"
     ]
    },
    {
     "name": "stdin",
     "output_type": "stream",
     "text": [
      "Please enter name of player:  c\n"
     ]
    },
    {
     "name": "stdout",
     "output_type": "stream",
     "text": [
      "Hello c, welcome to the game!\n"
     ]
    }
   ],
   "source": [
    "def ask_name():\n",
    "    name = input(\"Please enter name of player: \")\n",
    "    return name\n",
    "\n",
    "def greet_player(name):\n",
    "    print(f\"Hello {name}, welcome to the game!\")\n",
    "\n",
    "player1 = ask_name()\n",
    "greet_player(player1)\n",
    "player2 = ask_name()\n",
    "greet_player(player2)\n",
    "player3 = ask_name()\n",
    "greet_player(player3)"
   ]
  },
  {
   "cell_type": "markdown",
   "metadata": {},
   "source": [
    "Note that one of our functions contains a return statement (```return name```), and the other does not. When a function does not explicitly define a return value, the ```None``` value (representing “nothingness”) is returned by default. Thus, the return statement can be omitted, as implicitly an (empty) return to the caller will still happen at the end of the function. A return can however also be used to return to the caller at any another point of the function if desired.  \n",
    "\n",
    "Alternatively, if we think that we will never need the actions separately, we could simply define one function that carries out the input and the printout:"
   ]
  },
  {
   "cell_type": "code",
   "execution_count": null,
   "metadata": {},
   "outputs": [],
   "source": [
    "def ask_name_and_greet_player():\n",
    "    name = input(\"Please enter name of player: \")\n",
    "    print(f\"Hello {name}, welcome to the game!\")\n",
    "    return name\n",
    "\n",
    "player1 = ask_name_and_greet_player()\n",
    "player2 = ask_name_and_greet_player()\n",
    "player3 = ask_name_and_greet_player()"
   ]
  },
  {
   "cell_type": "markdown",
   "metadata": {},
   "source": [
    "The functions in the example above are quite short, only one or two lines, and you might wonder if that is actually worth the effort. Well, they were only simple examples to illustrate how functions work. You will soon see in the homework exercises and also in your projects that functions are usually longer and more complex. Below is another example (still small), where the function comprises five lines of code and even a loop:"
   ]
  },
  {
   "cell_type": "code",
   "execution_count": 3,
   "metadata": {},
   "outputs": [
    {
     "name": "stdin",
     "output_type": "stream",
     "text": [
      "Please enter an integer number:  12\n"
     ]
    },
    {
     "name": "stdout",
     "output_type": "stream",
     "text": [
      "12! is 479001600\n",
      "11! is 39916800\n",
      "10! is 3628800\n",
      "9! is 362880\n",
      "8! is 40320\n",
      "7! is 5040\n",
      "6! is 720\n",
      "5! is 120\n",
      "4! is 24\n",
      "3! is 6\n",
      "2! is 2\n",
      "1! is 1\n"
     ]
    }
   ],
   "source": [
    "# function for computing the factorial of a number n\n",
    "def fac(n):\n",
    "    fac = 1\n",
    "    while n > 0:\n",
    "        fac = fac * n\n",
    "        n = n - 1\n",
    "    return fac\n",
    "\n",
    "# reading a number from input\n",
    "n = int(input(\"Please enter an integer number: \"))\n",
    "\n",
    "# loop computing the factorials for all number from n to 1\n",
    "while n > 0:\n",
    "    print(f\"{n}! is {fac(n)}\")\n",
    "    n = n - 1"
   ]
  },
  {
   "cell_type": "markdown",
   "metadata": {},
   "source": [
    "This example illustrates another feature of functions: variable names are local to the function. That is, argument names and variables declared inside a function are not visible outside of the function. The area in a program where variables are visible is also called their scope. As a general rule, a variable’s scope is the block that it has been declared in, starting from the point where its name was defined. In the example above, this means that the ```n``` in the ```fac``` function is another ```n``` than the one in the program below the function. The function does not change the value of the n in the calling (part of the) program. This behavior makes a lot of sense sense: If you use a function from a library, where you cannot or do not want to look into its implementation, it is good to know that it will not interfere with your own variables. Generally, data should only be passed to and retrieved from functions through their parameters and return values, respectively, as this is the safest way to avoid undesired side effects from e.g. variables that overwrite each other unintentionally.\n",
    "\n",
    "Note here that the `global` statement can be used to make variables known across scopes. Functions would have access to its value also without it being passed as a parameter, and they could write results to it without returning it explicitly. The use of the `global` statement is however strongly discouraged for the reasons given above, so we will not discuss it further.\n",
    "\n",
    "The functions in the examples above have no or only one parameter, but if several inputs are needed, they can simply be defined as comma-separated lists of parameters. For example, a function `add(a,b)` for adding to numbers. When calling the function, the arguments have to passed in the order of the parameters.\n",
    "\n",
    "Furthermore, functions can have named parameters. They are identified by their name, so their order does not matter when calling the function. They are also given a default value when they are declared, so that when the calling function does not specify them, there is a standard value to work with. Here is an example of a function with one “normal” and two named parameters with default values:"
   ]
  },
  {
   "cell_type": "code",
   "execution_count": null,
   "metadata": {},
   "outputs": [],
   "source": [
    "def rectangle_print(letter, columns=3, rows=2):\n",
    "    for i in range(1,rows+1):\n",
    "        print(letter*columns)\n",
    "        \n",
    "rectangle_print(\"a\")\n",
    "rectangle_print(\"b\", 5, 2)\n",
    "rectangle_print(\"c\", rows=3)"
   ]
  },
  {
   "cell_type": "markdown",
   "metadata": {},
   "source": [
    "The above example illustrates nicely how named parameters can or can not be defined by the caller, depending on what is needed. Note that also the `print` function, which we have used a lot, has named parameters, for example to specify the separator between the string arguments that are passed to print:"
   ]
  },
  {
   "cell_type": "code",
   "execution_count": 4,
   "metadata": {},
   "outputs": [
    {
     "name": "stdout",
     "output_type": "stream",
     "text": [
      "a\n",
      "b\n",
      "c\n"
     ]
    }
   ],
   "source": [
    "print(\"a\", \"b\", \"c\", sep=\"\\n\")"
   ]
  },
  {
   "cell_type": "markdown",
   "metadata": {},
   "source": [
    "In fact, the arbitrary number of strings that can be passed to the print function to be printed to the screen is an example of yet another kind of parameters, the VarArgs (for variable number of arguments) parameters. Parameters become VarArgs by defining them with a single (\\*) or double (\\*\\*) star in front of them. For example, we can use a starred parameter to define a sum function that adds all of its arguments:"
   ]
  },
  {
   "cell_type": "code",
   "execution_count": 5,
   "metadata": {},
   "outputs": [
    {
     "name": "stdout",
     "output_type": "stream",
     "text": [
      "15\n",
      "28\n"
     ]
    }
   ],
   "source": [
    "def sum_up(*numbers):\n",
    "    s = 0\n",
    "    for n in numbers:\n",
    "        s += n\n",
    "    return s\n",
    "\n",
    "print(sum_up(1,2,3,4,5))\n",
    "print(sum_up(1,2,3,4,5,6,7))"
   ]
  },
  {
   "cell_type": "markdown",
   "metadata": {},
   "source": [
    "Technically, the arguments for a single-starred parameter form a tuple, and the arguments of a double-starred parameter form a dictionary, hence the latter have to be defined as key-value pairs. What this means will become clear in the next lecture, where we will talk about those data structures in detail."
   ]
  },
  {
   "cell_type": "markdown",
   "metadata": {},
   "source": [
    "## Modules\n",
    "\n",
    "Functions make pieces of code in our program file reusable. Modules make it possible to reuse code across different program files. To use the content of another module (file) in a Python program, it has to be imported. We have already seen a module import in the  number-guessing game example in the lecture on loops:\n",
    "```\n",
    "import random\n",
    "number = random.randint(1,10)\n",
    "[...]\n",
    "```\n",
    "\n",
    "The `import` statement in the first line imports the `random` module from Python’s standard library. Afterwards we can use the functions that it provides, for example the `random()` function that generates a random number within a specified range.\n",
    "\n",
    "Note that import statements can in principle be placed at any point in the program, as long as they happen before using their functions. This is not considered good coding style, however, as imports scattered all over the program make it difficult to see what has already been imported, and might even lead to redundant and conflicting imports. To avoid such problems, all imports that are used in a .py file should be placed at its beginning.\n",
    "\n",
    "We can also create modules ourselves. There are different forms in which modules can exist. The simplest is a .py file that contains different functions. (In fact, any .py file we create is a module that can potentially be used by other programs.) Generally, it makes sense to create modules for sets of functions that somehow belong together and where it would make sense to distribute them (to other programmers) as a unit. \n",
    "\n",
    "For example, we might provide the `ask_name()` and `greet_player()` functions from above in a `player_management.py` module, along with other related functions such as, e.g., `show_score()` or `show_game_over()`:\n",
    "\n",
    "    def ask_name():\n",
    "        name = input(\"Please enter name of player: \")\n",
    "        return name\n",
    "        \n",
    "    def greet_player(name):\n",
    "        print(f\"Hello {name}, welcome to the game!\")\n",
    "        \n",
    "    def show_score(name, score):\n",
    "        print(f\"Hello {name}, your current score is {score}.\")\n",
    "\n",
    "    def show_game_over(name):\n",
    "        print(f\"GAME OVER! Sorry, {name}...\")\n",
    "\n",
    "The module and its functions might then be used by a game as follows:\n",
    "    "
   ]
  },
  {
   "cell_type": "code",
   "execution_count": 14,
   "metadata": {},
   "outputs": [
    {
     "name": "stdin",
     "output_type": "stream",
     "text": [
      "Please enter name of player:  aerew\n"
     ]
    },
    {
     "name": "stdout",
     "output_type": "stream",
     "text": [
      "Hello aerew, welcome to the game!\n",
      "Hello aerew, your current score is 9.\n"
     ]
    }
   ],
   "source": [
    "import lib.player_management\n",
    "import random\n",
    "\n",
    "player = player_management.ask_name()\n",
    "player_management.greet_player(player)\n",
    "    \n",
    "score = random.randint(0,10) # (replace by actual code for playing game)\n",
    "    \n",
    "if score > 0:\n",
    "    player_management.show_score(player,score)\n",
    "else:\n",
    "    player_management.show_game_over(player)"
   ]
  },
  {
   "cell_type": "markdown",
   "metadata": {},
   "source": [
    "Also when loading modules the Python interpreter acts as usual and will step through the module when importing it. The function definitions in the module are read, and thus the functions are subsequently available for use. If the module contains other code, outside of function definitions, it will be executed, too.\n",
    "\n",
    "Note that when creating own modules, it is advisable to not use names that are already taken by modules from the standard library or other popular collections. Name clashes can lead to errors and unpredictable problem behaviour. So, if you observe weird behavior in relation to your modules and imports, check if maybe there is a name clash. There are ways to influence Python’s importing mechanism in more detail to circumvent problems, but that gets quite technical and furthermore tends to be unstable, so we will not discuss it in this course."
   ]
  },
  {
   "cell_type": "markdown",
   "metadata": {},
   "source": [
    "There are two variations of the `import` statement that you will often see in Python code that is around: The `from … import …` statement can be used to import individual functions from a module, for example:"
   ]
  },
  {
   "cell_type": "code",
   "execution_count": 16,
   "metadata": {},
   "outputs": [
    {
     "name": "stdout",
     "output_type": "stream",
     "text": [
      "2\n"
     ]
    }
   ],
   "source": [
    "from random import randint\n",
    "print(randint(1,10))"
   ]
  },
  {
   "cell_type": "markdown",
   "metadata": {},
   "source": [
    "This way, the function is available without using the module name as a prefix. It is not recommended to use this kind of import, however, as it comes with a risk of name clashes and unreliable behavior. The other variation is the ```import``` … ```as``` … statement, which defines an alias for the module name. For example:"
   ]
  },
  {
   "cell_type": "code",
   "execution_count": null,
   "metadata": {},
   "outputs": [],
   "source": [
    "import random as rd\n",
    "print(rd.randint(1,10))"
   ]
  },
  {
   "cell_type": "markdown",
   "metadata": {},
   "source": [
    "This is handy in particular for defining shorter aliases for long module names, but it should be used with care, too, to avoid name clashes.\n",
    "\n",
    "It is important to realize that all Python .py files are modules. However, not all of them are (just) made for being imported into other modules. Some also have code that should be executed when the module is executed as a script or with ```python -m```. Interestingly, a module can discover if it is being executed directly (in Python speech: running in the main scope) or as an import. A pattern that is often used in Python modules is to include such a check, and call a dedicated main function if the method is indeed running in the main scope:\n",
    "\n",
    "    if __name__ == \"__main__\":\n",
    "\n",
    "      # execute only if running in main scope\n",
    "      main()\n",
    "      \n",
    "This allows to have a module providing functions that are useful to import by other modules, and at the same time, for example, offering a command line interface that is useful when starting the module as a script, but would only be a nuisance would it be run during a standard import."
   ]
  },
  {
   "cell_type": "markdown",
   "metadata": {},
   "source": [
    "## Packages\n",
    "\n",
    "Packages are used to organize sets of modules hierarchically. Technically, they are folders that contains modules and a special `__init__.py` file (to indicate that the modules in this folder form a package). We don’t go into further detail here, but note that when using modules from collections of functionality such as the Python Standard Library, they are distributed as packages."
   ]
  },
  {
   "cell_type": "markdown",
   "metadata": {},
   "source": [
    "## The Standard Library and other Sources of Functionality\n",
    "\n",
    "The Python Standard Library, which is distributed with the Python installation, contains ```random``` and a large number of other useful packages, such as the ```calendar```,  ```statistics``` or ```io``` libraries. We will see and use some of them in the following lectures. The website https://docs.python.org/3/library/index.html lists what is contained in the standard library of Python and is a good reference during development.\n",
    "\n",
    "In addition to the packages in the standard library, there are also many packages available from other sources. The Python Package index at https://pypi.python.org/pypi is the central repository for Python packages, currently ca. 290,000 of them. With the Anaconda platform a large number of popular packages has already been installed on your system, but sometimes packages are not yet installed on your machine, so you have to do that yourself before you can use them. How to do this within Anaconda is described at https://docs.anaconda.com/anaconda/navigator/tutorials/manage-packages/#installing-a-package. Alternatively, the basic way to do install new packages is via the command line, using the ```pip``` tool that comes with the Python installation: ```pip install <module>```"
   ]
  },
  {
   "cell_type": "markdown",
   "metadata": {},
   "source": [
    "## Recursion\n",
    "\n",
    "See Recursion.\n",
    "\n",
    "Just a joke, but it points to the basic idea of recursion: self-reference. You may recall recursive function definitions from mathematics, for instance:\n",
    "\n",
    "x$^n$ = x * x$^{n-1}$ if n > 0, and 1 if n = 0\n",
    "\n",
    "That is, the problem is solved by referring to a smaller instance of the same problem, until it is so small that it is trivial. For example, with this definition 35 is calculated as follows:\n",
    "\n",
    "3$^5$ = 3 * 3$^4$ = 3 * 3 * 3$^3$ = 3  * 3 * 3 * 3$^2$ = 3 * 3 * 3 * 3 * 3$^1$ = 3 * 3 * 3 * 3 * 3 * 3$^0$ =  3 * 3 * 3 * 3 * 3 * 1 =  3 * 3 * 3 * 3 * 3 = 3 * 3 * 3 * 9 = 3 * 3 * 27 = 3 * 81 = 243\n",
    "\n",
    "Recursions in Python (and other programming languages as well) follow the same principle, but the definition in code looks a bit different:"
   ]
  },
  {
   "cell_type": "code",
   "execution_count": 17,
   "metadata": {},
   "outputs": [
    {
     "name": "stdin",
     "output_type": "stream",
     "text": [
      "Please enter x:  3\n",
      "Please enter n:  6\n"
     ]
    },
    {
     "name": "stdout",
     "output_type": "stream",
     "text": [
      "3 ** 6 = 729\n"
     ]
    }
   ],
   "source": [
    "# recursive function to compute x**n\n",
    "def pow(x,n):\n",
    "    if n > 0:\n",
    "        return x * pow(x,n-1)\n",
    "    else:\n",
    "        return 1\n",
    "        \n",
    "# main program calling the function\n",
    "x = int(input(\"Please enter x: \"))\n",
    "n = int(input(\"Please enter n: \"))\n",
    "x_to_the_power_of_n = pow(x,n)\n",
    "print(f\"{x} ** {n} = {x_to_the_power_of_n}\")"
   ]
  },
  {
   "cell_type": "markdown",
   "metadata": {},
   "source": [
    "Internally, the following calls and returns of pow(x,n) happen at runtime:\n",
    "\n",
    "```\n",
    "pow(3,5)\n",
    "    pow(3,4)\n",
    "        pow(3,3)\n",
    "            pow(3,2)\n",
    "                pow(3,1)\n",
    "                    pow(3,0)\n",
    "                    return 1\n",
    "                return 3\n",
    "            return 9\n",
    "        return 27\n",
    "    return 81\n",
    "return 243\n",
    "```"
   ]
  },
  {
   "cell_type": "markdown",
   "metadata": {},
   "source": [
    "Now let us look at an example for which there is not already an operator in Python. For example, the Fibonacci number for an integer n is defined as:\n",
    "\n",
    "fib(n) = fib(n-1) + fib(n-2)  if n > 1, 1 if n = 1 and 0 if n = 0\n",
    "\n",
    "In Python:"
   ]
  },
  {
   "cell_type": "code",
   "execution_count": 18,
   "metadata": {},
   "outputs": [
    {
     "name": "stdin",
     "output_type": "stream",
     "text": [
      "Please enter an integer number:  34\n"
     ]
    },
    {
     "name": "stdout",
     "output_type": "stream",
     "text": [
      "fib(34) = 5702887\n"
     ]
    }
   ],
   "source": [
    "def fib(n):\n",
    "    if n > 1:\n",
    "        return fib(n-1) + fib(n-2)\n",
    "    elif n == 1:\n",
    "        return 1\n",
    "    else:\n",
    "        return 0\n",
    "    \n",
    "n = int(input(\"Please enter an integer number: \"))\n",
    "print(f\"fib({n}) = {fib(n)}\")"
   ]
  },
  {
   "cell_type": "markdown",
   "metadata": {},
   "source": [
    "The call stack here is a bit more complex than above (only shown for fib(4) to keep it short):"
   ]
  },
  {
   "cell_type": "markdown",
   "metadata": {},
   "source": [
    "```\n",
    "fib(4)  \n",
    "    fib(3)\n",
    "        fib(2)\n",
    "            fib(1)\n",
    "            return 1\n",
    "            fib(0)\n",
    "            return 0\n",
    "        return 1\n",
    "        fib(1)\n",
    "        return 1\n",
    "    return 2\n",
    "    fib(2)\n",
    "        fib(1)\n",
    "        return 1\n",
    "        fib(0)\n",
    "        return 0\n",
    "    return 1\n",
    "return 3\n",
    "```\n",
    "Here is another, non-mathematical example:"
   ]
  },
  {
   "cell_type": "code",
   "execution_count": 19,
   "metadata": {},
   "outputs": [
    {
     "name": "stdout",
     "output_type": "stream",
     "text": [
      "Walk one floor up.\n",
      "Walk one floor up.\n",
      "Walk one floor up.\n",
      "Reached the top floor!\n",
      "Walk one floor down.\n",
      "Walk one floor down.\n",
      "Walk one floor down.\n"
     ]
    }
   ],
   "source": [
    "def walk_up_and_down(floors):\n",
    "    if floors > 0:\n",
    "        print(\"Walk one floor up.\")\n",
    "        walk_up_and_down(floors-1)\n",
    "        print(\"Walk one floor down.\")\n",
    "    else:\n",
    "        print(\"Reached the top floor!\")\n",
    "        \n",
    "walk_up_and_down(3)"
   ]
  },
  {
   "cell_type": "markdown",
   "metadata": {},
   "source": [
    "The call stack here is straightforward again. Note that also without an explicit \"return value\" statement, the function returns control to its caller when it is finished, but then without returning a value:\n",
    "```\n",
    "walk_up_and_down(3)\n",
    "    walk_up_and_down(2)\n",
    "        walk_up_and_down(1)\n",
    "            walk_up_and_down(0)\n",
    "            (return)\n",
    "        (return)\n",
    "    (return)\n",
    "(return)\n",
    "```\n",
    "\n",
    "Each recursion can be implemented by an iterative loop, and vice versa. For the walking-up-and-down example, a corresponding iterative version is:"
   ]
  },
  {
   "cell_type": "code",
   "execution_count": 20,
   "metadata": {},
   "outputs": [
    {
     "name": "stdout",
     "output_type": "stream",
     "text": [
      "Walk one floor up.\n",
      "Walk one floor up.\n",
      "Walk one floor up.\n",
      "Reached the top floor!\n",
      "Walk one floor down.\n",
      "Walk one floor down.\n",
      "Walk one floor down.\n"
     ]
    }
   ],
   "source": [
    "def walk_up_and_down_iteratively(floors):\n",
    "    i = 0\n",
    "    while i < floors:\n",
    "        print(\"Walk one floor up.\")\n",
    "        i = i + 1\n",
    "    print(\"Reached the top floor!\")\n",
    "    while i > 0:\n",
    "        print(\"Walk one floor down.\")\n",
    "        i = i - 1\n",
    "        \n",
    "walk_up_and_down_iteratively(3)"
   ]
  },
  {
   "cell_type": "markdown",
   "metadata": {},
   "source": [
    "Generally, iterative implementations tend to be faster (because they do not have to create several instances of the same method), but sometimes a recursive solution is more elegant (though maybe more difficult to understand)."
   ]
  },
  {
   "cell_type": "markdown",
   "metadata": {},
   "source": [
    "## Exercises\n",
    "\n",
    "Please use Quarterfall to submit and check your answers. "
   ]
  },
  {
   "cell_type": "markdown",
   "metadata": {},
   "source": [
    "### 1. Leap Years (★★★★☆) \n",
    "In our lifetimes (unless we happen to get veeery old) a leap year occurs every four years. But actually, the rule is a bit more involved: A year is a leap year if it is a multiple of 4, but not a multiple of 100, unless it is also a multiple of 400. For example, 1984 and 2000 were leap years, but 1900 and 1985 were not. \n",
    "Write a function is_leap_year(year) that tests if the year is a leap year. If so, the function should return True, and False otherwise. Implement the function using only one Boolean expression. \n",
    "You can use the code below to test your function (the first line defines a list of years to iterate over in the loop – lists will be explained in detail in the next lecture):\n",
    "```\n",
    "tests = [1900, 1984, 1985, 2000, 2018]\n",
    "\n",
    "for test in tests:\n",
    "    if is_leap_year(test):\n",
    "        print(f”{test} is a leap year\")\n",
    "    else:\n",
    "        print(f”{test} is not a leap year\")\n",
    "```\n",
    "\n",
    "The output should be:\n",
    "```\n",
    "1900 is not a leap year\n",
    "1984 is a leap year\n",
    "1985 is not a leap year\n",
    "2000 is a leap year\n",
    "2018 is not a leap year\n",
    "```"
   ]
  },
  {
   "cell_type": "markdown",
   "metadata": {},
   "source": [
    "### 2. Calculator (★★★☆☆)\n",
    "Write a program that acts a simple calculator, asking the user if they want to add, subtract, multiply or divide two arbitrary numbers. Define functions add(x,y), subtract(x,y), multiply(x,y) and divide(x,y) for this. (Normally one would not define functions for these basic operators, but this is just an exercise...) After the user has selected an operation, they are asked to enter the numbers x and y. The program calculates and prints the result. The output should be something like:\n",
    "```\n",
    "You have four options:\n",
    "1 - Add\n",
    "2 – Subtract\n",
    "3 - Multiply\n",
    "4 - Divide\n",
    "Enter choice (1/2/3/4): 2\n",
    "Enter first number: 34\n",
    "Enter second number: 53\n",
    "34 - 53 = -19\n",
    "```"
   ]
  },
  {
   "cell_type": "markdown",
   "metadata": {},
   "source": [
    "### 3. Password Generator (★★★★☆)\n",
    "People often use passwords that are too short or too simple and can easily be guessed. (“123456”, “Password” and “12345678” were the most frequently used passwords in 2017!) Moreover, people tend to use the same password for different services, which makes it easy for criminals to take over other accounts once they have obtained one of the passwords. Thus, it is wise to use passwords that are reasonably long (8 characters minimum), consist of seemingly random sequences of letters (use of special characters is by the way not so important), and have a separate password for each account. \n",
    "\n",
    "Write a program that helps you to create reasonably good passwords. Therefore define and implement a function create_password(length) that takes the desired length of the password as parameter. If a password shorter than 8 characters is requested, the function should refuse to create it (as it would not be secure). If the requested length is longer, then the function should fill the password with random letters (upper and lower case) and numbers. \n",
    "You can use the following code to test your function:\n",
    "```\n",
    "print(create_password(4))\n",
    "print(create_password(8))\n",
    "print(create_password(12))\n",
    "print(create_password(16))\n",
    "```\n",
    "The output for the test code above should be something like:\n",
    "```\n",
    "Too short, please create longer password.\n",
    "None\n",
    "pk4lU4Cr\n",
    "UPFzFg6Pn14r\n",
    "ALdVi3yT0khuxzTr\n",
    "```\n",
    "Hint: Consider using the `random.choice()` function from the `random` library, which can be used to select a random character from a predefined string."
   ]
  },
  {
   "cell_type": "markdown",
   "metadata": {},
   "source": [
    "### 4. Basic Statistics (★★★★☆)\n",
    "Use the statistics package from the Python standard library to define and implement a function `print_basic_statistics()` with the following characteristics:\n",
    "* the function takes arbitrarily many numbers as input\n",
    "* the default case is that the function prints the arithmetic mean, median, standard variation and variance of the input data to the screen\n",
    "* via a named parameter the calling code should also have the option to select only one of the four to be printed\n",
    "\n",
    "You can use the following code to test your function:\n",
    "```\n",
    "print_basic_statistics(91,82,19,13,44,)\n",
    "print_basic_statistics(91,82,19,13,44,73,18,95,17,65,output=\"median\")\n",
    "```\n",
    "The output for the test code above should be something like:\n",
    "```\n",
    "The mean of (91, 82, 19, 13, 44) is 49.8.\n",
    "The median of (91, 82, 19, 13, 44) is 44.0.\n",
    "The standard deviation of (91, 82, 19, 13, 44) is 35.6.\n",
    "The variance of (91, 82, 19, 13, 44) is 1267.7.\n",
    "```\n",
    "```\n",
    "The median of (91, 82, 19, 13, 44, 73, 18, 95, 17, 65) is 54.5.\n",
    "```"
   ]
  },
  {
   "cell_type": "markdown",
   "metadata": {},
   "source": [
    "### 5. Ackermann Function (★★★★☆)\n",
    "The Ackermann function (named after the German mathematician Wilhelm Friedrich Ackermann) grows rapidly already for small inputs. It exists in different variants, one of the common definitions is the following (for two nonnegative integers m and n):\n",
    "\n",
    "![](img/ackermann.png)\n",
    "\n",
    "Define and implement a (recursive) function ackermann(m,n) that computes the Ackermann function value for two nonnegative integers m and n. Then, write a test program that computes the results for calling the function with growing m and n of the same value, starting with m = n = 0 and incrementing by 1 in each iteration. The output should be something like: \n",
    "```\n",
    "ackermann(0,0) = 1\n",
    "ackermann(1,1) = 3\n",
    "ackermann(2,2) = 7\n",
    "[...]\n",
    "```\n",
    "What is the last value that your program computes before you get a `RecursionError`? (Hint: It might be that the outputs in the IPython console in Spyder are too verbose to see anything. You can alternatively run your program from the command line to see more.) What does this error mean?"
   ]
  },
  {
   "cell_type": "markdown",
   "metadata": {},
   "source": [
    "## Extras for the Weekend\n",
    "CheckiO (https://checkio.org/) is a game where you need to code in Python (or JavaScript) to get further. By now you should know enough Python to try it out and solve the challenges there.\n",
    "\n",
    "If you want to get your brain twisted with something really geeky, have a look at quines. Quines are programs that print themselves (i.e., their own code) during execution, but it is not allowed that they read in their code from the .py file. Here is an example of a quine in Python:\n",
    "```\n",
    "q=\"\\nprint('q='+repr(q)+q)\"\n",
    "print('q='+repr(q)+q)\n",
    "```\n",
    "Can you write another one?"
   ]
  },
  {
   "cell_type": "code",
   "execution_count": null,
   "metadata": {},
   "outputs": [],
   "source": []
  }
 ],
 "metadata": {
  "kernelspec": {
   "display_name": "Python 3",
   "language": "python",
   "name": "python3"
  },
  "language_info": {
   "codemirror_mode": {
    "name": "ipython",
    "version": 3
   },
   "file_extension": ".py",
   "mimetype": "text/x-python",
   "name": "python",
   "nbconvert_exporter": "python",
   "pygments_lexer": "ipython3",
   "version": "3.7.4"
  }
 },
 "nbformat": 4,
 "nbformat_minor": 4
}
