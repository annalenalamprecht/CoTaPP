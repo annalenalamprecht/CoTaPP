{
 "cells": [
  {
   "cell_type": "markdown",
   "metadata": {},
   "source": [
    "# Solutions to Exercises"
   ]
  },
  {
   "cell_type": "markdown",
   "metadata": {},
   "source": [
    "## Module 1: Computational Thinking"
   ]
  },
  {
   "cell_type": "markdown",
   "metadata": {},
   "source": [
    "### 1. Download Times\n",
    "3 minutes. \n",
    "After 1 minute, downloads 1 and 3 are finished, and the downloads 2 and 4 have 6 and 2 minutes remaining, respectively. Instead of sharing the available capacity among 4, they only share it among 2 now, so the download is twice as fast, so they have 3 and 1 minutes remaining. Thus, after 1 more minute, download 4 is finished and download 2 has 2 minutes left. It can now use the full capacity and is again twice as fast as before, so it finishes after just another minute."
   ]
  },
  {
   "cell_type": "markdown",
   "metadata": {},
   "source": [
    "### 2. Maximal Gain\n",
    "14 (up up right right right up right up)"
   ]
  },
  {
   "cell_type": "markdown",
   "metadata": {},
   "source": [
    "### 3. Number Segments\n",
    "Two possible answers: the bottom segment or the one on the lower right. For all other segments, if that segment is broken, two numbers will look the same."
   ]
  },
  {
   "cell_type": "markdown",
   "metadata": {},
   "source": [
    "### 4. Quarters\n",
    "((0001)(0(1000)00)(00(1001)0)0)\n",
    "\n",
    "*Extra question:* 3x3=9 characters, as the splitting procedure leads to 2x2 white squares three times, which can be represented as one character."
   ]
  },
  {
   "cell_type": "markdown",
   "metadata": {},
   "source": [
    "### 5. Filters\n",
    "C"
   ]
  },
  {
   "cell_type": "markdown",
   "metadata": {},
   "source": [
    "## Module 2: Activity Diagrams"
   ]
  },
  {
   "cell_type": "markdown",
   "metadata": {},
   "source": [
    "### 1. Understanding Activity Diagrams\n",
    "\n",
    "1. A. For option B, the [no]-arrow on the bottom row is incorrect. For option C, the [no]-arrow on the top row is incorrect. For option D, the action-nodes do not indicate what to do with the milk, vinegar and soda.\n",
    "2. sequence, conditional branching, post-test loop\n",
    "3. The following statements are true:\n",
    "   * The first step is to buy eggs and bread.\n",
    "   * The preparation of the toast and the preparation of the eggs happen in parallel.\n",
    "   * Eggs are either poached, fried or scrambled.\n",
    "4.  sequence, conditional branching, parallel execution"
   ]
  },
  {
   "cell_type": "markdown",
   "metadata": {},
   "source": [
    "### 2. Describing Activity Diagrams\n",
    "\n",
    "Answer A: The diagram describes the process of processing an order. After the order is received, the process splits into two parallel threads. In one the order is filled and either regular or overnight delivery is arranged. In the other the invoice is sent and the payment is received. The threads are synchronized before the process ends. Control-flow patterns: sequence, conditional branching, parallel execution\n",
    "\n",
    "Answer B: The diagram describes the process of leaving the house with or without an umbrella. First step is to look outside. If it is raining, you look for your umbrella. If you found it after a while, you’re done. If you have not found it after a while, you check if it is still raining. If yes, go back to searching. If it is not raining, you can leave the umbrella at home. Control-flow patterns: sequence, conditional branching, post-test loop. "
   ]
  },
  {
   "cell_type": "markdown",
   "metadata": {},
   "source": [
    "### 3. Creating Activity Diagrams\n",
    "\n",
    "1. ![](img/uml_morning_routine.png)\n",
    "\n",
    "2. ![](img/uml_crossing_street.png)\n",
    "\n",
    "3. ![](img/uml_number_guessing.png)\n",
    "\n",
    "4. Very individual. You can ask your tutor for feedback if you are unsure about your diagram. Below an example from bioinformatics. This activity diagram describes a common computational process in bioinformatics, namely the design of primers for a PCR experiment from an input sequence. Before the actual primer design, different other tasks have to be performed depending on the kind of input sequence. \n",
    "\n",
    "![](img/uml_primer_design.png)"
   ]
  },
  {
   "cell_type": "markdown",
   "metadata": {},
   "source": [
    "## Module 3: Getting Started with Python"
   ]
  },
  {
   "cell_type": "markdown",
   "metadata": {},
   "source": [
    "### 1. Understanding Python Code\n",
    "For the exact output, just execute. The difference to the example from the lecture is that the `user_age` is not cast to integer, so the multiplication is applied to the string. This causes the expression `{user_age*12}` to evaluate to a string like `363636363636363636363636` instead of computing the number of months."
   ]
  },
  {
   "cell_type": "markdown",
   "metadata": {},
   "source": [
    "### 2. Understanding more Python Code\n",
    "\n",
    "For output just execute. The differences between the lines are caused the different type casts that are applied and also the points where they are applied. In the version without type casts, Python is doing the casts automatically based on what it infers to be best, which in this case corresponds to the intuitive result. In the second print line, the result of the computation is cast to string, which does not change the look of the output. In the third print line, the numbers are cast to strings before the operation is applied, so the corresponding string operation is executed and the result looks different. In the fourth print line, the result is cast to integer, so it loses its decimal places before being displayed. In the fifth print line, the two numbers are cast to integer before the operation. The result is again an integer number and looks as in the line before. In the sixth print line, the result is explicitly cast to float, and displayed as such. In the last line, the operands are both cast to float before applying the operation, results in the same output as before."
   ]
  },
  {
   "cell_type": "markdown",
   "metadata": {},
   "source": [
    "### 3. Printing Source Code"
   ]
  },
  {
   "cell_type": "code",
   "execution_count": 2,
   "metadata": {},
   "outputs": [
    {
     "name": "stdout",
     "output_type": "stream",
     "text": [
      "a = 2.3\n",
      "b = 42\n",
      "print(f\"{a} + {b} is {a+b}\")\n",
      "print(f\"{a} + {b} is {str(a+b)}\")\n",
      "print(f\"{a} + {b} is {str(a)+str(b)}\")\n",
      "print(f\"{a} + {b} is {int(a+b)}\")\n",
      "print(f\"{a} + {b} is {int(a)+int(b)}\")\n",
      "print(f\"{a} + {b} is {float(a+b)}\")\n",
      "print(f\"{a} + {b} is {float(a)+float(b)}\")\"\n",
      "\n"
     ]
    }
   ],
   "source": [
    "# One possible way to print the piece of source code is to \n",
    "# use the triple quotation marks around it.\n",
    "print(\"\"\"a = 2.3\n",
    "b = 42\n",
    "print(f\"{a} + {b} is {a+b}\")\n",
    "print(f\"{a} + {b} is {str(a+b)}\")\n",
    "print(f\"{a} + {b} is {str(a)+str(b)}\")\n",
    "print(f\"{a} + {b} is {int(a+b)}\")\n",
    "print(f\"{a} + {b} is {int(a)+int(b)}\")\n",
    "print(f\"{a} + {b} is {float(a+b)}\")\n",
    "print(f\"{a} + {b} is {float(a)+float(b)}\")\"\n",
    "\"\"\")"
   ]
  },
  {
   "cell_type": "markdown",
   "metadata": {},
   "source": [
    "### 4. List Your Lectures"
   ]
  },
  {
   "cell_type": "code",
   "execution_count": 3,
   "metadata": {},
   "outputs": [
    {
     "name": "stdout",
     "output_type": "stream",
     "text": [
      "Monday:\t\tEvolutionary Computing\n",
      "Tuesday:\t(nothing)\n",
      "Wednesday:\tEvolutionary Computing, Programming with Python\n",
      "Thursday:\t(nothing)\n",
      "Friday:\t\tProgramming with Python\n"
     ]
    }
   ],
   "source": [
    "print(\"Monday:\\t\\tEvolutionary Computing\")\n",
    "print(\"Tuesday:\\t(nothing)\")\n",
    "print(\"Wednesday:\\tEvolutionary Computing, Programming with Python\")\n",
    "print(\"Thursday:\\t(nothing)\")\n",
    "print(\"Friday:\\t\\tProgramming with Python\")"
   ]
  },
  {
   "cell_type": "markdown",
   "metadata": {},
   "source": [
    "### 5. Arithmetic Operations"
   ]
  },
  {
   "cell_type": "code",
   "execution_count": 4,
   "metadata": {},
   "outputs": [
    {
     "ename": "KeyboardInterrupt",
     "evalue": "Interrupted by user",
     "output_type": "error",
     "traceback": [
      "\u001b[0;31m---------------------------------------------------------------------------\u001b[0m",
      "\u001b[0;31mKeyboardInterrupt\u001b[0m                         Traceback (most recent call last)",
      "\u001b[0;32m<ipython-input-4-bc0b317181d0>\u001b[0m in \u001b[0;36m<module>\u001b[0;34m\u001b[0m\n\u001b[1;32m      1\u001b[0m \u001b[0;31m# ask for two integer numbers\u001b[0m\u001b[0;34m\u001b[0m\u001b[0;34m\u001b[0m\u001b[0;34m\u001b[0m\u001b[0m\n\u001b[0;32m----> 2\u001b[0;31m \u001b[0ma\u001b[0m \u001b[0;34m=\u001b[0m \u001b[0mint\u001b[0m\u001b[0;34m(\u001b[0m\u001b[0minput\u001b[0m\u001b[0;34m(\u001b[0m\u001b[0;34m\"Please enter an integer number: \"\u001b[0m\u001b[0;34m)\u001b[0m\u001b[0;34m)\u001b[0m\u001b[0;34m\u001b[0m\u001b[0;34m\u001b[0m\u001b[0m\n\u001b[0m\u001b[1;32m      3\u001b[0m \u001b[0mb\u001b[0m \u001b[0;34m=\u001b[0m \u001b[0mint\u001b[0m\u001b[0;34m(\u001b[0m\u001b[0minput\u001b[0m\u001b[0;34m(\u001b[0m\u001b[0;34m\"Please enter another integer number: \"\u001b[0m\u001b[0;34m)\u001b[0m\u001b[0;34m)\u001b[0m\u001b[0;34m\u001b[0m\u001b[0;34m\u001b[0m\u001b[0m\n\u001b[1;32m      4\u001b[0m \u001b[0;34m\u001b[0m\u001b[0m\n\u001b[1;32m      5\u001b[0m \u001b[0;31m# the arithmetic operations with a and b\u001b[0m\u001b[0;34m\u001b[0m\u001b[0;34m\u001b[0m\u001b[0;34m\u001b[0m\u001b[0m\n",
      "\u001b[0;32m~/anaconda3/lib/python3.8/site-packages/ipykernel/kernelbase.py\u001b[0m in \u001b[0;36mraw_input\u001b[0;34m(self, prompt)\u001b[0m\n\u001b[1;32m    858\u001b[0m                 \u001b[0;34m\"raw_input was called, but this frontend does not support input requests.\"\u001b[0m\u001b[0;34m\u001b[0m\u001b[0;34m\u001b[0m\u001b[0m\n\u001b[1;32m    859\u001b[0m             )\n\u001b[0;32m--> 860\u001b[0;31m         return self._input_request(str(prompt),\n\u001b[0m\u001b[1;32m    861\u001b[0m             \u001b[0mself\u001b[0m\u001b[0;34m.\u001b[0m\u001b[0m_parent_ident\u001b[0m\u001b[0;34m,\u001b[0m\u001b[0;34m\u001b[0m\u001b[0;34m\u001b[0m\u001b[0m\n\u001b[1;32m    862\u001b[0m             \u001b[0mself\u001b[0m\u001b[0;34m.\u001b[0m\u001b[0m_parent_header\u001b[0m\u001b[0;34m,\u001b[0m\u001b[0;34m\u001b[0m\u001b[0;34m\u001b[0m\u001b[0m\n",
      "\u001b[0;32m~/anaconda3/lib/python3.8/site-packages/ipykernel/kernelbase.py\u001b[0m in \u001b[0;36m_input_request\u001b[0;34m(self, prompt, ident, parent, password)\u001b[0m\n\u001b[1;32m    902\u001b[0m             \u001b[0;32mexcept\u001b[0m \u001b[0mKeyboardInterrupt\u001b[0m\u001b[0;34m:\u001b[0m\u001b[0;34m\u001b[0m\u001b[0;34m\u001b[0m\u001b[0m\n\u001b[1;32m    903\u001b[0m                 \u001b[0;31m# re-raise KeyboardInterrupt, to truncate traceback\u001b[0m\u001b[0;34m\u001b[0m\u001b[0;34m\u001b[0m\u001b[0;34m\u001b[0m\u001b[0m\n\u001b[0;32m--> 904\u001b[0;31m                 \u001b[0;32mraise\u001b[0m \u001b[0mKeyboardInterrupt\u001b[0m\u001b[0;34m(\u001b[0m\u001b[0;34m\"Interrupted by user\"\u001b[0m\u001b[0;34m)\u001b[0m \u001b[0;32mfrom\u001b[0m \u001b[0;32mNone\u001b[0m\u001b[0;34m\u001b[0m\u001b[0;34m\u001b[0m\u001b[0m\n\u001b[0m\u001b[1;32m    905\u001b[0m             \u001b[0;32mexcept\u001b[0m \u001b[0mException\u001b[0m \u001b[0;32mas\u001b[0m \u001b[0me\u001b[0m\u001b[0;34m:\u001b[0m\u001b[0;34m\u001b[0m\u001b[0;34m\u001b[0m\u001b[0m\n\u001b[1;32m    906\u001b[0m                 \u001b[0mself\u001b[0m\u001b[0;34m.\u001b[0m\u001b[0mlog\u001b[0m\u001b[0;34m.\u001b[0m\u001b[0mwarning\u001b[0m\u001b[0;34m(\u001b[0m\u001b[0;34m\"Invalid Message:\"\u001b[0m\u001b[0;34m,\u001b[0m \u001b[0mexc_info\u001b[0m\u001b[0;34m=\u001b[0m\u001b[0;32mTrue\u001b[0m\u001b[0;34m)\u001b[0m\u001b[0;34m\u001b[0m\u001b[0;34m\u001b[0m\u001b[0m\n",
      "\u001b[0;31mKeyboardInterrupt\u001b[0m: Interrupted by user"
     ]
    }
   ],
   "source": [
    "# ask for two integer numbers\n",
    "a = int(input(\"Please enter an integer number: \"))\n",
    "b = int(input(\"Please enter another integer number: \"))\n",
    "\n",
    "# the arithmetic operations with a and b\n",
    "print(f\"{a} ** {b} is {a**b}\")\n",
    "print(f\"{a} * {b} is {a*b}\")\n",
    "print(f\"{a} / {b} is {a/b}\")\n",
    "print(f\"{a} // {b} is {a//b}\")\n",
    "print(f\"{a} % {b} is {a%b}\")\n",
    "print(f\"{a} + {b} is {a+b}\")\n",
    "print(f\"{a} - {b} is {a-b}\")"
   ]
  },
  {
   "cell_type": "markdown",
   "metadata": {},
   "source": [
    "### 6. Celsius-to-Fahrenheit Converter"
   ]
  },
  {
   "cell_type": "code",
   "execution_count": null,
   "metadata": {},
   "outputs": [],
   "source": [
    "# read floating point value for temperature Celsius from user\n",
    "temp_c = float(input(\"Please enter the temperature in degrees Celsius: \"))\n",
    "\n",
    "# compute temperature in degrees Fahrenheit\n",
    "temp_f = 32 + temp_c * (9/5)\n",
    "\n",
    "# print result\n",
    "print(f\"{temp_c} degrees Celsius is {temp_f} degrees Fahrenheit.\")"
   ]
  },
  {
   "cell_type": "markdown",
   "metadata": {},
   "source": [
    "### 7. BMI Calculation"
   ]
  },
  {
   "cell_type": "code",
   "execution_count": null,
   "metadata": {},
   "outputs": [],
   "source": [
    "# welcome message\n",
    "print(\"Welcome to the BMI calculator.\")\n",
    "\n",
    "# ask name\n",
    "user_name = input(\"What is your name? \")\n",
    "\n",
    "# ask weight\n",
    "user_weight = int(input(\"What is your weight (in kg)? \"))\n",
    "\n",
    "# ask height\n",
    "user_height = float(input(\"What is your height (in m)? \"))\n",
    "\n",
    "# calculate BMI\n",
    "bmi = user_weight / user_height**2\n",
    "\n",
    "# display result\n",
    "print(f\"Hello {user_name}, your BMI is {bmi:.1f}.\")"
   ]
  },
  {
   "cell_type": "markdown",
   "metadata": {},
   "source": [
    "## Module 4: Boolean Expressions and Conditional Branching"
   ]
  },
  {
   "cell_type": "markdown",
   "metadata": {},
   "source": [
    "### 6. Grade Calculation"
   ]
  },
  {
   "cell_type": "code",
   "execution_count": null,
   "metadata": {},
   "outputs": [],
   "source": [
    "print(\"Hello student, welcome to grade calculation!\")\n",
    "examination_complete = input(\"Have you taken part in all examination parts (midterm, final exam, project? (yes/no) \")\n",
    "if examination_complete == \"no\":\n",
    "    print(\"Please go to the lecturer to discuss your situation.\")\n",
    "elif examination_complete == \"yes\":\n",
    "    grade_midterm = float(input(\"Please enter your midterm grade: \"))\n",
    "    grade_exam = float(input(\"Please enter your final exam grade: \"))\n",
    "    grade_project1 = float(input(\"Please enter your project 1 grade: \"))\n",
    "    grade_project2 = float(input(\"Please enter your project 2 grade: \"))\n",
    "    grade_project3 = float(input(\"Please enter your project 3 grade: \"))\n",
    "    grade_project4 = float(input(\"Please enter your project 4 grade: \"))\n",
    "    if grade_midterm >= 4 and grade_exam >= 4 and ((grade_project1 + grade_project2 + grade_project3 + grade_project4)/4) >=4:\n",
    "        weighted_average = 0.2*grade_midterm + 0.4*grade_exam + 0.1*grade_project1 + 0.1*grade_project2 + 0.1*grade_project3 + 0.1*grade_project4\n",
    "        if weighted_average >= 6:\n",
    "            print(f\"Congratulations, you passed the course with grade {weighted_average:.1f}.\")\n",
    "        else:\n",
    "            print(\"You have to take part in the retake exam.\")\n",
    "    else:\n",
    "        print(\"Sorry, you failed the course.\")\n",
    "else:\n",
    "    print(\"Sorry, I did not understand.\")"
   ]
  },
  {
   "cell_type": "markdown",
   "metadata": {},
   "source": [
    "## Module 5: Loops"
   ]
  },
  {
   "cell_type": "markdown",
   "metadata": {},
   "source": [
    "### 1. Canteen Dish"
   ]
  },
  {
   "cell_type": "code",
   "execution_count": null,
   "metadata": {},
   "outputs": [],
   "source": [
    "# greet the customer\n",
    "print(\"Hello, here is the dish of the day for you.\")\n",
    "\n",
    "# ask the user if salt needs to be added, repeat until enough\n",
    "while input(\"Does it need more salt? (y/n) \") == \"y\":\n",
    "    print(\"Okay, I added some more salt.\")\n",
    "\n",
    "# friendly closing   \n",
    "print(\"Enjoy your meal!\")"
   ]
  },
  {
   "cell_type": "markdown",
   "metadata": {},
   "source": [
    "### 2. Summing Up"
   ]
  },
  {
   "cell_type": "code",
   "execution_count": null,
   "metadata": {},
   "outputs": [],
   "source": [
    "# ask the user to enter a number\n",
    "n = int(input(\"Please enter an integer numer: \"))\n",
    "\n",
    "# remember the initial input for later printout\n",
    "orig_n = n\n",
    "\n",
    "# initialize sum to 0\n",
    "sum = 0\n",
    "\n",
    "# iterate over all values from n down to 1 and add them to sum\n",
    "while n > 0:\n",
    "    sum = sum + n\n",
    "    n = n - 1\n",
    "\n",
    "# print result\n",
    "print(f\"The sum of all numbers from 1 to {orig_n} is {sum}.\")"
   ]
  },
  {
   "cell_type": "markdown",
   "metadata": {},
   "source": [
    "### 3. The Bag of Marshmallows"
   ]
  },
  {
   "cell_type": "code",
   "execution_count": null,
   "metadata": {},
   "outputs": [],
   "source": [
    "# open bag\n",
    "print(\"Open bag of marshmallows.\")\n",
    "\n",
    "# eat all the marshmallows\n",
    "while True:\n",
    "    print(\"Eat marshmallow.\")\n",
    "    more_left = input(\"More marshmallows left? (y/n) \")\n",
    "    if more_left==\"n\":\n",
    "        break\n",
    "\n",
    "# clean up\n",
    "print(\"Dispose of bag.\")"
   ]
  },
  {
   "cell_type": "markdown",
   "metadata": {},
   "source": [
    "### 4. Temperature Conversion Revisited"
   ]
  },
  {
   "cell_type": "code",
   "execution_count": null,
   "metadata": {},
   "outputs": [],
   "source": [
    "# start infinite loop for running the program until the user ends it\n",
    "while True:\n",
    "\n",
    "    # read temperature value from user\n",
    "    temp = float(input(\"Please enter temperature: \"))\n",
    "    unit = input(\"Is the temperature in Celsius (c) or Fahrenheit (f)? \")\n",
    "\n",
    "    # read temperature unit from user and convert or display error\n",
    "    if unit == \"c\":\n",
    "        print(f\"{temp} degrees Celsius is {32 + temp * (9/5):.1f} degrees Fahrenheit.\")\n",
    "    elif unit == \"f\":\n",
    "        print(f\"{temp} degrees Fahrenheit is {(temp - 32) * (5/9):.1f} degrees Celsius.\")\n",
    "    else:\n",
    "        print(\"Unknown temperature unit, try again.\")\n",
    "        continue\n",
    "    \n",
    "    # ask user if they want to continue\n",
    "    more = input(\"Do you want to convert another temperature value? (y/n) \")\n",
    "    if more == \"n\":\n",
    "        print(\"Okay, goodbye!\")\n",
    "        break\n",
    "\n"
   ]
  },
  {
   "cell_type": "markdown",
   "metadata": {},
   "source": [
    "### 5. Text Analysis"
   ]
  },
  {
   "cell_type": "code",
   "execution_count": null,
   "metadata": {},
   "outputs": [],
   "source": [
    "# some random text\n",
    "text = \"Lorem ipsum dolor sit amet, consectetur adipiscing elit, sed do \\\n",
    "eiusmod tempor incididunt ut labore et dolore magna aliqua. Ut enim ad \\\n",
    "minim veniam, quis nostrud exercitation ullamco laboris nisi ut aliquip ex \\\n",
    "ea commodo consequat. Duis aute irure dolor in reprehenderit in voluptate \\\n",
    "velit esse cillum dolore eu fugiat nulla pariatur. Excepteur sint occaecat \\\n",
    "cupidatat non proident, sunt in culpa qui officia deserunt mollit anim id \\\n",
    "est laborum.\"\n",
    "\n",
    "# initialize running length counter and word\n",
    "length = 0\n",
    "word = \"\"\n",
    "\n",
    "# initialize variables for storing the max. length and longest word\n",
    "max_length = 0\n",
    "longest_word = \"\"\n",
    "\n",
    "# for all characters in the text ...\n",
    "for character in text:\n",
    "    \n",
    "    # check if the character is a letter (part of a word).\n",
    "    if character.isalpha():\n",
    "        # if yes, increment the length counter and \n",
    "        # add the character to the word to remember\n",
    "        length += 1\n",
    "        word += character\n",
    "    else:\n",
    "        # reset running variables\n",
    "        length = 0\n",
    "        word = \"\"\n",
    "\n",
    "    # check if the last word was longer then the previous longest word\n",
    "    if length > max_length:\n",
    "        # if yes, remember the new max. length and longest word\n",
    "        max_length = length\n",
    "        longest_word = word\n",
    "        \n",
    "# print result\n",
    "print(f\"The longest word in the text is \\\"{longest_word}\\\" \" \\\n",
    "      f\"({max_length} characters).\")"
   ]
  },
  {
   "cell_type": "markdown",
   "metadata": {},
   "source": [
    "## Module 6: Functions, Modules, Packages"
   ]
  },
  {
   "cell_type": "markdown",
   "metadata": {},
   "source": [
    "### 1. Leap Years "
   ]
  },
  {
   "cell_type": "code",
   "execution_count": null,
   "metadata": {},
   "outputs": [],
   "source": [
    "# function that checks if the given year is a leap year\n",
    "def is_leap_year(year):\n",
    "    return year%4==0 and not year%100==0 or \\\n",
    "           year%4==0 and year%100==0 and year%400==0\n",
    "\n",
    "# test program\n",
    "tests = [1900, 1984, 1985, 2000, 2018]\n",
    "for test in tests:\n",
    "    if is_leap_year(test):\n",
    "        print(f\"{test} is a leap year\")\n",
    "    else:\n",
    "        print(f\"{test} is not a leap year\")"
   ]
  },
  {
   "cell_type": "markdown",
   "metadata": {},
   "source": [
    "### 2. Calculator"
   ]
  },
  {
   "cell_type": "code",
   "execution_count": null,
   "metadata": {},
   "outputs": [],
   "source": [
    "# This function adds two numbers \n",
    "def add(x, y):\n",
    "   return x + y\n",
    "\n",
    "# This function subtracts two numbers \n",
    "def subtract(x, y):\n",
    "   return x - y\n",
    "\n",
    "# This function multiplies two numbers\n",
    "def multiply(x, y):\n",
    "   return x * y\n",
    "\n",
    "# This function divides two numbers\n",
    "def divide(x, y):\n",
    "   return x / y\n",
    "\n",
    "# Display options\n",
    "print(\"Select operation.\")\n",
    "print(\"1.Add\")\n",
    "print(\"2.Subtract\")\n",
    "print(\"3.Multiply\")\n",
    "print(\"4.Divide\")\n",
    "\n",
    "# Take input from the user \n",
    "choice = input(\"Enter choice(1/2/3/4):\")\n",
    "num1 = int(input(\"Enter first number: \"))\n",
    "num2 = int(input(\"Enter second number: \"))\n",
    "\n",
    "if choice == '1':\n",
    "   print(f\"{num1} + {num2} = {add(num1,num2)}\")\n",
    "\n",
    "elif choice == '2':\n",
    "   print(f\"{num1} - {num2} = {subtract(num1,num2)}\")\n",
    "\n",
    "elif choice == '3':\n",
    "   print(f\"{num1} * {num2} = {multiply(num1,num2)}\")\n",
    "\n",
    "elif choice == '4':\n",
    "   print(f\"{num1} / {num2} = {divide(num1,num2)}\")\n",
    "\n",
    "else:\n",
    "   print(\"Invalid input\")"
   ]
  },
  {
   "cell_type": "markdown",
   "metadata": {},
   "source": [
    "### 3. Password Generator"
   ]
  },
  {
   "cell_type": "code",
   "execution_count": null,
   "metadata": {},
   "outputs": [],
   "source": [
    "# import the random package (needed to randomize the password)\n",
    "import random\n",
    "\n",
    "# function for creating a password of a given length\n",
    "def create_password(length):\n",
    "    # character set (string) that contains the letters and numbers allowed in our passwords\n",
    "    char_set = \"ABCDEFGHIJKLMNOPQRSTUVWXYZabcdefghijklmnopqrstuvwxyz0123456789\"\n",
    "    \n",
    "    # if the given length is too short, refuse to create (insecure) password\n",
    "    if length < 8:\n",
    "       print(\"Too short, please create longer password.\")\n",
    "       return None\n",
    "    # otherwise, create password as described\n",
    "    else:\n",
    "        # init empty password string\n",
    "        password = \"\"\n",
    "        # for requested number of characters ...\n",
    "        for i in range(0,length):\n",
    "            # ... add a random character from the character set\n",
    "            password += random.choice(char_set)\n",
    "        \n",
    "    # return created password        \n",
    "    return password\n",
    "\n",
    "# test program:\n",
    "print(create_password(4))\n",
    "print(create_password(8))\n",
    "print(create_password(12))\n",
    "print(create_password(16))"
   ]
  },
  {
   "cell_type": "markdown",
   "metadata": {},
   "source": [
    "### 4. Basic Statistics"
   ]
  },
  {
   "cell_type": "code",
   "execution_count": null,
   "metadata": {},
   "outputs": [],
   "source": [
    "# import the statistics package\n",
    "import statistics\n",
    "\n",
    "# Function that prints basic statistics for a sequence of numbers. Optionally,\n",
    "# the desired output can be specified (mean, median, sd, var). Default is to\n",
    "# to print all of them.\n",
    "def print_basic_statistics(*numbers, output=\"all\"):\n",
    "    if output == \"all\":\n",
    "        print(f\"The mean of {numbers} is {statistics.mean(numbers):.1f}.\")\n",
    "        print(f\"The median of {numbers} is {statistics.median(numbers):.1f}.\")\n",
    "        print(f\"The standard deviation of {numbers} is {statistics.stdev(numbers):.1f}.\")\n",
    "        print(f\"The variance of {numbers} is {statistics.variance(numbers):.1f}.\")\n",
    "    elif output == \"mean\":\n",
    "        print(f\"The mean of {numbers} is {statistics.mean(numbers):.1f}.\")\n",
    "    elif output == \"median\":\n",
    "        print(f\"The median of {numbers} is {statistics.median(numbers):.1f}.\")\n",
    "    elif output == \"sd\":\n",
    "        print(f\"The standard deviation of {numbers} is {statistics.stdev(numbers):.1f}.\")\n",
    "    elif output == \"var\":\n",
    "        print(f\"The variance of {numbers} is {statistics.variance(numbers):.1f}.\")\n",
    "    else:\n",
    "        print(\"Unknown parameter.\")\n",
    "\n",
    "\n",
    "# test program\n",
    "print_basic_statistics(91,82,19,13,44)\n",
    "print_basic_statistics(91,82,19,13,44,73,18,95,17,65, output=\"median\")"
   ]
  },
  {
   "cell_type": "markdown",
   "metadata": {},
   "source": [
    "### 5. Ackermann Function"
   ]
  },
  {
   "cell_type": "code",
   "execution_count": null,
   "metadata": {},
   "outputs": [],
   "source": [
    "# function implementing the Ackermann function \n",
    "# (following straightforward from the recursive definition)\n",
    "def ackermann(m,n):\n",
    "    if m==0:\n",
    "        return n+1\n",
    "    elif m>0 and n==0:\n",
    "        return ackermann(m-1,1)\n",
    "    else:\n",
    "        return ackermann(m-1,ackermann(m,n-1))\n",
    "    \n",
    "# test program\n",
    "print(ackermann(0,0))\n",
    "print(ackermann(1,0))\n",
    "print(ackermann(1,1))\n",
    "print(ackermann(1,2))"
   ]
  },
  {
   "cell_type": "markdown",
   "metadata": {},
   "source": [
    "The last output that I could get on my machine is `ackermann(3,3) = 61`. While trying to compute `ackermann(4,4)` the maximum recursion depth is reached and the program aborts with an RecursionError. The Python environment allows only for a limited number of recursive calls of a function (to avoid them using up the available working memory), and with the fast-growing and double-recursive Ackermann function this limit is reached very quickly. For other recursive functions, it takes much longer before this happens, and often a RecursionError means that something is wrong with the implementation, so that recursive calls continue to happen although they should not (similar to an infinite loop)"
   ]
  },
  {
   "cell_type": "markdown",
   "metadata": {},
   "source": [
    "## Module 7: Data Structures"
   ]
  },
  {
   "cell_type": "markdown",
   "metadata": {},
   "source": [
    "### 1. String Reverse"
   ]
  },
  {
   "cell_type": "code",
   "execution_count": null,
   "metadata": {},
   "outputs": [],
   "source": [
    "# function for reversing a string recursively\n",
    "# (Idea: If the string consists only of one letter, the reverse is trivial.\n",
    "# If the string is longer, reverse the string from the second character to\n",
    "# the end, append the first character to that.)\n",
    "def reverse_recursive(string):\n",
    "    if len(string) > 1:\n",
    "        return reverse_recursive(string[1:len(string)]) + string[0]\n",
    "    else:\n",
    "        return string\n",
    "\n",
    "# function for reversing a string with a while-loop\n",
    "# (Idea: Iterate over the characters of the string with a while-loop, \n",
    "# in each iteration adding the current letter to the beginning of the \n",
    "# reversed string.)\n",
    "def reverse_while(string):\n",
    "    i = 0\n",
    "    reversed_string = \"\"\n",
    "    while i < len(string):\n",
    "        reversed_string = string[i] + reversed_string\n",
    "        i = i+1\n",
    "    return reversed_string\n",
    "\n",
    "# function for reversing a string with a for-loop\n",
    "# (Idea: Same as with the while-loop, but less index management needed.)\n",
    "def reverse_for(string):\n",
    "    reversed_string = \"\"\n",
    "    for s in string:\n",
    "        reversed_string = s + reversed_string\n",
    "    return reversed_string\n",
    "\n",
    "# test program\n",
    "string_to_reverse = \"This is just a test.\"\n",
    "print(reverse_recursive(string_to_reverse))\n",
    "print(reverse_while(string_to_reverse))\n",
    "print(reverse_for(string_to_reverse))\n",
    "\n",
    "print(reverse_recursive(string_to_reverse) == reverse_while(string_to_reverse) == reverse_for(string_to_reverse))"
   ]
  },
  {
   "cell_type": "markdown",
   "metadata": {},
   "source": [
    "### 2. Irish League"
   ]
  },
  {
   "cell_type": "code",
   "execution_count": null,
   "metadata": {},
   "outputs": [],
   "source": [
    "# list containing teams and match dates\n",
    "teams = [\"Connacht\", \"Ulster\", \"Munster\", \"Leinster\"] \n",
    "dates = [\"June 1\", \"June 2\", \"June 3\", \"June 4\", \"June 5\", \"June 6\", \\\n",
    "         \"June 7\", \"June 8\", \"June 9\", \"June 10\", \"June 11\", \"June 12\"]\n",
    "\n",
    "# print all match pairings and dates\n",
    "i = 0\n",
    "for home in teams: \n",
    "    for guest in teams: \n",
    "        if home != guest: \n",
    "            print(f\"{home} : {guest} ({dates[i]})\")\n",
    "            i += 1"
   ]
  },
  {
   "cell_type": "markdown",
   "metadata": {},
   "source": [
    "### 3. List of Fibonacci Numbers"
   ]
  },
  {
   "cell_type": "code",
   "execution_count": null,
   "metadata": {},
   "outputs": [],
   "source": [
    "# function that writes the first n fibonacci numbers into a list\n",
    "def fib(n):\n",
    "    if n == 0:\n",
    "        return [1]\n",
    "    elif n == 1:\n",
    "        return [1,1]\n",
    "    elif n > 1:\n",
    "        numbers = [1,1]\n",
    "        next_index = 2\n",
    "        while next_index <= n:\n",
    "            numbers.append(numbers[next_index-1]+numbers[next_index-2])\n",
    "            next_index = next_index + 1\n",
    "        return numbers\n",
    "    else:\n",
    "        print(f\"Cannot compute Fibonacci number for {n}.\")\n",
    "        return None\n",
    "\n",
    "# test program\n",
    "print(fib(0))\n",
    "print(fib(1))\n",
    "print(fib(2))\n",
    "print(fib(12))\n",
    "print(fib(-1))"
   ]
  },
  {
   "cell_type": "markdown",
   "metadata": {},
   "source": [
    "### 4. Anagram Test"
   ]
  },
  {
   "cell_type": "code",
   "execution_count": null,
   "metadata": {},
   "outputs": [],
   "source": [
    "# Function to test if two words are anagrams.\n",
    "# Basic idea: count the number of occurrences of each\n",
    "# letter in two dictionaries, then compare if they are the same.\n",
    "def is_anagram(word1,word2):\n",
    "    counts1 = {}\n",
    "    for w in word1.lower():\n",
    "        if w in counts1:\n",
    "            counts1[w] += 1\n",
    "        else:\n",
    "            counts1[w] = 1\n",
    "\n",
    "    counts2 = {}\n",
    "    for w in word2.lower():\n",
    "        if w in counts2:\n",
    "            counts2[w] += 1\n",
    "        else:\n",
    "            counts2[w] = 1\n",
    "\n",
    "    return counts1 == counts2\n",
    "\n",
    "# Test program\n",
    "print(is_anagram(\"rescue\", \"secure\")) # should be True\n",
    "print(is_anagram(\"Rescue\", \"Secure\")) # should be True\n",
    "print(is_anagram(\"Rescue\", \"Anchor\")) # should be False\n",
    "print(is_anagram(\"Ship\", \"Secure\")) # should be False"
   ]
  },
  {
   "cell_type": "markdown",
   "metadata": {},
   "source": [
    " An alternative solution would be to simply sort the strings and compare if they are equal then. "
   ]
  },
  {
   "cell_type": "markdown",
   "metadata": {},
   "source": [
    "### 5. Room Occupancy"
   ]
  },
  {
   "cell_type": "code",
   "execution_count": null,
   "metadata": {},
   "outputs": [
    {
     "name": "stdout",
     "output_type": "stream",
     "text": [
      "These are your options:\n",
      "1 - View current room occupancy.\n",
      "2 - Check guest in.\n",
      "3 - Check guest out.\n",
      "4 - Exit program.\n",
      "Please choose what you want to do: 1\n",
      "101: []\n",
      "102: []\n",
      "201: []\n",
      "202: []\n",
      "These are your options:\n",
      "1 - View current room occupancy.\n",
      "2 - Check guest in.\n",
      "3 - Check guest out.\n",
      "4 - Exit program.\n",
      "Please choose what you want to do: 2\n",
      "Enter name of guest: Manon\n",
      "Enter room number: 101\n",
      "These are your options:\n",
      "1 - View current room occupancy.\n",
      "2 - Check guest in.\n",
      "3 - Check guest out.\n",
      "4 - Exit program.\n"
     ]
    }
   ],
   "source": [
    "# function that prints the given room occupancy\n",
    "def print_occupancy(ro):\n",
    "    rooms = list(ro.keys())\n",
    "    rooms.sort()\n",
    "    for room in rooms:\n",
    "        print(f\"{room}: {ro[room]}\")\n",
    "\n",
    "# function for checking in a guest to a room\n",
    "def check_in(ro, guest, room):\n",
    "    if room in ro:\n",
    "        if len(ro[room]) < 4:\n",
    "            ro[room].append(guest)\n",
    "        else:\n",
    "            print(f\"Room {room} is already full.\")\n",
    "    else:\n",
    "        print(\"Room {room} does not exist.\")\n",
    "\n",
    "# function for checking out a guest from a room\n",
    "def check_out(ro, guest, room):\n",
    "    if room in ro:\n",
    "        if guest in ro[room]:\n",
    "            ro[room].remove(guest)\n",
    "        else:\n",
    "            print(f\"{guest} is not a guest in room {room}.\")\n",
    "    else:\n",
    "        print(\"Room {room} does not exist.\")\n",
    "\n",
    "\n",
    "# Main program\n",
    "room_occupancy = {101:[], 102:[], 201:[], 202:[]}\n",
    "\n",
    "while True:\n",
    "    print(\"These are your options:\")\n",
    "    print(\"1 - View current room occupancy.\")\n",
    "    print(\"2 - Check guest in.\")\n",
    "    print(\"3 - Check guest out.\")\n",
    "    print(\"4 - Exit program.\")\n",
    "    choice = input(\"Please choose what you want to do: \")\n",
    "\n",
    "    if choice == \"1\":\n",
    "        print_occupancy(room_occupancy)\n",
    "    elif choice == \"2\":\n",
    "        guest = input(\"Enter name of guest: \")\n",
    "        room = int(input(\"Enter room number: \"))\n",
    "        check_in(room_occupancy, guest, room)\n",
    "    elif choice == \"3\":\n",
    "        guest = input(\"Enter name of guest: \")\n",
    "        room = int(input(\"Enter room number: \"))\n",
    "        check_out(room_occupancy, guest, room)\n",
    "    elif choice == \"4\":\n",
    "        print(\"Goodbye!\")\n",
    "        break\n",
    "    else:\n",
    "        print(\"Invalid input, try again.\")"
   ]
  },
  {
   "cell_type": "markdown",
   "metadata": {},
   "source": [
    "## Module 8: File IO and Error Handling"
   ]
  },
  {
   "cell_type": "markdown",
   "metadata": {},
   "source": [
    "### 1. Interview Anonymization"
   ]
  },
  {
   "cell_type": "code",
   "execution_count": null,
   "metadata": {},
   "outputs": [],
   "source": [
    "interview_file = \"data/interview-with-a-syrian-refugee.txt\"\n",
    "new_file = \"data/interview-with-a-syrian-refugee-anonymized.txt\"\n",
    "\n",
    "try:\n",
    "    # read original interview text from file\n",
    "    with open(interview_file, \"r\") as file:\n",
    "        text = file.read()\n",
    "\n",
    "    # write obfuscated interview text to file\n",
    "    with open(new_file, \"w\") as file:\n",
    "        file.write(text.replace(\"Samira\",\"Amal\"))\n",
    "\n",
    "# if interview file is not found, inform user accordingly\n",
    "except FileNotFoundError:\n",
    "    print(f\"File {interview_file} not found.\")\n",
    "\n",
    "# for any other error, display the exception message\n",
    "except Exception as err:\n",
    "    print(\"Something went wrong...\")\n",
    "    print(err)"
   ]
  },
  {
   "cell_type": "markdown",
   "metadata": {},
   "source": [
    "### 2. Longest Word"
   ]
  },
  {
   "cell_type": "code",
   "execution_count": null,
   "metadata": {},
   "outputs": [],
   "source": [
    "# function to find the longest word in a text\n",
    "def find_longest_word(text):\n",
    "\n",
    "    # initialize running length counter and word\n",
    "    length = 0\n",
    "    word = \"\"\n",
    "\n",
    "    # initialize variables for storing the max. length and longest word\n",
    "    max_length = 0\n",
    "    longest_word = \"\"\n",
    "\n",
    "    # for all characters in the text ...\n",
    "    for character in text:\n",
    "    \n",
    "        # check if the character is a letter (part of a word).\n",
    "        if character.isalpha():\n",
    "            # if yes, increment the length counter and \n",
    "            # add the character to the word to remember\n",
    "            length += 1\n",
    "            word += character\n",
    "        else:\n",
    "            # reset running variables\n",
    "            length = 0\n",
    "            word = \"\"\n",
    "\n",
    "        # check if the last word was longer then the previous longest word\n",
    "        if length > max_length:\n",
    "            # if yes, remember the new max. length and longest word\n",
    "            max_length = length\n",
    "            longest_word = word\n",
    "    \n",
    "    return longest_word\n",
    "\n",
    "\n",
    "# main program\n",
    "text_file = \"data/interview-with-a-syrian-refugee.txt\"\n",
    "\n",
    "try:\n",
    "    # read original interview text from file\n",
    "    with open(text_file, \"r\") as file:\n",
    "        text = file.read()\n",
    "\n",
    "# if input file is not found, inform user accordingly\n",
    "except FileNotFoundError:\n",
    "    print(f\"File {text_file} not found.\")\n",
    "\n",
    "# for any other error, display the exception message\n",
    "except Exception as err:\n",
    "    print(\"Something went wrong...\")\n",
    "    print(err)\n",
    "    \n",
    "# print result\n",
    "print(f\"The longest word in the text is \\\"{find_longest_word(text)}\\\".\")"
   ]
  },
  {
   "cell_type": "markdown",
   "metadata": {},
   "source": [
    "### 3. Randomized Story-Telling"
   ]
  },
  {
   "cell_type": "code",
   "execution_count": null,
   "metadata": {},
   "outputs": [],
   "source": [
    "import pandas as pd\n",
    "import sys\n",
    "import random\n",
    "\n",
    "# set path to input file\n",
    "infile = \"data/inputs.csv\"\n",
    "\n",
    "try:\n",
    "    # read input file as dataframe\n",
    "    df_in = pd.read_csv(infile, sep=\",\")\n",
    "\n",
    "# for any error, display the exception message\n",
    "except Exception as err:\n",
    "    print(\"Something went wrong...\")\n",
    "    print(err) \n",
    "    sys.exit()\n",
    "\n",
    "\n",
    "# ask user how many sentences should be created\n",
    "while True:\n",
    "    try:\n",
    "        number = int(input(\"How many sentences do you want to create? \"))\n",
    "        break\n",
    "    except ValueError:\n",
    "        print(\"That was no valid number. Try again.\") \n",
    "    \n",
    "# create the desired number of sentences\n",
    "while number > 0:\n",
    "\n",
    "    # select a random value for each of the four sentence elements\n",
    "    who = df_in.loc[random.randint(0,df_in[\"who\"].size-1),\"who\"]\n",
    "    does_what = df_in.loc[random.randint(0,df_in[\"does what\"].size-1),\"does what\"]\n",
    "    how = df_in.loc[random.randint(0,df_in[\"how\"].size-1),\"how\"]\n",
    "    where = df_in.loc[random.randint(0,df_in[\"where\"].size-1),\"where\"]\n",
    "    \n",
    "    print(f\"{who} {does_what} {how} {where}.\")\n",
    "\n",
    "    number -= 1"
   ]
  },
  {
   "cell_type": "markdown",
   "metadata": {},
   "source": [
    "### 4. Population and Universities per Province"
   ]
  },
  {
   "cell_type": "code",
   "execution_count": null,
   "metadata": {},
   "outputs": [],
   "source": [
    "import pandas as pd\n",
    "import sys\n",
    "\n",
    "# set paths to input and output file\n",
    "infile = \"data/dutch_municipalities.csv\"\n",
    "outfile = \"data/dutch_provinces.csv\"\n",
    "\n",
    "\n",
    "try:\n",
    "    # read input file as dataframe\n",
    "    df_in = pd.read_csv(infile, sep=\"\\t\")\n",
    "\n",
    "# for any error, display the exception message\n",
    "except Exception as err:\n",
    "    print(\"Something went wrong...\")\n",
    "    print(err) \n",
    "    sys.exit()\n",
    "\n",
    "# init new empty dataframe with the wanted columns\n",
    "df_out = pd.DataFrame(columns=[\"province\", \"population\", \"universities\"])\n",
    "\n",
    "# get province names (as sorted set)\n",
    "provinces = sorted(set(df_in[\"province\"]))\n",
    "\n",
    "# for all provinces ...\n",
    "for province in provinces:\n",
    "    # get the part of the dataframe for the province\n",
    "    df_province = df_in[df_in[\"province\"]==province]\n",
    "    \n",
    "    # sum up universities and population and add to new data frame\n",
    "    df_out = df_out.append({\"province\":province,\\\n",
    "                            \"population\":df_province[\"population\"].sum(),\\\n",
    "                            \"universities\":df_province[\"university\"].sum()},\\\n",
    "                            ignore_index=True)\n",
    "  \n",
    "try:\n",
    "    # save new dataframe as csv file\n",
    "    df_out.to_csv(outfile, index=False)\n",
    "\n",
    "# for any error, display the exception message\n",
    "except Exception as err:\n",
    "    print(\"Something went wrong...\")\n",
    "    print(err) \n",
    "    sys.exit()\n",
    "    \n",
    "\n",
    "# Another possible, but longer solution is with the csv package and \n",
    "# dictionaries, as shown below (without try/except error handling).\n",
    "#\n",
    "# import csv\n",
    "#\n",
    "## create two empty dictionaries to collect the aggregated data\n",
    "#universities_per_province = {}\n",
    "#population_per_province = {}\n",
    "#\n",
    "## read in the data and iterate over all rows, adding up\n",
    "## population and university numbers per province\n",
    "#with open(\"dutch_municipalities.csv\", \"r\") as csvfile:\n",
    "#    csvreader = csv.DictReader(csvfile, delimiter='\\t')\n",
    "#    for row in csvreader:\n",
    "#        if row[\"province\"] not in universities_per_province:\n",
    "#            universities_per_province[row[\"province\"]] = int(row[\"university\"])"
   ]
  },
  {
   "cell_type": "markdown",
   "metadata": {},
   "source": [
    "### 5. Error Handling\n",
    "See answers 1.-4."
   ]
  },
  {
   "cell_type": "markdown",
   "metadata": {},
   "source": [
    "## Module 9: Accessing Remote Resources"
   ]
  },
  {
   "cell_type": "markdown",
   "metadata": {},
   "source": [
    "### 1. Reading Content from the Web"
   ]
  },
  {
   "cell_type": "code",
   "execution_count": null,
   "metadata": {},
   "outputs": [],
   "source": [
    "import requests\n",
    "import re\n",
    "\n",
    "# function for checking if an accesion number has valid uniprot format\n",
    "def is_uniprot_accession(acc):\n",
    "    uniprot_pattern = \"[OPQ][0-9][A-Z0-9]{3}[0-9]|[A-NR-Z][0-9]([A-Z][A-Z0-9]{2}[0-9]){1,2}\"\n",
    "    return bool(re.fullmatch(uniprot_pattern, acc))\n",
    "\n",
    "   \n",
    "# main program\n",
    "print(is_uniprot_accession(\"P05787\"))    \n",
    "\n",
    "while True:\n",
    "    accession = input(\"Please enter a Uniprot accession number: \")\n",
    "    if is_uniprot_accession(accession):\n",
    "        break\n",
    "    else:\n",
    "        print(\"Invalid input, try again.\")\n",
    "\n",
    "\n",
    "# try to GET entry P05787 from UniProt\n",
    "try: \n",
    "    response = requests.get(\"https://www.uniprot.org/uniprot/\" + accession + \".txt\")\n",
    "except Exception as err:\n",
    "    print(\"Something went wrong:\", err)\n",
    "    response = None\n",
    "\n",
    "# if the GET was successful and the status code is okay,\n",
    "# save content into file\n",
    "if response!=None:\n",
    "    if response.ok:\n",
    "        with open(\"data/\" + accession + \".txt\", \"w\") as outfile:\n",
    "            outfile.write(response.text)      \n",
    "            print(f\"File saved as {accession}.txt\")\n",
    "    else:\n",
    "        print(\"Something went wrong with status code\", \\\n",
    "              response.status_code)\n",
    "    "
   ]
  },
  {
   "cell_type": "markdown",
   "metadata": {},
   "source": [
    "### 2. Calling REST Web Services with GET"
   ]
  },
  {
   "cell_type": "code",
   "execution_count": null,
   "metadata": {},
   "outputs": [],
   "source": [
    "import requests\n",
    "import json\n",
    "\n",
    "# ask the user to enter a search term\n",
    "searchterm = input(\"What would you like advice on? \")\n",
    "\n",
    "# query the advice slip wb service\n",
    "response = requests.get(\"http://api.adviceslip.com/advice/search/\" + searchterm)\n",
    "\n",
    "# if call was successful, try to print the obtained advices\n",
    "if response.ok:\n",
    "    response_json = json.loads(response.text)\n",
    "    try:\n",
    "        for slip in response_json[\"slips\"]:\n",
    "            print(\"Advice No.\", slip[\"id\"], \":\", slip[\"advice\"])\n",
    "    except KeyError:\n",
    "        print(\"No suitable advice found.\")"
   ]
  },
  {
   "cell_type": "markdown",
   "metadata": {},
   "source": [
    "### 3. Calling REST Web Services with POST"
   ]
  },
  {
   "cell_type": "code",
   "execution_count": null,
   "metadata": {},
   "outputs": [],
   "source": [
    "import requests\n",
    "import urllib.parse\n",
    "\n",
    "# NOTE: to keep the code short and illustrate the relevant features for\n",
    "# the service call, I omitted all error handling and user guidance here\n",
    "# (you do better on this...)\n",
    "\n",
    "# text to encode (must be URL-encoded)\n",
    "text = input(\"Please enter the text you want to encode: \")\n",
    "urllib.parse.quote_plus(text)\n",
    "\n",
    "# ask further parameters from the user\n",
    "color = input(\"Please enter the color you want to use (in RGB): \")\n",
    "bgcolor = input(\"Please enter the background color you want to use (in RGB): \")\n",
    "imageformat = input(\"Please enter the image format you want to use (png, jpg, ...): \")\n",
    "\n",
    "# POST text and other parameters to the web service\n",
    "payload = {'data': text, 'color': color, 'bgcolor': bgcolor, 'format':imageformat }\n",
    "response = requests.post(\"https://api.qrserver.com/v1/create-qr-code/\", data=payload)\n",
    "\n",
    "# write the response into a binary file\n",
    "with open(\"img/qrcode.\" + imageformat, \"wb\") as file:\n",
    "    file.write(bytearray(response.content))"
   ]
  },
  {
   "cell_type": "markdown",
   "metadata": {},
   "source": [
    "## Module 10: CRISP-DM and Data Science Libraries"
   ]
  },
  {
   "cell_type": "code",
   "execution_count": 5,
   "metadata": {},
   "outputs": [
    {
     "name": "stdout",
     "output_type": "stream",
     "text": [
      "    Category                              Item    Serving Size  Calories  \\\n",
      "0  Breakfast                      Egg McMuffin  4.8 oz (136 g)       300   \n",
      "1  Breakfast                 Egg White Delight  4.8 oz (135 g)       250   \n",
      "2  Breakfast                  Sausage McMuffin  3.9 oz (111 g)       370   \n",
      "3  Breakfast         Sausage McMuffin with Egg  5.7 oz (161 g)       450   \n",
      "4  Breakfast  Sausage McMuffin with Egg Whites  5.7 oz (161 g)       400   \n",
      "\n",
      "   Calories from Fat  Total Fat  Total Fat (% Daily Value)  Saturated Fat  \\\n",
      "0                120       13.0                         20            5.0   \n",
      "1                 70        8.0                         12            3.0   \n",
      "2                200       23.0                         35            8.0   \n",
      "3                250       28.0                         43           10.0   \n",
      "4                210       23.0                         35            8.0   \n",
      "\n",
      "   Saturated Fat (% Daily Value)  Trans Fat  ...  Carbohydrates  \\\n",
      "0                             25        0.0  ...             31   \n",
      "1                             15        0.0  ...             30   \n",
      "2                             42        0.0  ...             29   \n",
      "3                             52        0.0  ...             30   \n",
      "4                             42        0.0  ...             30   \n",
      "\n",
      "   Carbohydrates (% Daily Value)  Dietary Fiber  \\\n",
      "0                             10              4   \n",
      "1                             10              4   \n",
      "2                             10              4   \n",
      "3                             10              4   \n",
      "4                             10              4   \n",
      "\n",
      "   Dietary Fiber (% Daily Value)  Sugars  Protein  Vitamin A (% Daily Value)  \\\n",
      "0                             17       3       17                         10   \n",
      "1                             17       3       18                          6   \n",
      "2                             17       2       14                          8   \n",
      "3                             17       2       21                         15   \n",
      "4                             17       2       21                          6   \n",
      "\n",
      "   Vitamin C (% Daily Value)  Calcium (% Daily Value)  Iron (% Daily Value)  \n",
      "0                          0                       25                    15  \n",
      "1                          0                       25                     8  \n",
      "2                          0                       25                    10  \n",
      "3                          0                       30                    15  \n",
      "4                          0                       25                    10  \n",
      "\n",
      "[5 rows x 24 columns]\n",
      "          Calories  Calories from Fat   Total Fat  Total Fat (% Daily Value)  \\\n",
      "count   260.000000         260.000000  260.000000                 260.000000   \n",
      "mean    368.269231         127.096154   14.165385                  21.815385   \n",
      "std     240.269886         127.875914   14.205998                  21.885199   \n",
      "min       0.000000           0.000000    0.000000                   0.000000   \n",
      "25%     210.000000          20.000000    2.375000                   3.750000   \n",
      "50%     340.000000         100.000000   11.000000                  17.000000   \n",
      "75%     500.000000         200.000000   22.250000                  35.000000   \n",
      "max    1880.000000        1060.000000  118.000000                 182.000000   \n",
      "\n",
      "       Saturated Fat  Saturated Fat (% Daily Value)   Trans Fat  Cholesterol  \\\n",
      "count     260.000000                     260.000000  260.000000   260.000000   \n",
      "mean        6.007692                      29.965385    0.203846    54.942308   \n",
      "std         5.321873                      26.639209    0.429133    87.269257   \n",
      "min         0.000000                       0.000000    0.000000     0.000000   \n",
      "25%         1.000000                       4.750000    0.000000     5.000000   \n",
      "50%         5.000000                      24.000000    0.000000    35.000000   \n",
      "75%        10.000000                      48.000000    0.000000    65.000000   \n",
      "max        20.000000                     102.000000    2.500000   575.000000   \n",
      "\n",
      "       Cholesterol (% Daily Value)       Sodium  ...  Carbohydrates  \\\n",
      "count                   260.000000   260.000000  ...     260.000000   \n",
      "mean                     18.392308   495.750000  ...      47.346154   \n",
      "std                      29.091653   577.026323  ...      28.252232   \n",
      "min                       0.000000     0.000000  ...       0.000000   \n",
      "25%                       2.000000   107.500000  ...      30.000000   \n",
      "50%                      11.000000   190.000000  ...      44.000000   \n",
      "75%                      21.250000   865.000000  ...      60.000000   \n",
      "max                     192.000000  3600.000000  ...     141.000000   \n",
      "\n",
      "       Carbohydrates (% Daily Value)  Dietary Fiber  \\\n",
      "count                     260.000000     260.000000   \n",
      "mean                       15.780769       1.630769   \n",
      "std                         9.419544       1.567717   \n",
      "min                         0.000000       0.000000   \n",
      "25%                        10.000000       0.000000   \n",
      "50%                        15.000000       1.000000   \n",
      "75%                        20.000000       3.000000   \n",
      "max                        47.000000       7.000000   \n",
      "\n",
      "       Dietary Fiber (% Daily Value)      Sugars     Protein  \\\n",
      "count                     260.000000  260.000000  260.000000   \n",
      "mean                        6.530769   29.423077   13.338462   \n",
      "std                         6.307057   28.679797   11.426146   \n",
      "min                         0.000000    0.000000    0.000000   \n",
      "25%                         0.000000    5.750000    4.000000   \n",
      "50%                         5.000000   17.500000   12.000000   \n",
      "75%                        10.000000   48.000000   19.000000   \n",
      "max                        28.000000  128.000000   87.000000   \n",
      "\n",
      "       Vitamin A (% Daily Value)  Vitamin C (% Daily Value)  \\\n",
      "count                 260.000000                 260.000000   \n",
      "mean                   13.426923                   8.534615   \n",
      "std                    24.366381                  26.345542   \n",
      "min                     0.000000                   0.000000   \n",
      "25%                     2.000000                   0.000000   \n",
      "50%                     8.000000                   0.000000   \n",
      "75%                    15.000000                   4.000000   \n",
      "max                   170.000000                 240.000000   \n",
      "\n",
      "       Calcium (% Daily Value)  Iron (% Daily Value)  \n",
      "count               260.000000            260.000000  \n",
      "mean                 20.973077              7.734615  \n",
      "std                  17.019953              8.723263  \n",
      "min                   0.000000              0.000000  \n",
      "25%                   6.000000              0.000000  \n",
      "50%                  20.000000              4.000000  \n",
      "75%                  30.000000             15.000000  \n",
      "max                  70.000000             40.000000  \n",
      "\n",
      "[8 rows x 21 columns]\n"
     ]
    }
   ],
   "source": [
    "import pandas as pd\n",
    "import numpy as np\n",
    "import matplotlib.pyplot as plt\n",
    "\n",
    "# import menu and display the first two rows of the dataframe\n",
    "menu = pd.read_csv(\"data/mcdonalds_menu.csv\")\n",
    "print(menu.head(5))\n",
    "\n",
    "# display simple statistics about the data frame\n",
    "print(menu.describe())"
   ]
  },
  {
   "cell_type": "markdown",
   "metadata": {},
   "source": [
    "### Question 1"
   ]
  },
  {
   "cell_type": "code",
   "execution_count": 6,
   "metadata": {},
   "outputs": [
    {
     "name": "stdout",
     "output_type": "stream",
     "text": [
      "Question 1:\n",
      "Total number of items: 260\n"
     ]
    },
    {
     "data": {
      "image/png": "[encoded data removed]",
      "text/plain": [
       "<Figure size 432x288 with 1 Axes>"
      ]
     },
     "metadata": {
      "needs_background": "light"
     },
     "output_type": "display_data"
    }
   ],
   "source": [
    "# determine number of items and create barplot\n",
    "print(\"Question 1:\")\n",
    "print(\"Total number of items:\", len(menu.Item.unique()))\n",
    "menu.groupby('Category')['Item'].count().plot(kind='bar')\n",
    "plt.show()"
   ]
  },
  {
   "cell_type": "markdown",
   "metadata": {},
   "source": [
    "### Question 2"
   ]
  },
  {
   "cell_type": "code",
   "execution_count": null,
   "metadata": {},
   "outputs": [],
   "source": [
    "# analysis fat per category\n",
    "print(\"Question 2:\")\n",
    "menu.boxplot(column=['Total Fat (% Daily Value)'], by=['Category'], rot=90)\n",
    "plt.show()\n",
    "\n",
    "grp_by_category = menu[['Category', 'Total Fat (% Daily Value)','Trans Fat','Saturated Fat (% Daily Value)', 'Cholesterol (% Daily Value)' ]].groupby(['Category']).max() #extracting the wanted columns, grouping by categories and calculating the max\n",
    "grp_by_category.reset_index(inplace=True) #resetting the index (otherwise category is the new index and it messes up with merge)\n",
    "grp_by_category.columns=['Category', 'Max_Fat', 'Max_Trans_Fat', 'Max_Sat_Fat', 'Max_Cholestrol'] #renaming the columns\n",
    "print(grp_by_category) #displaying the new dataframe\n",
    "\n",
    "df = menu.merge(grp_by_category) #merging the two dataframes by the only common column (\"Category\")\n",
    "mask = df['Total Fat (% Daily Value)'] == df.Max_Fat #creating the mask that will be used for the selection\n",
    "fatty_menu = df.loc[mask, ['Category','Item','Total Fat (% Daily Value)','Cholesterol (% Daily Value)']] #selection the items that correspond to the max of total fat (%daily value) per category\n",
    "print(fatty_menu) #displaying the dataframe\n",
    "\n",
    "trans_menu = df.loc[(df['Trans Fat'] == df.Max_Trans_Fat) & (df['Trans Fat']>0)][['Category','Item','Total Fat (% Daily Value)','Trans Fat','Saturated Fat (% Daily Value)','Cholesterol (% Daily Value)']] #creating a new filter\n",
    "print(trans_menu.sort_values(by='Trans Fat',ascending=False)) #displaying the dataframe sorted by Trans Fat (decreasing order)\n"
   ]
  },
  {
   "cell_type": "markdown",
   "metadata": {},
   "source": [
    "### Question 3"
   ]
  },
  {
   "cell_type": "code",
   "execution_count": null,
   "metadata": {},
   "outputs": [],
   "source": [
    "# anything healthy?\n",
    "print(\"Question 3:\")\n",
    "healthy = df.loc[(df['Trans Fat']==0) & (df['Sugars']<20) & (df['Total Fat (% Daily Value)']<=20) & (df['Cholesterol (% Daily Value)']==0), ['Category','Item','Calories']].sort_values('Calories', ascending=False)\n",
    "print(healthy[(healthy['Category']!=\"Beverages\") & (healthy['Category']!=\"Coffee & Tea\")])"
   ]
  },
  {
   "cell_type": "markdown",
   "metadata": {},
   "source": [
    "### Question 4"
   ]
  },
  {
   "cell_type": "code",
   "execution_count": null,
   "metadata": {},
   "outputs": [],
   "source": [
    "# top 10 vitamin C\n",
    "print(\"Question 4:\")\n",
    "pd.pivot_table(menu, index=['Item'], values=['Vitamin C (% Daily Value)']).sort_values(['Vitamin C (% Daily Value)'], ascending=False)[:10].plot(kind=\"bar\")\n",
    "plt.show()"
   ]
  },
  {
   "cell_type": "markdown",
   "metadata": {},
   "source": [
    "### Question 5"
   ]
  },
  {
   "cell_type": "code",
   "execution_count": null,
   "metadata": {},
   "outputs": [],
   "source": [
    "# top 3 muscle food\n",
    "print(\"Question 5:\")\n",
    "menu['Protein/Sugar'] = np.where(menu['Sugars'] < 1, menu['Sugars'], menu['Protein']/menu['Sugars'])\n",
    "print(menu.sort_values('Protein/Sugar', ascending=False).head(3))"
   ]
  },
  {
   "cell_type": "markdown",
   "metadata": {},
   "source": [
    "### Question 6"
   ]
  },
  {
   "cell_type": "code",
   "execution_count": null,
   "metadata": {},
   "outputs": [],
   "source": [
    "# nutrition feature comparison\n",
    "print(\"Question 6:\")\n",
    "selection = menu.loc[:,['Calories', 'Total Fat', 'Saturated Fat', 'Cholesterol', 'Sodium', 'Carbohydrates', 'Sugars', 'Protein']]\n",
    "pd.plotting.scatter_matrix(selection, diagonal='kde', figsize=(12,12), grid=True)\n",
    "plt.show()"
   ]
  },
  {
   "cell_type": "markdown",
   "metadata": {},
   "source": [
    "## Module 11: Regular Expressions"
   ]
  },
  {
   "cell_type": "markdown",
   "metadata": {},
   "source": [
    "### 1. Understanding Regular Expressions\n",
    "\n",
    "Answers part A:\n",
    "1. the time in 24h format (00:00 until 23:59 are allowed)\n",
    "2. Python (.py) files (case sensitive)\n",
    "3. image files (different image file extensions, case insensitive)\n",
    "4. e-mail addresses (something@something.net)\n",
    "5. the text between two tags\n",
    "\n",
    "Answers part B: \n",
    "Three out of many examples of possible accession numbers are O1AAA2, L3BC00 and V4M772."
   ]
  },
  {
   "cell_type": "markdown",
   "metadata": {},
   "source": [
    "## 2. Writing Regular Expressions\n",
    "1. `[1-9][0-9]?`\n",
    "2. `[1-9][0-9]+`\n",
    "3. `[1-9][0-9]*`\n",
    "4. `[1-9][0-9]{3}`\n",
    "5. `[1-9][0-9]{3,}`\n",
    "6. `[1-9][0-9]{1,3}`\n",
    "7. `1.0|0\\.[0-9]+`\n",
    "8. `[+-][0-9]+\\.[0-9]+o[CF]`\n",
    "9. `[1-9][0-9]{3} [A-Z]{2}`\n",
    "10. `[0-9]{4}\\.[0-9]{2}\\.[0-9]{3}`"
   ]
  },
  {
   "cell_type": "markdown",
   "metadata": {},
   "source": [
    "### 3. Information from a Database Entry"
   ]
  },
  {
   "cell_type": "code",
   "execution_count": 3,
   "metadata": {},
   "outputs": [
    {
     "name": "stdout",
     "output_type": "stream",
     "text": [
      "['01-NOV-1988', '23-JAN-2007', '10-FEB-2021']\n",
      "['Acetylation', 'Alternative splicing', 'Coiled coil', 'Cytoplasm', 'Direct protein sequencing', 'Disease variant', 'Glycoprotein', 'Host-virus interaction', 'Intermediate filament', 'Isopeptide bond', 'Keratin', 'Methylation', 'Nucleus', 'Phosphoprotein', 'Reference proteome', 'Ubl conjugation']\n"
     ]
    }
   ],
   "source": [
    "import re\n",
    "\n",
    "# read content of file into a string variable\n",
    "with open(\"data/P05787.txt\", \"r\") as file:\n",
    "    dbentry = file.read()\n",
    "\n",
    "# extract and print the dates and keywords\n",
    "dates = re.findall(\"(?m)^DT\\W+(\\d{2}\\-[A-Z]{3}\\-\\d{4}).+$\", dbentry)\n",
    "print(dates)\n",
    "\n",
    "kw_lines = re.findall(\"(?m)^KW\\W+(.+)$\", dbentry)\n",
    "keywords = []\n",
    "for kw_line in kw_lines:\n",
    "    kws = re.findall(\"\\w[\\w\\s\\-]+\", kw_line)\n",
    "    keywords += kws\n",
    "\n",
    "print(keywords)"
   ]
  },
  {
   "cell_type": "markdown",
   "metadata": {},
   "source": [
    "### 4. String Reformatting"
   ]
  },
  {
   "cell_type": "code",
   "execution_count": 11,
   "metadata": {},
   "outputs": [
    {
     "name": "stdout",
     "output_type": "stream",
     "text": [
      "ID   K2C8_HUMAN              Reviewed;         483 AA.\n",
      "AC   P05787; A8K4H3; B0AZN5; F8VXB4; Q14099; Q14716; Q14717; Q53GJ0; Q6DHW5;\n",
      "AC   Q6GMY0; Q6P4C7; Q96J60;\n",
      "DT   01-NOV-1988, integrated into UniProtKB/Swiss-Prot.\n",
      "DT   23-JAN-2007, sequence version 7.\n",
      "DT   10-FEB-2021, entry version 241.\n",
      "DE   RecName: Full=Keratin, type II cytoskeletal 8;\n",
      "DE   AltName: Full=Cytokeratin-8;\n",
      "DE            Short=CK-8;\n",
      "DE   AltName: Full=Keratin-8;\n",
      "DE            Short=K8;\n",
      "DE   AltName: Full=Type-II keratin Kb8;\n",
      "GN   Name=KRT8; Synonyms=CYK8;\n",
      "OS   Homo sapiens (Human).\n",
      "OC   Eukaryota; Metazoa; Chordata; Craniata; Vertebrata; Euteleostomi; Mammalia;\n",
      "OC   Eutheria; Euarchontoglires; Primates; Haplorrhini; Catarrhini; Hominidae;\n",
      "OC   Homo.\n",
      "OX   NCBI_TaxID=9606;\n",
      "RN   [1]\n",
      "RP   NUCLEOTIDE SEQUENCE [GENOMIC DNA], AND VARIANT GLY-417.\n",
      "RX   PubMed=1691124; DOI=10.1016/0378-1119(90)90285-y;\n",
      "(authors anonymized)\n",
      "RT   \"Organization and sequence of the human gene encoding cytokeratin 8.\";\n",
      "RL   Gene 86:241-249(1990).\n",
      "RN   [2]\n",
      "RP   NUCLEOTIDE SEQUENCE [MRNA].\n",
      "RX   PubMed=1692965; DOI=10.1210/mend-4-3-370;\n",
      "(authors anonymized)\n",
      "RT   \"Cloning and sequence of cDNA for human placental cytokeratin 8. Regulation\n",
      "RT   of the mRNA in trophoblastic cells by cAMP.\";\n",
      "RL   Mol. Endocrinol. 4:370-374(1990).\n",
      "RN   [3]\n",
      "RP   NUCLEOTIDE SEQUENCE [GENOMIC DNA / MRNA] (ISOFORM 1).\n",
      "RC   TISSUE=Placenta;\n",
      "RX   PubMed=1705144;\n",
      "(authors anonymized)\n",
      "RT   \"Embryonic simple epithelial keratins 8 and 18: chromosomal location\n",
      "RT   emphasizes difference from other keratin pairs.\";\n",
      "RL   New Biol. 2:464-478(1990).\n",
      "RN   [4]\n",
      "RP   NUCLEOTIDE SEQUENCE [MRNA] (ISOFORM 1), AND PHOSPHORYLATION AT SER-24 AND\n",
      "RP   SER-432.\n",
      "RX   PubMed=9054461; DOI=10.1074/jbc.272.11.7556;\n",
      "(authors anonymized)\n",
      "RT   \"Phosphorylation of human keratin 8 in vivo at conserved head domain serine\n",
      "RT   23 and at epidermal growth factor-stimulated tail domain serine 431.\";\n",
      "RL   J. Biol. Chem. 272:7556-7564(1997).\n",
      "RN   [5]\n",
      "RP   NUCLEOTIDE SEQUENCE [LARGE SCALE MRNA] (ISOFORMS 1 AND 2).\n",
      "RC   TISSUE=Testis;\n",
      "RX   PubMed=14702039; DOI=10.1038/ng1285;\n",
      "(authors anonymized)\n",
      "(authors anonymized)\n",
      "(authors anonymized)\n",
      "(authors anonymized)\n",
      "(authors anonymized)\n",
      "(authors anonymized)\n",
      "(authors anonymized)\n",
      "(authors anonymized)\n",
      "(authors anonymized)\n",
      "(authors anonymized)\n",
      "(authors anonymized)\n",
      "(authors anonymized)\n",
      "(authors anonymized)\n",
      "(authors anonymized)\n",
      "(authors anonymized)\n",
      "(authors anonymized)\n",
      "(authors anonymized)\n",
      "(authors anonymized)\n",
      "(authors anonymized)\n",
      "(authors anonymized)\n",
      "(authors anonymized)\n",
      "(authors anonymized)\n",
      "(authors anonymized)\n",
      "(authors anonymized)\n",
      "(authors anonymized)\n",
      "(authors anonymized)\n",
      "(authors anonymized)\n",
      "RT   \"Complete sequencing and characterization of 21,243 full-length human\n",
      "RT   cDNAs.\";\n",
      "RL   Nat. Genet. 36:40-45(2004).\n",
      "RN   [6]\n",
      "RP   NUCLEOTIDE SEQUENCE [LARGE SCALE MRNA] (ISOFORM 1).\n",
      "RC   TISSUE=Kidney;\n",
      "(authors anonymized)\n",
      "(authors anonymized)\n",
      "RL   Submitted (APR-2005) to the EMBL/GenBank/DDBJ databases.\n",
      "RN   [7]\n",
      "RP   NUCLEOTIDE SEQUENCE [LARGE SCALE GENOMIC DNA].\n",
      "RX   PubMed=16541075; DOI=10.1038/nature04569;\n",
      "(authors anonymized)\n",
      "(authors anonymized)\n",
      "(authors anonymized)\n",
      "(authors anonymized)\n",
      "(authors anonymized)\n",
      "(authors anonymized)\n",
      "(authors anonymized)\n",
      "(authors anonymized)\n",
      "(authors anonymized)\n",
      "(authors anonymized)\n",
      "(authors anonymized)\n",
      "(authors anonymized)\n",
      "(authors anonymized)\n",
      "(authors anonymized)\n",
      "(authors anonymized)\n",
      "(authors anonymized)\n",
      "(authors anonymized)\n",
      "(authors anonymized)\n",
      "(authors anonymized)\n",
      "(authors anonymized)\n",
      "(authors anonymized)\n",
      "(authors anonymized)\n",
      "(authors anonymized)\n",
      "(authors anonymized)\n",
      "(authors anonymized)\n",
      "(authors anonymized)\n",
      "(authors anonymized)\n",
      "(authors anonymized)\n",
      "(authors anonymized)\n",
      "(authors anonymized)\n",
      "(authors anonymized)\n",
      "(authors anonymized)\n",
      "(authors anonymized)\n",
      "(authors anonymized)\n",
      "(authors anonymized)\n",
      "(authors anonymized)\n",
      "(authors anonymized)\n",
      "(authors anonymized)\n",
      "(authors anonymized)\n",
      "RT   \"The finished DNA sequence of human chromosome 12.\";\n",
      "RL   Nature 440:346-351(2006).\n",
      "RN   [8]\n",
      "RP   NUCLEOTIDE SEQUENCE [LARGE SCALE GENOMIC DNA].\n",
      "(authors anonymized)\n",
      "(authors anonymized)\n",
      "(authors anonymized)\n",
      "(authors anonymized)\n",
      "(authors anonymized)\n",
      "(authors anonymized)\n",
      "(authors anonymized)\n",
      "RL   Submitted (JUL-2005) to the EMBL/GenBank/DDBJ databases.\n",
      "RN   [9]\n",
      "RP   NUCLEOTIDE SEQUENCE [\n"
     ]
    }
   ],
   "source": [
    "import re\n",
    "\n",
    "# read content of file into a string variable\n",
    "with open(\"data/P05787.txt\", \"r\") as file:\n",
    "    dbentry = file.read()\n",
    "        \n",
    "dbentry_blinded = re.sub(\"(?m)^RA\\W+(.+)$\", \"RA   (authors anonymized)\", dbentry)\n",
    "\n",
    "# alternatively, it can also be done with a backreference as follows \n",
    "# (but this was not discussed in the lecture):\n",
    "# dbentry_blinded = re.sub(\"(?m)(^RA\\W+)(.+)$\", r\"\\1(authors anonymized)\", dbentry)\n",
    "\n",
    "\n",
    "print(dbentry_blinded[0:len(dbentry_blinded)//10])\n"
   ]
  },
  {
   "cell_type": "markdown",
   "metadata": {},
   "source": [
    "## Module 12: Object-Oriented Programming"
   ]
  },
  {
   "cell_type": "markdown",
   "metadata": {},
   "source": [
    "### 1. Room Occupancy Revisited"
   ]
  },
  {
   "cell_type": "code",
   "execution_count": null,
   "metadata": {},
   "outputs": [],
   "source": [
    "class Room:    \n",
    "\n",
    "    # class variable to keep a set of all created rooms\n",
    "    all_rooms = set()\n",
    "    \n",
    "    # method for creating a new room with set number and maximum number of guests\n",
    "    def __init__(self,number,max_guests):\n",
    "        self.number = number\n",
    "        self.max_guests = max_guests\n",
    "        self.guests = []\n",
    "        Room.all_rooms.add(self)\n",
    "        \n",
    "    # class method for printing all rooms and their current guests\n",
    "    @classmethod\n",
    "    def printOccupancy(cls):\n",
    "        for room in cls.all_rooms:\n",
    "            print(f\"{room.number} (max. {room.max_guests}):\\t{room.guests}\")\n",
    "    \n",
    "    # class method for getting the room (object) for a given room number\n",
    "    @classmethod\n",
    "    def getRoom(cls, number):\n",
    "        for room in cls.all_rooms:\n",
    "            if room.number == number:\n",
    "                return room\n",
    "        return None\n",
    "\n",
    "    # method for checking in a guest\n",
    "    def checkIn(self, guest):\n",
    "        if (len(self.guests) < self.max_guests):\n",
    "            self.guests.append(guest)\n",
    "        else:\n",
    "            print(\"Room is already full.\")\n",
    "            \n",
    "    # method for checking out a guest\n",
    "    def checkOut(self, guest):\n",
    "        if guest in self.guests:\n",
    "            self.guests.remove(guest)\n",
    "        else:\n",
    "            print(f\"{guest} is not a guest in this room.\")\n",
    "            \n",
    "    \n",
    "################\n",
    "# Main program #\n",
    "################\n",
    "\n",
    "# create some rooms\n",
    "Room(101, 4)\n",
    "Room(102, 2)\n",
    "Room(201, 3)\n",
    "Room(202, 2)\n",
    "\n",
    "# do things with the rooms\n",
    "while True:\n",
    "    print(\"These are your options:\")\n",
    "    print(\"1 - View current room occupancy.\")\n",
    "    print(\"2 - Check guest in.\")\n",
    "    print(\"3 - Check guest out.\")\n",
    "    print(\"4 - Exit program.\")\n",
    "    choice = input(\"Please choose what you want to do: \") \n",
    "    if choice == \"1\":\n",
    "        Room.printOccupancy()\n",
    "    elif choice == \"2\":\n",
    "        guest = input(\"Enter name of guest: \")\n",
    "        number = int(input(\"Enter room number: \"))\n",
    "        room = Room.getRoom(number)\n",
    "        if room != None:\n",
    "            room.checkIn(guest)\n",
    "        else:\n",
    "            print(\"Not a valid room number.\")\n",
    "    elif choice == \"3\":\n",
    "        guest = input(\"Enter name of guest: \")\n",
    "        number = int(input(\"Enter room number: \"))\n",
    "        room = Room.getRoom(number)\n",
    "        if room != None:\n",
    "            room.checkOut(guest)\n",
    "        else:\n",
    "            print(\"Not a valid room number.\")\n",
    "    elif choice == \"4\":\n",
    "        print(\"Goodbye!\")\n",
    "        break\n",
    "    else:\n",
    "        print(\"Invalid input, try again.\")"
   ]
  },
  {
   "cell_type": "markdown",
   "metadata": {},
   "source": [
    "### 2. People at the University"
   ]
  },
  {
   "cell_type": "code",
   "execution_count": 13,
   "metadata": {},
   "outputs": [
    {
     "name": "stdout",
     "output_type": "stream",
     "text": [
      "I am Alice.\n",
      "I am a student at UU. I study Biology.\n",
      "I went to school in Amsterdam.\n",
      "Alice has 150 points.\n",
      "I am Bob.\n",
      "I am a student at UU. I study Chemistry.\n",
      "I have a Bachelor's degree in Biophysics.\n",
      "Bob has 45 points.\n",
      "I am Cindy.\n",
      "I am a lecturer at UU, Information and Computing Sciences.\n",
      "I am Dennis.\n",
      "I am a lecturer at UU, Information and Computing Sciences.\n",
      "I am also a student of Computer Science.\n",
      "Dennis has None points.\n"
     ]
    }
   ],
   "source": [
    "\n",
    "# base class person\n",
    "class Person:\n",
    "    \n",
    "    # init person object with its name\n",
    "    def __init__(self, name):\n",
    "        self.name = name\n",
    "        \n",
    "    # print out the name of the person\n",
    "    def printInfo(self):\n",
    "        print(f\"I am {self.name}.\")\n",
    "        \n",
    "\n",
    "# derived class student\n",
    "class Student(Person):\n",
    "    \n",
    "    # init student object as a person, then add other attributes\n",
    "    def __init__(self,name,university,program):\n",
    "        Person.__init__(self,name)\n",
    "        self.university = university\n",
    "        self.program = program\n",
    "        self.creditpoints = None\n",
    "        \n",
    "    # print out the name, university and program of the student\n",
    "    def printInfo(self):\n",
    "        Person.printInfo(self)\n",
    "        print(f\"I am a student at {self.university}. \"\n",
    "              f\"I study {self.program}.\")\n",
    "        \n",
    "    # set the number of credit points\n",
    "    def setCreditPoints(self,points):\n",
    "        self.creditpoints = points\n",
    "        \n",
    "    # get the number of credit points\n",
    "    def getCreditPoints(self):\n",
    "        return self.creditpoints\n",
    "        \n",
    "# subclasses for bachelor and master students\n",
    "class BachelorStudent(Student):\n",
    "    \n",
    "    # init a bachelor student as student, add school\n",
    "    def __init__(self,name,university,program,school):\n",
    "        Student.__init__(self,name,university,program)\n",
    "        self.school = school\n",
    "    \n",
    "    # print out the student information, plus the school\n",
    "    def printInfo(self):\n",
    "        Student.printInfo(self)\n",
    "        print(f\"I went to school in {self.school}.\")\n",
    "        \n",
    "class MasterStudent(Student):\n",
    "    \n",
    "    # init a master student as a student, add bachelor's degree\n",
    "    def __init__(self,name,university,program,bdegree):\n",
    "        Student.__init__(self,name,university,program)\n",
    "        self.bdegree = bdegree\n",
    "                \n",
    "    # print out the student information, plus the bachelor's degree\n",
    "    def printInfo(self):\n",
    "        Student.printInfo(self)\n",
    "        print(f\"I have a Bachelor's degree in {self.bdegree}.\")\n",
    "        \n",
    "# derived class Teacher\n",
    "class Lecturer(Person):\n",
    "    \n",
    "    # init lecturer as a person, add university and department info\n",
    "    def __init__(self,name,university,department):\n",
    "        Person.__init__(self,name)\n",
    "        self.university = university\n",
    "        self.department = department\n",
    "    \n",
    "    # print out lecturer information\n",
    "    def printInfo(self):\n",
    "        Person.printInfo(self)\n",
    "        print(f\"I am a lecturer at {self.university}, {self.department}.\")\n",
    "        \n",
    "# derived class Teaching Assistant\n",
    "class TeachingAssistant(Student,Lecturer):\n",
    "    \n",
    "    # init ta as a student, add department\n",
    "    def __init__(self,name,university,program,department):\n",
    "        Student.__init__(self,name,university,program)\n",
    "        Lecturer.__init__(self,name,university,department)\n",
    "        \n",
    "    # prinnt out lecturer information, add program\n",
    "    def printInfo(self):\n",
    "        Lecturer.printInfo(self)\n",
    "        print(f\"I am also a student of {self.program}.\")\n",
    "        \n",
    "\n",
    "## test program ##\n",
    "student1 = BachelorStudent(\"Alice\", \"UU\", \"Biology\", \"Amsterdam\")\n",
    "student2 = MasterStudent(\"Bob\", \"UU\", \"Chemistry\", \"Biophysics\")\n",
    "lecturer = Lecturer(\"Cindy\",\"UU\", \"Information and Computing Sciences\")\n",
    "ta = TeachingAssistant(\"Dennis\", \"UU\", \"Computer Science\", \"Information and Computing Sciences\")\n",
    "\n",
    "student1.printInfo()\n",
    "student1.setCreditPoints(150)\n",
    "print(f\"{student1.name} has {student1.getCreditPoints()} points.\")\n",
    "student2.printInfo()\n",
    "student2.setCreditPoints(45)\n",
    "print(f\"{student2.name} has {student2.getCreditPoints()} points.\")\n",
    "lecturer.printInfo()\n",
    "ta.printInfo()\n",
    "print(f\"{ta.name} has {ta.getCreditPoints()} points.\")"
   ]
  },
  {
   "cell_type": "markdown",
   "metadata": {},
   "source": [
    "### 3. Text Analysis with Higher-Order Functions"
   ]
  },
  {
   "cell_type": "code",
   "execution_count": null,
   "metadata": {},
   "outputs": [],
   "source": [
    "# input text\n",
    "text = \"Lorem ipsum dolor sit amet, consectetur adipiscing elit, sed do \\\n",
    "eiusmod tempor incididunt ut labore et dolore magna aliqua. Ut enim ad \\\n",
    "minim veniam, quis nostrud exercitation ullamco laboris nisi ut aliquip ex \\\n",
    "ea commodo consequat. Duis aute irure dolor in reprehenderit in voluptate \\\n",
    "velit esse cillum dolore eu fugiat nulla pariatur. Excepteur sint occaecat \\\n",
    "cupidatat non proident, sunt in culpa qui officia deserunt mollit anim id \\\n",
    "est laborum.\"\n",
    "\n",
    "# split text into words\n",
    "words = text.split()\n",
    "\n",
    "# use map to strip , and . from the words\n",
    "print(\"Strip words:\")\n",
    "words = list(map(lambda x: x.strip(\",.\"), words))\n",
    "print(words)\n",
    "\n",
    "# use a for-loop to create a list of word lengths\n",
    "print(\"Get word lengths with for-loop:\")\n",
    "word_lengths = []\n",
    "for w in words:\n",
    "    word_lengths.append(len(w))\n",
    "print (word_lengths)\n",
    "\n",
    "# use map to create a list of word lengths\n",
    "print(\"Get word lengths with map:\")\n",
    "word_lengths = list(map(lambda x: len(x), words))\n",
    "print(word_lengths)\n",
    "\n",
    "# use list comprehension to create a list of word lengths\n",
    "print(\"Get word lengths with list comprehension:\")\n",
    "word_lengths = [ len(w) for w in words ]\n",
    "print(word_lengths)\n",
    "\n",
    "# use filter to get all words of length >= 10\n",
    "print(\"Longest words:\")\n",
    "long_words = list(filter(lambda x: len(x)>=10, words))\n",
    "print(long_words)"
   ]
  },
  {
   "cell_type": "markdown",
   "metadata": {},
   "source": [
    "## Module 13: GUIs and Executables"
   ]
  },
  {
   "cell_type": "markdown",
   "metadata": {},
   "source": [
    "### 1. Number Guessing with GUI"
   ]
  },
  {
   "cell_type": "code",
   "execution_count": 9,
   "metadata": {},
   "outputs": [],
   "source": [
    "import tkinter as tk    \n",
    "import random as rd\n",
    "\n",
    "# create the main class for the application window\n",
    "class NumberGuessing:\n",
    "    \n",
    "    # init function for the app window\n",
    "    def __init__(self,parent):\n",
    "        self.parent = parent\n",
    "        \n",
    "        # generate a random number to guess\n",
    "        self.number = rd.randint(1, 10)\n",
    "        \n",
    "        # add text label to display messages\n",
    "        self.text = tk.Label(self.parent, text = \"Can you guess the number?\")\n",
    "        self.text.pack()\n",
    "        \n",
    "        # add container for input box and button\n",
    "        self.container_inputs = tk.Frame(parent)\n",
    "        self.container_inputs.pack()\n",
    "        \n",
    "        # add input field to container\n",
    "        self.guess_input = tk.Entry(self.container_inputs)\n",
    "        self.guess_input.pack(side=\"left\")\n",
    "        \n",
    "        # add button to check input\n",
    "        self.guess_button = tk.Button(self.container_inputs, text = \"Check\")\n",
    "        self.guess_button.pack(side=\"left\")\n",
    "        self.guess_button.bind(\"<Button-1>\", self.guessButtonClick)\n",
    "        \n",
    "        # add button to start new round\n",
    "        self.again_button = tk.Button(self.container_inputs, text = \"Play again\")\n",
    "        self.again_button.pack(side=\"left\")\n",
    "        self.again_button.bind(\"<Button-1>\", self.againButtonClick)\n",
    "        \n",
    "    # function of guess button\n",
    "    def guessButtonClick(self,event):\n",
    "        \n",
    "        # get guessed number from input field\n",
    "        number_guessed = int(self.guess_input.get())\n",
    "        \n",
    "        # depending on the guess, display message\n",
    "        if number_guessed == self.number:\n",
    "            self.text.configure(text=\"Correct!\")\n",
    "        elif number_guessed < self.number:\n",
    "            self.text.configure(text=f\"{number_guessed} is too small!\")\n",
    "            self.guess_input.delete(0, tk.END)\n",
    "        else:\n",
    "            self.text.configure(text=f\"{number_guessed} is too large!\")\n",
    "            self.guess_input.delete(0, tk.END)\n",
    "            \n",
    "        \n",
    "    # function of again button\n",
    "    def againButtonClick(self,event):\n",
    "\n",
    "        # generate a new random number to guess\n",
    "        self.number = rd.randint(1, 10)\n",
    "\n",
    "        # reset GUI fields\n",
    "        self.text.configure(text=\"Can you guess the number?\")\n",
    "        self.guess_input.delete(0, tk.END)\n",
    "\n",
    "\n",
    "\n",
    "# main program\n",
    "root = tk.Tk()\n",
    "root.title('Number Guessing')\n",
    "ngapp = NumberGuessing(root)\n",
    "root.mainloop()   \n",
    "        "
   ]
  },
  {
   "cell_type": "markdown",
   "metadata": {},
   "source": [
    "### 2. QR Code Generator with GUI"
   ]
  },
  {
   "cell_type": "code",
   "execution_count": 8,
   "metadata": {},
   "outputs": [],
   "source": [
    "import tkinter as tk    \n",
    "import requests\n",
    "import urllib.parse  \n",
    "\n",
    "# create the main class for the application window\n",
    "class QRApp:\n",
    "    \n",
    "    # init function for the app window\n",
    "    def __init__(self,parent):\n",
    "        self.parent = parent\n",
    "        \n",
    "        # create container for the input fields\n",
    "        self.container_inputs = tk.Frame(parent)\n",
    "        self.container_inputs.pack(side=\"left\")\n",
    "        \n",
    "        # add input widgets\n",
    "        self.input_text_label = tk.Label(self.container_inputs,text=\"Input text:\")\n",
    "        self.input_text_label.pack()\n",
    "        self.input_text = tk.Entry(self.container_inputs)\n",
    "        self.input_text.pack()\n",
    "        self.input_text_colorf = tk.Label(self.container_inputs, text=\"Foreground color:\")\n",
    "        self.input_text_colorf.pack()\n",
    "        self.input_color_foreground = tk.Entry(self.container_inputs)\n",
    "        self.input_color_foreground.pack()\n",
    "        self.input_text_colorb = tk.Label(self.container_inputs,text=\"Background color:\")\n",
    "        self.input_text_colorb.pack()\n",
    "        self.input_color_background = tk.Entry(self.container_inputs)\n",
    "        self.input_color_background.pack()\n",
    "        self.generate_button = tk.Button(self.container_inputs,text=\"Generate QR Code\")\n",
    "        self.generate_button.pack()\n",
    "        self.generate_button.bind(\"<Button-1>\", self.generateButtonClick)\n",
    "\n",
    "        # create container for the output QR code\n",
    "        self.container_output = tk.Canvas(parent,width=300,height=300)\n",
    "        self.container_output.pack(side=\"left\")\n",
    "        \n",
    "    # function for generating the QR code from the text wen button is clicked\n",
    "    def generateButtonClick(self,event):\n",
    "        # collect input data from GUI elements\n",
    "        text = urllib.parse.quote_plus(self.input_text.get())\n",
    "        fgcolor = self.input_color_foreground.get()\n",
    "        bgcolor = self.input_color_background.get()\n",
    "        \n",
    "        # POST text and other parameters to the web service\n",
    "        payload = {'data': text, 'color': fgcolor, 'bgcolor': bgcolor, 'format':\"png\"}\n",
    "        response = requests.post(\"https://api.qrserver.com/v1/create-qr-code/\", data=payload)\n",
    "\n",
    "        # put image to canvas\n",
    "        self.img = tk.PhotoImage(data=response.content)\n",
    "        self.container_output.create_image(150, 150, image=self.img)\n",
    "        \n",
    "# main program\n",
    "root = tk.Tk()\n",
    "root.title('QR Code Generator')\n",
    "qrapp = QRApp(root)\n",
    "root.mainloop()   \n",
    "        "
   ]
  },
  {
   "cell_type": "markdown",
   "metadata": {},
   "source": [
    "## Module 14: Concurrent and Parallel Programming in Python"
   ]
  },
  {
   "cell_type": "markdown",
   "metadata": {},
   "source": [
    "### 1. Preparing Pasta with Tomato Sauce "
   ]
  },
  {
   "cell_type": "code",
   "execution_count": 42,
   "metadata": {},
   "outputs": [
    {
     "name": "stdout",
     "output_type": "stream",
     "text": [
      "Concurrent version: \n",
      "Buy pasta and tomato sauce.\n",
      "Bring 2 lites of water to the boil in a large pot.\n",
      "Add pasta.Put tomato sauce into a small pot.\n",
      "Heat slowly.\n",
      "\n",
      "Cook for 10 minutes.\n",
      "Strain pasta.\n",
      "Put pasta and tomato sauce onto a plate.\n",
      "Enjoy!\n",
      "Total time elapsed: 10.017669677734375\n",
      "\n",
      "Parallel version: \n",
      "Buy pasta and tomato sauce.\n",
      "Put tomato sauce into a small pot.\n",
      "Bring 2 lites of water to the boil in a large pot.\n",
      "Heat slowly.\n",
      "Add pasta.\n",
      "Cook for 10 minutes.\n",
      "Strain pasta.\n",
      "Put pasta and tomato sauce onto a plate.\n",
      "Enjoy!\n",
      "Total time elapsed: 10.102592468261719\n"
     ]
    }
   ],
   "source": [
    "import time\n",
    "import threading\n",
    "import multiprocessing\n",
    "\n",
    "def prepare_pasta():\n",
    "    print(\"Bring 2 litres of water to the boil in a large pot.\")\n",
    "    print(\"Add pasta.\")\n",
    "    print(\"Cook for 10 minutes.\")\n",
    "    time.sleep(10)\n",
    "    print(\"Strain pasta.\")\n",
    "    \n",
    "def prepare_sauce():\n",
    "    print(\"Put tomato sauce into a small pot.\")\n",
    "    print(\"Heat slowly.\")\n",
    "    \n",
    "################\n",
    "# main program #\n",
    "################\n",
    "\n",
    "# concurrent version\n",
    "print(\"Concurrent version: \")\n",
    "starttime = time.time()\n",
    "\n",
    "print(\"Buy pasta and tomato sauce.\")\n",
    "\n",
    "pasta = threading.Thread(target=prepare_pasta)\n",
    "sauce = threading.Thread(target=prepare_sauce)\n",
    "\n",
    "pasta.start()\n",
    "sauce.start()\n",
    "\n",
    "pasta.join()\n",
    "sauce.join()\n",
    "\n",
    "print(\"Put pasta and tomato sauce onto a plate.\")\n",
    "print(\"Enjoy!\")\n",
    "\n",
    "endtime = time.time()\n",
    "print(f\"Total time elapsed: {endtime-starttime}\")\n",
    "\n",
    "# parallel version\n",
    "print()\n",
    "print(\"Parallel version: \")\n",
    "starttime = time.time()\n",
    "\n",
    "print(\"Buy pasta and tomato sauce.\")\n",
    "\n",
    "pasta = multiprocessing.Process(target=prepare_pasta)\n",
    "sauce = multiprocessing.Process(target=prepare_sauce)\n",
    "\n",
    "pasta.start()\n",
    "sauce.start()\n",
    "\n",
    "pasta.join()\n",
    "sauce.join()\n",
    "\n",
    "print(\"Put pasta and tomato sauce onto a plate.\")\n",
    "print(\"Enjoy!\")\n",
    "\n",
    "endtime = time.time()\n",
    "print(f\"Total time elapsed: {endtime-starttime}\")\n"
   ]
  },
  {
   "cell_type": "markdown",
   "metadata": {},
   "source": [
    "Observations: In the parallel version there is more variation in the order of the printouts, whereas the concurrent version starts with the same corresponding to the order in which the threads are started. The execution time hardly differs, is at all slightly longer in the parallel case. Seems that the overhead of running processes in parallel is larger than the speedup benefits for a program of low computational intensity like this one. "
   ]
  },
  {
   "cell_type": "markdown",
   "metadata": {},
   "source": [
    "## 2. Many Fibonacci Numbers"
   ]
  },
  {
   "cell_type": "code",
   "execution_count": 29,
   "metadata": {},
   "outputs": [
    {
     "name": "stdout",
     "output_type": "stream",
     "text": [
      "Inputs: [5, 9, 4, 5, 2, 5, 2, 9, 6, 2, 10, 8, 7, 8, 8, 1, 9, 8, 8, 2]\n",
      "\n",
      "Starting serial computation.\n",
      "Time elapsed: 0.0004374980926513672 seconds.\n",
      "Result: [5, 34, 3, 5, 1, 5, 1, 34, 8, 1, 55, 21, 13, 21, 21, 1, 34, 21, 21, 1]\n",
      "\n",
      "Starting parallel computation.\n",
      "Time elapsed: 0.050551414489746094 seconds.\n",
      "Result: [5, 34, 3, 5, 1, 5, 1, 34, 8, 1, 55, 21, 13, 21, 21, 1, 34, 21, 21, 1]\n"
     ]
    }
   ],
   "source": [
    "import random\n",
    "import time\n",
    "import multiprocessing\n",
    "\n",
    "# function for computing the fibonacci number (recursively)\n",
    "def fib(n):\n",
    "    if n > 1:\n",
    "        return fib(n-1) + fib(n-2)\n",
    "    elif n == 1:\n",
    "        return 1\n",
    "    else:\n",
    "        return 0       \n",
    "\n",
    "# main program \n",
    "inputs = [random.randint(1,10) for x in range(0,20)]\n",
    "print(f\"Inputs: {inputs}\")\n",
    "print()\n",
    "\n",
    "# iterative\n",
    "print(f\"Starting serial computation.\")\n",
    "starttime = time.time()\n",
    "results = [fib(i) for i in inputs]\n",
    "endtime = time.time()\n",
    "print(f\"Time elapsed: {endtime-starttime} seconds.\")\n",
    "print(f\"Result: {results}\")\n",
    "\n",
    "print()\n",
    "print(f\"Starting parallel computation.\")\n",
    "starttime = time.time()\n",
    "cpus = multiprocessing.cpu_count()\n",
    "with multiprocessing.Pool(processes=cpus) as pool:\n",
    "    results = pool.map(fib, inputs)\n",
    "endtime = time.time()\n",
    "print(f\"Time elapsed: {endtime-starttime} seconds.\")\n",
    "print(f\"Result: {results}\")"
   ]
  },
  {
   "cell_type": "markdown",
   "metadata": {},
   "source": [
    "For e.g. input values between 20 and 30 the parallel version is faster (machine-dependent, so you might find different results on your computer). Reason: The definition, startup and joining of Processes comes with a certain computational overhead compared to standard serial execution of instructions. Parallel execution with processes is hence only faster when the computations are long/intensive enough so that this overhead does not matter. For smaller n this is apparently not the case here."
   ]
  }
 ],
 "metadata": {
  "kernelspec": {
   "display_name": "Python 3",
   "language": "python",
   "name": "python3"
  },
  "language_info": {
   "codemirror_mode": {
    "name": "ipython",
    "version": 3
   },
   "file_extension": ".py",
   "mimetype": "text/x-python",
   "name": "python",
   "nbconvert_exporter": "python",
   "pygments_lexer": "ipython3",
   "version": "3.7.4"
  }
 },
 "nbformat": 4,
 "nbformat_minor": 5
}
