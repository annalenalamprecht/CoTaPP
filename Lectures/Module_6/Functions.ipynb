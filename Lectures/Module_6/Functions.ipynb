{
 "cells": [
  {
   "cell_type": "markdown",
   "metadata": {},
   "source": [
    "# Functions\n",
    "<span style='color:#5A5A5A'> February <mark style=\"background-color: #FFFF00\">21</mark>, 2021 </span>"
   ]
  },
  {
   "cell_type": "markdown",
   "metadata": {},
   "source": [
    "Last time we talked about the implementation of repetitive behavior (loops). The lecture covered (pre-test) loops with the ```while``` and ```for``` statements, and the special behavior of the ```break``` and ```continue``` statements. We furthermore discussed the issue of post-test loops in Python.\n",
    "\n",
    "Today’s lecture will discuss functions, modules and packages, have a quick look at the Python’s standard library and the Python Package Index, and introduce the principle of recursion and recursive function definitions. When Python programs become complex, it is a good idea to structure the code using functions, modules, and packages. Proper modularization will keep the code base easier to understand and maintain, and is in fact one of the principles of good software development. Another important principle is the reuse of already existing functionality (rather than implementing it again), so familiarity with the standard libraries is important.\n",
    "\n",
    "Next time we will cover special data structures in Python, which will allow us to work with more powerful data items than just the individual numbers, strings and Booleans that we have used so far."
   ]
  },
  {
   "cell_type": "markdown",
   "metadata": {},
   "source": [
    "<h3 style='color:#3981CB'> Functions </h3>\n",
    "\n",
    "We have seen and used functions before (```print```, ```input```, and ```bin```, for example), now it is time to have a more systematic look at them and to define functions ourselves. Functions are useful whenever a piece of code forms a self-contained component and is (potentially) used repeatedly in the program. It simplifies coding, testing, debugging and maintenance if this code is only defined once (as a function) and just called when it is needed. Here is an example of code with unnecessary repetitions:\n"
   ]
  },
  {
   "cell_type": "code",
   "execution_count": null,
   "metadata": {},
   "outputs": [],
   "source": [
    "player1 = input(\"Please enter name of player: \")\n",
    "print(f\"Hello {player1}, welcome to the game!\")\n",
    "player2 = input(\"Please enter name of player: \")\n",
    "print(f\"Hello {player2}, welcome to the game!\")\n",
    "player3 = input(\"Please enter name of player: \")\n",
    "print(f\"Hello {player3}, welcome to the game!\")"
   ]
  },
  {
   "cell_type": "markdown",
   "metadata": {},
   "source": [
    "Essentially, this code does the same thing three times. This is for example impractical if we want to add more players (we have to duplicate a lot of code), or if we want to change the text of the outputs to the players, for instance translate it to Dutch (we would have to do that at all occurrences of the text). So, it might be useful to define functions that ask for a player's name and for displaying a personalized welcome message.\n",
    "Function definitions in Python have the following basic form:\n",
    "\n",
    "    def <function name>(<function parameter(s)>):\n",
    "        <do something>\n",
    "        return <value(s)>\n",
    "       \n",
    "That is, they define the name of the function, which parameters they take as input arguments at runtime (can be none), what they actually do and the value(s) that they return to the calling function (can be none). Functions have to be defined before they can be used. For example, we can define a function that takes a name as a parameter and welcomes a player accordingly:"
   ]
  },
  {
   "cell_type": "code",
   "execution_count": null,
   "metadata": {},
   "outputs": [],
   "source": [
    "def greet_player(name):\n",
    "    print(f\"Hello {name}, welcome to the game!\")\n",
    "    \n",
    "player1 = input(\"Please enter name of player: \")\n",
    "greet_player(player1)\n",
    "player2 = input(\"Please enter name of player: \")\n",
    "greet_player(player2)\n",
    "player3 = input(\"Please enter name of player: \")\n",
    "greet_player(player3)"
   ]
  },
  {
   "cell_type": "markdown",
   "metadata": {},
   "source": [
    "This already looks better, but we still have redundant code for asking the players to enter their names. We can define another function for that, that has no input parameters, but returns a value to the caller:"
   ]
  },
  {
   "cell_type": "code",
   "execution_count": null,
   "metadata": {},
   "outputs": [],
   "source": [
    "def ask_name():\n",
    "    name = input(\"Please enter name of player: \")\n",
    "    return name\n",
    "\n",
    "def greet_player(name):\n",
    "    print(f\"Hello {name}, welcome to the game!\")\n",
    "\n",
    "player1 = ask_name()\n",
    "greet_player(player1)\n",
    "player2 = ask_name()\n",
    "greet_player(player2)\n",
    "player3 = ask_name()\n",
    "greet_player(player3)"
   ]
  },
  {
   "cell_type": "markdown",
   "metadata": {},
   "source": [
    "Note that one of our functions contains a return statement (```return name```), and the other does not. When a function does not explicitly define a return value, the ```None``` value (representing “nothingness”) is returned by default. Thus, the return statement can be omitted, as implicitly an (empty) return to the caller will still happen at the end of the function. A return can however also be used to return to the caller at any another point of the function if desired.  \n",
    "\n",
    "Alternatively, if we think that we will never need the computations separately, we could simply define one function that carries out the input and the printout:"
   ]
  },
  {
   "cell_type": "code",
   "execution_count": null,
   "metadata": {},
   "outputs": [],
   "source": [
    "def ask_name_and_greet_player():\n",
    "    name = input(\"Please enter name of player: \")\n",
    "    print(f\"Hello {name}, welcome to the game!\")\n",
    "    return name\n",
    "\n",
    "player1 = ask_name_and_greet_player()\n",
    "player2 = ask_name_and_greet_player()\n",
    "player3 = ask_name_and_greet_player()"
   ]
  },
  {
   "cell_type": "markdown",
   "metadata": {},
   "source": [
    "The functions in the example above are quite short, only one or two lines, and you might wonder if that is actually worth the effort. Well, they were only simple examples to illustrate how functions work. You will soon see in the homework exercises and also in your project that functions are usually longer and more complex. Below is another example, where the function comprises five lines of code and even a loop:\n"
   ]
  },
  {
   "cell_type": "code",
   "execution_count": null,
   "metadata": {},
   "outputs": [],
   "source": [
    "# function for computing the factorial of a number n\n",
    "def fac(n):\n",
    "    fac = 1\n",
    "    while n > 0:\n",
    "        fac = fac * n\n",
    "        n = n - 1\n",
    "    return fac\n",
    "\n",
    "# reading a number from input\n",
    "n = int(input(\"Please enter an integer number: \"))\n",
    "\n",
    "# loop computing the factorials for all number from n to 1\n",
    "while n > 0:\n",
    "    print(f\"{n}! is {fac(n)}\")\n",
    "    n = n - 1"
   ]
  },
  {
   "cell_type": "markdown",
   "metadata": {},
   "source": [
    "This example illustrates another feature of functions: variable names are local to the function. That is, argument names and variables declared inside a function are not visible outside of the function. The area in a program where variables are visible is also called their scope. As a general rule, a variable’s scope is the block that it has been declared in, starting from the point where its name was defined. In the example above, this means that the ```n``` in the ```fac``` function is another ```n``` than the one in the program below the function. The function does not change the value of the n in the calling (part of the) program. This behavior makes a lot of sense sense: If you use a function from a library, where you cannot or do not want to look into its implementation, it is good to know that it will not interfere with your own variables. Generally, data should only be passed to and retrieved from functions through their parameters and return values, respectively, as this is the safest way to avoid undesired side effects from e.g. variables that overwrite each other unintentionally.\n",
    "\n",
    "Note that the ```global``` statement can be used to make variables known across scopes. Functions would have access to its value also without it being passed as a parameter, and they could write results to it without returning it explicitly. The use of the ```global``` statement is however strongly discouraged for the reasons given above, so we will not discuss it further.\n",
    "\n",
    "The functions in the examples above have no or only one parameter, but if several inputs are needed, they can simply be defined as comma-separated lists of parameters. For example, a function ```add(a,b)``` for adding to numbers. When calling the function, the arguments have to passed in the order of the parameters.\n",
    "\n",
    "Furthermore, functions can have named parameters. They are identified by their name, so their order does not matter when calling the function. They are also given a default value when they are declared, so that when the calling function does not specify them, there is a standard value to work with. Here is an example of a function with one “normal” and two named parameters with default values:"
   ]
  },
  {
   "cell_type": "code",
   "execution_count": null,
   "metadata": {},
   "outputs": [],
   "source": [
    "def rectangle_print(letter, columns=3, rows=2):\n",
    "    for i in range(1,rows+1):\n",
    "        print(letter*columns)\n",
    "        \n",
    "rectangle_print(\"a\")\n",
    "rectangle_print(\"b\", 5, 2)\n",
    "rectangle_print(\"c\", rows=3)"
   ]
  },
  {
   "cell_type": "markdown",
   "metadata": {},
   "source": [
    "The above example illustrates nicely how named parameters can or can not be defined by the caller, depending on what is needed. Note that also the ```print``` function, which we have used a lot, has <mark style=\"background-color: #FFFF00\">both</mark> named parameters, for example to specify the separator between the string arguments that are passed to print.\n",
    "\n",
    "In fact, the arbitrary number of strings that can be passed to the print function to be printed to the screen is an example of yet another kind of parameters, the VarArgs (for variable number of arguments) parameters. Parameters become VarArgs by defining them with a single (\\*) or double (\\*\\*) star in front of them. For example, we can use a starred parameter to define a sum function that adds all of its arguments:"
   ]
  },
  {
   "cell_type": "code",
   "execution_count": null,
   "metadata": {},
   "outputs": [],
   "source": [
    "def sum_up(*numbers):\n",
    "    s = 0\n",
    "    for n in numbers:\n",
    "        s += n\n",
    "    return s\n",
    "\n",
    "print(sum_up(1,2,3,4,5))\n",
    "print(sum_up(1,2,3,4,5,6,7))"
   ]
  },
  {
   "cell_type": "markdown",
   "metadata": {},
   "source": [
    "Technically, the arguments for a single-starred parameter form a tuple, and the arguments of a double-starred parameter form a dictionary, hence the latter have to be defined as key-value pairs. What this means will become clear in the next lecture, where we will talk about those data structures in detail."
   ]
  }
 ],
 "metadata": {
  "kernelspec": {
   "display_name": "Python 3",
   "language": "python",
   "name": "python3"
  },
  "language_info": {
   "codemirror_mode": {
    "name": "ipython",
    "version": 3
   },
   "file_extension": ".py",
   "mimetype": "text/x-python",
   "name": "python",
   "nbconvert_exporter": "python",
   "pygments_lexer": "ipython3",
   "version": "3.8.3"
  }
 },
 "nbformat": 4,
 "nbformat_minor": 4
}
