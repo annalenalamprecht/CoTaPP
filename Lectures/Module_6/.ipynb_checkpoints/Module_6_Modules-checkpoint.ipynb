{
 "cells": [
  {
   "cell_type": "markdown",
   "metadata": {},
   "source": [
    "# Modules\n",
    "<span style='color:#5A5A5A'> February <mark style=\"background-color: #FFFF00\">21</mark>, 2021 </span>"
   ]
  },
  {
   "cell_type": "markdown",
   "metadata": {},
   "source": [
    "<h3 style='color:#3981CB'> Modules </h3>\n",
    "\n",
    "Functions make pieces of code in our program file reusable. Modules make it possible to reuse code across different program files. To use another module in a Python program, it has to be imported. We have already seen a module import in the  number-guessing game example in the lecture on loops:\n",
    "    \n",
    "    import random\n",
    "\tnumber = random.randint(1,10)\n",
    "\t[...]\n",
    "    \n",
    "The ```import``` statement in the first line imports the ```random``` module from Python’s standard library. Afterwards we can use the functions that it provides, for example the ```random()``` function that generates a random number within a specified range.\n",
    "\n",
    "Note that import statements can in principle be placed at any point in the program, as long as they happen before using their functions. This is not considered good coding style, however, as imports scattered all over the program make it difficult to see what has already been imported, and might even lead to redundant and conflicting imports. To avoid such problems, all imports that are used in a .py file should be placed at its beginning.\n",
    "\n",
    "We can also create modules ourselves. There are different forms in which modules can exist. The simplest is a .py file that contains different functions. (In fact, any .py file we create is a module that can potentially be used by other programs.) Generally, it makes sense to create modules for sets of functions that somehow belong together and where it would make sense to distribute them (to other programmers) as a unit. For example, we might provide the ```ask_name()``` and ```greet_player()``` functions from <mark style=\"background-color: #FFFF00\">before</mark> in a ```player_management.py``` module, along with other related functions such as, e.g., ```show_score()``` or ```show_game_over()```:\n",
    "\n",
    "    def ask_name():\n",
    "        name = input(\"Please enter name of player: \")\n",
    "        return name\n",
    "        \n",
    "    def greet_player(name):\n",
    "        print(f\"Hello {name}, welcome to the game!\")\n",
    "        \n",
    "    def show_score(name, score):\n",
    "        print(f\"Hello {name}, your current score is {score}.\")\n",
    "\n",
    "    def show_game_over(name):\n",
    "        print(f\"GAME OVER! Sorry, {name}...\")\n",
    "\n",
    "The module and its functions might then be used by a game as follows:\n",
    "    \n",
    "    import player_management\n",
    "    \n",
    "    player = player_management.ask_name()\n",
    "    player_management.greet_player(player)\n",
    "    \n",
    "    # (code for playing game here)\n",
    "    \n",
    "    if score > 0:\n",
    "        player_management.show_score(player,score)\n",
    "    else:\n",
    "        player_management.show_game_over(player)\n",
    "\n",
    "Also when loading modules the Python interpreter acts as usual and will step through the module when importing it. The function definitions in the module are read, and thus the functions are subsequently available for use. If the module contains other code, outside of function definitions, it will be executed, too.\n",
    "\n",
    "Note that when creating own modules, it is advisable to not use names that are already taken by modules from the standard library or other popular collections. For example, suppose we have created a module ```random.py``` that provides a pretty useless ```randint()``` functions as follows:"
   ]
  },
  {
   "cell_type": "code",
   "execution_count": null,
   "metadata": {},
   "outputs": [],
   "source": [
    "def randint(n,m):\n",
    "    return 5"
   ]
  },
  {
   "cell_type": "code",
   "execution_count": null,
   "metadata": {},
   "outputs": [],
   "source": [
    "import random\n",
    "print(random.randint(1,10))"
   ]
  },
  {
   "cell_type": "markdown",
   "metadata": {},
   "source": [
    "<mark style=\"background-color: #FFFF00\"> I could not include the file random.py in the directory where the juppyter notebooks of module 6 are stored as my terminal showed errors with importing from random.py file and seemed to cause connecting to kernel problems. </mark>\n",
    "\n",
    "Clearly, it has not imported our ```random.py``` module, but the one from the standard library. Unfortunately this behavior is not even reliable, as other Python platforms and interpreters will give preference to the own module. Thus, it is best to give your modules names that are not already taken by modules in the standard libraries (for example ```my_random.py```), and if you observe weird behavior in relation to your modules, check if maybe there is a name clash. Note that there are ways to influence Python’s importing mechanism in more detail, but that gets quite technical and furthermore tends to be unstable, so we will not discuss it in this course.\n",
    "\n",
    "There are two variations of the ```import``` statement that you will often see in Python code that is around: The ```from``` … ```import``` … statement can be used to import individual functions from a module, for example:"
   ]
  },
  {
   "cell_type": "code",
   "execution_count": null,
   "metadata": {},
   "outputs": [],
   "source": [
    "from random import randint\n",
    "print(randint(1,10))"
   ]
  },
  {
   "cell_type": "markdown",
   "metadata": {},
   "source": [
    "This way, the function is available without using the module name as a prefix. It is not recommended to use this kind of import, however, as it comes with a risk of name clashes and unreliable behavior. The other variation is the ```import``` … ```as``` … statement, which defines an alias for the module name. For example:"
   ]
  },
  {
   "cell_type": "code",
   "execution_count": null,
   "metadata": {},
   "outputs": [],
   "source": [
    "import random as rd\n",
    "print(rd.randint(1,10))"
   ]
  },
  {
   "cell_type": "markdown",
   "metadata": {},
   "source": [
    "This is handy in particular for defining shorter aliases for long module names, but it should be used with care, too, to avoid name clashes.\n",
    "\n",
    "It is important to realize that all Python .py files are modules. However, not all of them are (just) made for being imported into other modules. Some also have code that should be executed when the module is executed as a script or with ```python -m```. Interestingly, a module can discover if it is being executed directly (in Python speech: running in the main scope) or as an import. A pattern that is often used in Python modules is to include such a check, and call a dedicated main function if the method is indeed running in the main scope:\n",
    "\n",
    "    if __name__ == \"__main__\":\n",
    "\n",
    "      # execute only if running in main scope\n",
    "      main()\n",
    "      \n",
    "This allows to have a module providing functions that are useful to import by other modules, and at the same time, for example, offering a command line interface that is useful when starting the module as a script, but would only be a nuisance would it be run during a standard import."
   ]
  }
 ],
 "metadata": {
  "kernelspec": {
   "display_name": "Python 3",
   "language": "python",
   "name": "python3"
  },
  "language_info": {
   "codemirror_mode": {
    "name": "ipython",
    "version": 3
   },
   "file_extension": ".py",
   "mimetype": "text/x-python",
   "name": "python",
   "nbconvert_exporter": "python",
   "pygments_lexer": "ipython3",
   "version": "3.8.3"
  }
 },
 "nbformat": 4,
 "nbformat_minor": 4
}
