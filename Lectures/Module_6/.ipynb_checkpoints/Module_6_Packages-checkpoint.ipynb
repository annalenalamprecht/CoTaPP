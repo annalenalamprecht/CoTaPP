{
 "cells": [
  {
   "cell_type": "markdown",
   "metadata": {},
   "source": [
    "# Packages\n",
    "<span style='color:#5A5A5A'> February <mark style=\"background-color: #FFFF00\">21</mark>, 2021 </span>"
   ]
  },
  {
   "attachments": {},
   "cell_type": "markdown",
   "metadata": {},
   "source": [
    "<h3 style='color:#3981CB'> Packages </h3>\n",
    "\n",
    "Packages are used to organize sets of modules hierarchically. Technically, they are folders that contains modules and a special ```__init__.py``` file (to indicate that the modules in this folder form a package). We don’t go into further detail here, but note that when using modules from collections of functionality such as the Python Standard Library, they are distributed as packages.\n",
    "\n",
    "<h3 style='color:#3981CB'> The Standard Library and other Sources of Functionality </h3>\n",
    "\n",
    "The Python Standard Library, which is distributed with the Python installation, contains random and a large number of other useful packages, such as the ```calendar```,  ```statistics``` or ```io``` libraries. We will see and use some of them in the following lectures. The website https://docs.python.org/3/library/index.html lists what is contained in the standard library of Python and is a good reference during development.\n",
    "\n",
    "In addition to the packages in the standard library, there are also many packages available from other sources. The Python Package index at https://pypi.python.org/\n",
    "pypi is the central repository for Python packages, currently ca. 130,000 of them. With the Anaconda platform a large number of packages has already been installed on your system, but sometimes packages are not yet installed on your machine, so you have to do that yourself before you can use them. How to do this within Anaconda is described at https://docs.anaconda.com/anaconda/navigator/tutorials/manage-packages/#installing-a-package. Alternatively, the basic way to do install new packages is via the command line, using the ```pip``` tool that comes with the Python installation: ```pip install <module>```\n",
    "\n",
    "<h3 style='color:#3981CB'> Recursion </h3>\n",
    "\n",
    "See Recursion.\n",
    "\n",
    "Just a joke, but it points to the basic idea of recursion: self-reference. You may recall recursive function definitions from mathematics, for instance:\n",
    "\n",
    "x$^n$ = x * x$^{n-1}$ if n > 0, and 1 if n = 0\n",
    "\n",
    "That is, the problem is solved by referring to a smaller instance of the same problem, until it is so small that it is trivial. For example, with this definition 35 is calculated as follows:\n",
    "\n",
    "3$^5$ = 3 * 3$^4$ = 3 * 3 * 3$^3$ = 3  * 3 * 3 * 3$^2$ = 3 * 3 * 3 * 3 * 3$^1$ = 3 * 3 * 3 * 3 * 3 * 3$^0$\n",
    "\n",
    "=  3 * 3 * 3 * 3 * 3 * 1 =  3 * 3 * 3 * 3 * 3 = 3 * 3 * 3 * 9 = 3 * 3 * 27 = 3 * 81 = 243\n",
    "\n",
    "Recursions in Python (and other programming languages as well) follow the same principle, but the definition in code looks a bit different:"
   ]
  },
  {
   "cell_type": "code",
   "execution_count": null,
   "metadata": {},
   "outputs": [],
   "source": [
    "# recursive function to compute x**n\n",
    "def pow(x,n):\n",
    "    if n > 0:\n",
    "        return x * pow(x,n-1)\n",
    "    else:\n",
    "        return 1\n",
    "        \n",
    "# main program calling the function\n",
    "x = int(input(\"Please enter x: \"))\n",
    "n = int(input(\"Please enter n: \"))\n",
    "x_to_the_power_of_n = pow(x,n)\n",
    "print(f\"{x} ** {n} = {x_to_the_power_of_n}\")"
   ]
  },
  {
   "attachments": {},
   "cell_type": "markdown",
   "metadata": {},
   "source": [
    "Internally, the following calls and returns of pow(x,n) happen at runtime:\n",
    "\n",
    "```\n",
    "pow(3,5)\n",
    "    pow(3,4)\n",
    "        pow(3,3)\n",
    "            pow(3,2)\n",
    "                pow(3,1)\n",
    "                    pow(3,0)\n",
    "                    return 1\n",
    "                return 3\n",
    "            return 9\n",
    "        return 27\n",
    "    return 81\n",
    "return 243\n",
    "```"
   ]
  },
  {
   "cell_type": "markdown",
   "metadata": {},
   "source": [
    "Now let us look at an example for which there is not already an operator in Python. For example, the Fibonacci number for an integer n is defined as:\n",
    "\n",
    "fib(n) = fib(n-1) + fib(n-2)  if n > 1, 1 if n = 1 and 0 if n = 0\n",
    "\n",
    "In Python:"
   ]
  },
  {
   "cell_type": "code",
   "execution_count": null,
   "metadata": {},
   "outputs": [],
   "source": [
    "def fib(n):\n",
    "    if n > 1:\n",
    "        return fib(n-1) + fib(n-2)\n",
    "    elif n == 1:\n",
    "        return 1\n",
    "    else:\n",
    "        return 0\n",
    "    \n",
    "n = int(input(\"Please enter an integer number: \"))\n",
    "print(f\"fib({n}) = {fib(n)}\")"
   ]
  },
  {
   "cell_type": "markdown",
   "metadata": {},
   "source": [
    "The call stack here is a bit more complex than above (only shown for fib(4) to keep it short):"
   ]
  },
  {
   "cell_type": "markdown",
   "metadata": {},
   "source": [
    "```\n",
    "fib(4)  \n",
    "    fib(3)\n",
    "        fib(2)\n",
    "            fib(1)\n",
    "            return 1\n",
    "            fib(0)\n",
    "            return 0\n",
    "        return 1\n",
    "        fib(1)\n",
    "        return 1\n",
    "    return 2\n",
    "    fib(2)\n",
    "        fib(1)\n",
    "        return 1\n",
    "        fib(0)\n",
    "        return 0\n",
    "    return 1\n",
    "return 3\n",
    "```\n",
    "Here is another, non-mathematical example:"
   ]
  },
  {
   "cell_type": "code",
   "execution_count": null,
   "metadata": {},
   "outputs": [],
   "source": [
    "def walk_up_and_down(floors):\n",
    "    if floors > 0:\n",
    "        print(\"Walk one floor up.\")\n",
    "        walk_up_and_down(floors-1)\n",
    "        print(\"Walk one floor down.\")\n",
    "    else:\n",
    "        print(\"Reached the top floor!\")\n",
    "        \n",
    "walk_up_and_down(3)"
   ]
  },
  {
   "attachments": {},
   "cell_type": "markdown",
   "metadata": {},
   "source": [
    "The call stack here is straightforward again. Note that also without an explicit \"return value\" statement, the function returns control to its caller when it is finished, but then without returning a value:\n",
    "```\n",
    "walk_up_and_down(3)\n",
    "    walk_up_and_down(2)\n",
    "        walk_up_and_down(1)\n",
    "            walk_up_and_down(0)\n",
    "            (return)\n",
    "        (return)\n",
    "    (return)\n",
    "(return)\n",
    "```\n",
    "\n",
    "Each recursion can be implemented by an iterative loop, and vice versa. For the walking-up-and-down example, a corresponding iterative version is:"
   ]
  },
  {
   "cell_type": "code",
   "execution_count": null,
   "metadata": {},
   "outputs": [],
   "source": [
    "def walk_up_and_down_iteratively(floors):\n",
    "    i = 0\n",
    "    while i < floors:\n",
    "        print(\"Walk one floor up.\")\n",
    "        i = i + 1\n",
    "    print(\"Reached the top floor!\")\n",
    "    while i > 0:\n",
    "        print(\"Walk one floor down.\")\n",
    "        i = i - 1\n",
    "        \n",
    "walk_up_and_down_iteratively(3)"
   ]
  },
  {
   "cell_type": "markdown",
   "metadata": {},
   "source": [
    "Generally, iterative implementations tend to be faster (because they do not have to create several instances of the same method), but sometimes a recursive solution is more elegant (though maybe more difficult to understand)."
   ]
  }
 ],
 "metadata": {
  "kernelspec": {
   "display_name": "Python 3",
   "language": "python",
   "name": "python3"
  },
  "language_info": {
   "codemirror_mode": {
    "name": "ipython",
    "version": 3
   },
   "file_extension": ".py",
   "mimetype": "text/x-python",
   "name": "python",
   "nbconvert_exporter": "python",
   "pygments_lexer": "ipython3",
   "version": "3.8.3"
  }
 },
 "nbformat": 4,
 "nbformat_minor": 4
}
