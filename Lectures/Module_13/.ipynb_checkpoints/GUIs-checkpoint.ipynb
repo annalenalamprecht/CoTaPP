{
 "cells": [
  {
   "cell_type": "markdown",
   "metadata": {},
   "source": [
    "# GUIs\n",
    "<span style='color:#5A5A5A'> March <mark style=\"background-color: #FFFF00\">25</mark>, 2021 </span>"
   ]
  },
  {
   "cell_type": "markdown",
   "metadata": {},
   "source": [
    "Last time we dived deeper into objects and object-oriented programming (OOP) in Python. We saw how to create own classes, discuss the concept of inheritance, and had a quick look at UML class diagrams. Furthermore, we briefly talked about higher-order functions, which exploit that in Python also functions are objects.\n",
    "\n",
    "Today we take a look at some additional practical topics: Jupyter notebooks, GUI programming, and building executables.\n",
    "\n",
    "Next time we will discuss regular expressions, which can be very useful in practice to find patterns in text – not only useful in Python programs!"
   ]
  },
  {
   "cell_type": "markdown",
   "metadata": {},
   "source": [
    "<h3 style='color:#3981CB'> Jupyter Notebooks </h3> \n",
    "\n",
    "<mark style=\"background-color: #FFFF00\">  I suppose that this part can be left out as they will be using jupyter notebooks from the start? For now I have made a seperate notebook for this part of the lecuture</mark>\n",
    "    "
   ]
  },
  {
   "cell_type": "markdown",
   "metadata": {},
   "source": [
    "<h3 style='color:#3981CB'>  Graphical User Interfaces with Tkinter </h3>\n",
    "\n",
    "There is a large number of frameworks and toolkits available for building graphical user interfaces (GUIs) in Python (see e.g. the list at https://wiki.python.org/moin/GuiProgramming). We will focus here on how to create GUIs with Tkinter (see the official reference at https://docs.python.org/3/library/tkinter.html), which is the fairly easy-to-use standard GUI framework included in Python. The following introduction to Tkinter is largely based on the very elaborate “Thinking Tkinter” tutorial available online at http://thinkingtkinter.sourceforge.net/.\n",
    "\n",
    "The simplest possible Tkinter program is probably the following:\n"
   ]
  },
  {
   "cell_type": "code",
   "execution_count": null,
   "metadata": {},
   "outputs": [],
   "source": [
    "import tkinter as tk\n",
    "\n",
    "root = tk.Tk()\n",
    "root.mainloop()"
   ]
  },
  {
   "cell_type": "markdown",
   "metadata": {},
   "source": [
    "First the Tkinter library is imported under the name ```tk``` for easier reference. Then an instance of the class ```Tkinter.Tk``` is created, which creates a basic window object. This ```root``` object is the the highest-level GUI component in any Tkinter application, often also referred to as the “toplevel window”. Finally, the ```mainloop``` method of the root object is executed. As the name suggests, it starts the main loop of the application window. This loop runs continuously, waiting for events, handling them when they occur, and only stopping when the window is closed.\n",
    "\n",
    "Obviously, what needs to happen from here is to add further components to the root window, and implement the functionality to handle events that occur from interaction of a user with the interface. We cannot cover all possibilities in the scope of this lecture, of course, but the following examples should give you an idea how it works.\n",
    "\n",
    "Two kinds of GUI components are distinguished in Tkinter: containers and widgets. *Widgets* are all the things that are (usually) visible and do things, such as text fields, drop-down lists, buttons, etc. *Containers* are components that, well, contain other components, especially widgets. The most frequently used container class is ```Frame```.\n",
    "\n",
    "The following example shows how to add a container and a “Say hello!” button to the empty window from above:\n"
   ]
  },
  {
   "cell_type": "code",
   "execution_count": null,
   "metadata": {},
   "outputs": [],
   "source": [
    "root = tk.Tk()\n",
    "\n",
    "container = tk.Frame(root)\n",
    "container.pack() \n",
    "\n",
    "hwbutton = tk.Button(container)\n",
    "hwbutton[\"text\"] = \"Say hello!\"\n",
    "hwbutton.pack()\n",
    "\n",
    "root.mainloop() "
   ]
  },
  {
   "cell_type": "markdown",
   "metadata": {},
   "source": [
    "We create a ```root``` object as before. Then we add a frame ```container``` to the base window. This establishes a logical relationship between the ```container``` and ```root```. Furthermore, the ```pack``` method needs to be called to invoke a “geometry manager” and  establish a visual relationship between the object and its parent, to actually make it visible. Similarly, we add a button to the container, set its text and ```pack``` it. Finally, the main loop of the application is started. We get a window with a button that we can click, but nothing else happens, simply because we have not defined yet what should happen (but we will get to that).\n",
    "\n",
    "When GUI applications get larger, it is usually advisable to follow the object-oriented programming style rather than the procedure-oriented one, and organize the code in classes. For the example from above, that could look as follows:\n"
   ]
  },
  {
   "cell_type": "code",
   "execution_count": null,
   "metadata": {},
   "outputs": [],
   "source": [
    "class HelloWorldApp:   \n",
    "    \n",
    "    def __init__(self,parent):\n",
    "        self.container = tk.Frame(parent)\n",
    "        self.container.pack()\n",
    "        self.hwbutton = tk.Button(self.container)\n",
    "        self.hwbutton[\"text\"] = \"Say hello!\"\n",
    "        self.hwbutton.pack()\n",
    "        \n",
    "root = tk.Tk()\n",
    "hwapp = HelloWorldApp(root)\n",
    "root.mainloop()   "
   ]
  },
  {
   "cell_type": "markdown",
   "metadata": {},
   "source": [
    "Adding additional widgets to the application can be done in the same way as adding the button. The following example shows that instead of configuring widgets by using their dictionaries, this can also be done with the ```configure``` method or directly during their instantiation:"
   ]
  },
  {
   "cell_type": "code",
   "execution_count": null,
   "metadata": {},
   "outputs": [],
   "source": [
    "class HelloWorldApp:   \n",
    "    \n",
    "    def __init__(self,parent):\n",
    "        self.container = tk.Frame(parent)\n",
    "        self.container.pack()\n",
    "        self.hwbutton = tk.Button(self.container)\n",
    "        self.hwbutton[\"text\"] = \"Say hello!\"\n",
    "        self.hwbutton.pack()\n",
    "        self.hwtext = tk.Label(self.container)\n",
    "        self.hwtext.configure(text=\"\",background=\"white\")\n",
    "        self.hwtext.pack()\n",
    "        self.gbbutton = tk.Button(self.container, text=\"Goodbye!\", \\\n",
    "                                  background=\"red\")\n",
    "        self.gbbutton.pack()\n",
    "        \n",
    "root = tk.Tk()\n",
    "hwapp = HelloWorldApp(root)\n",
    "root.mainloop()"
   ]
  },
  {
   "cell_type": "markdown",
   "metadata": {},
   "source": [
    "<mark style=\"background-color: #FFFF00\"> Background of goodbye button did not turn red on my computer. Looked it up and seems to have to do something with mac. If I run the piece of code below it does seem to work. </mark>"
   ]
  },
  {
   "cell_type": "code",
   "execution_count": null,
   "metadata": {},
   "outputs": [],
   "source": [
    "# importing tkmacosx\n",
    "import tkmacosx as tkmac\n",
    "\n",
    "class HelloWorldApp:   \n",
    "    \n",
    "    def __init__(self,parent):\n",
    "        self.container = tk.Frame(parent)\n",
    "        self.container.pack()\n",
    "        self.hwbutton = tk.Button(self.container)\n",
    "        self.hwbutton[\"text\"] = \"Say hello!\"\n",
    "        self.hwbutton.pack()\n",
    "        self.hwtext = tk.Label(self.container)\n",
    "        self.hwtext.configure(text=\"\",background=\"white\")\n",
    "        self.hwtext.pack()\n",
    "        # using Button from tkmacosx\n",
    "        self.gbbutton = tkmac.Button(self.container, text=\"Goodbye!\", \\\n",
    "                                  background=\"red\")\n",
    "        self.gbbutton.pack()\n",
    "        \n",
    "root = tk.Tk()\n",
    "hwapp = HelloWorldApp(root)\n",
    "root.mainloop()"
   ]
  },
  {
   "cell_type": "markdown",
   "metadata": {},
   "source": [
    "The standard way of placing widgets within the container is on top of each other. That is because the default value of the ```side``` parameter of the ```pack``` method is in fact ```top```. By using “bottom”, “left” or “right” alternatively, the orientation can be changed. To avoid unpredictable behavior when e.g. resizing the application window, it is advisable to use the same orientation for all widgets in a container. If we use ```pack``` with parameter ```side=”left”``` in the above example, we get the following result: <mark style=\"background-color: #FFFF00\"> Not sure if I should add a screenshot of the output (like in the original lecture) with buttons next to each other or should I just put the code in a block so it shows the output? Or would you want them to adjust the code above themselves to get the corresponding result as output on their own screens? Final sentence could then be something like: If you use ```pack``` with parameter ```side=”left”``` in the above example, you will get the 'corresponding' result.</mark>"
   ]
  },
  {
   "cell_type": "markdown",
   "metadata": {},
   "source": [
    "If we would like, for example, to place the text field above the two buttons, we can easily do that by using to containers (placed on top of each other), of which one contains the text field and the other the two buttons (next to each other):"
   ]
  },
  {
   "cell_type": "code",
   "execution_count": null,
   "metadata": {},
   "outputs": [],
   "source": [
    "class HelloWorldApp:  \n",
    "    \n",
    "    def __init__(self,parent):\n",
    "        self.container1 = tk.Frame(parent)\n",
    "        self.container1.pack()\n",
    "        self.hwtext = tk.Label(self.container1)\n",
    "        self.hwtext.configure(text=\"\",background=\"white\")\n",
    "        self.hwtext.pack(side=\"left\")\n",
    "        self.container2 = tk.Frame(parent)\n",
    "        self.container2.pack()\n",
    "        self.hwbutton = tk.Button(self.container2)\n",
    "        self.hwbutton[\"text\"] = \"Say hello!\"\n",
    "        self.hwbutton.pack(side=\"left\")\n",
    "        self.gbbutton = tk.Button(self.container2, text=\"Goodbye!\", \\\n",
    "                                  background=\"red\")\n",
    "        self.gbbutton.pack(side=\"left\")\n",
    "        \n",
    "root = tk.Tk()\n",
    "hwapp = HelloWorldApp(root)\n",
    "root.mainloop()   "
   ]
  },
  {
   "cell_type": "markdown",
   "metadata": {},
   "source": [
    "So far for creating a tk application window and adding and arranging GUI elements. Of course we also want the buttons to actually do something when we click on them. To achieve this, we need to do two things: write event handler routines that do the intended things, and bind these routines to the respective widgets and events.\n",
    "\n",
    "For example, if we want a click on the “Say hello!” button to cause the text “Hello World!” to appear in the text box, and a click on the “Goodbye!” button to cause the window to close, we could define the following two methods in our application class:\n",
    "```\n",
    "   def hwbuttonClick(self,event):\n",
    "       self.hwtext.configure(text=\"Hello World!\")\n",
    "       \n",
    "   def gbbuttonClick(self,event):\n",
    "       self.parent.destroy()\n",
    "``` \n",
    "The first method simply changes the text in the text field, the second one calls the ```destroy``` method of the root object and thus closes the window. Furthermore, we need to register the methods at the respective buttons with the ```bind``` method. The first parameter of ```bind``` is the event that we want to handle (a click with the left mouse button is called ```“<Button-1>”```) and the function that is to be called. See the complete example with event binding below:\n",
    "\n",
    "<mark style=\"background-color: #FFFF00\"> Seems to be an issues with ```destroy```. When I try to click on the goodbye button my application freezes. Also seems to be the case in spyder and on other an platform than mac</mark>"
   ]
  },
  {
   "cell_type": "code",
   "execution_count": null,
   "metadata": {},
   "outputs": [],
   "source": [
    "class HelloWorldApp:   \n",
    "    \n",
    "    def __init__(self,parent):\n",
    "        self.parent = parent\n",
    "        \n",
    "        self.container1 = tk.Frame(parent)\n",
    "        self.container1.pack()\n",
    "        self.hwtext = tk.Label(self.container1)\n",
    "        self.hwtext.configure(text=\"\",background=\"white\")\n",
    "        self.hwtext.pack(side=\"left\")\n",
    "        \n",
    "        self.container2 = tk.Frame(parent)\n",
    "        self.container2.pack()\n",
    "        self.hwbutton = tk.Button(self.container2)\n",
    "        self.hwbutton[\"text\"] = \"Say hello!\"\n",
    "        self.hwbutton.pack(side=\"left\")\n",
    "        self.hwbutton.bind(\"<Button-1>\", self.hwbuttonClick)\n",
    "        self.gbbutton = tk.Button(self.container2, \n",
    "                                  text=\"Goodbye!\", background=\"red\")\n",
    "        self.gbbutton.pack(side=\"left\")\n",
    "        self.gbbutton.bind(\"<Button-1>\", self.gbbuttonClick)    \n",
    "        \n",
    "    def hwbuttonClick(self,event):\n",
    "        self.hwtext.configure(text=\"Hello World!\") \n",
    "        \n",
    "    def gbbuttonClick(self,event):\n",
    "        self.parent.destroy()\n",
    "        \n",
    "root = tk.Tk()\n",
    "hwapp = HelloWorldApp(root)\n",
    "root.mainloop()  "
   ]
  },
  {
   "cell_type": "markdown",
   "metadata": {},
   "source": [
    "Next to the Frame container, the Canvas container mentioned earlier is often useful to use. Basically, it allows for including all kinds of graphics – self-drawn, generated or imported. Here a small example added to our HelloWorldApp:"
   ]
  },
  {
   "cell_type": "code",
   "execution_count": null,
   "metadata": {},
   "outputs": [],
   "source": [
    "class HelloWorldApp:  \n",
    "    \n",
    "    def __init__(self,parent):\n",
    "        self.parent = parent\n",
    "        \n",
    "        self.container0 = tk.Canvas(parent, width=100, height=100)\n",
    "        self.container0.create_oval(0,0,100,100,fill=\"yellow\")\n",
    "        self.container0.create_oval(45,45,55,55,fill=\"red\")\n",
    "        self.container0.create_oval(25,25,35,35,fill=\"blue\")\n",
    "        self.container0.create_oval(65,25,75,35,fill=\"blue\")\n",
    "        self.container0.create_arc(25,55,75,80,fill=\"red\",\n",
    "                                   style=\"arc\",start=180,extent=180)\n",
    "        self.container0.pack()\n",
    "\n",
    "        self.container1 = tk.Frame(parent)\n",
    "        self.container1.pack()\n",
    "        self.hwtext = tk.Label(self.container1)\n",
    "        self.hwtext.configure(text=\"\",background=\"white\")\n",
    "        self.hwtext.pack(side=\"left\")\n",
    "        \n",
    "        self.container2 = tk.Frame(parent)\n",
    "        self.container2.pack()\n",
    "        self.hwbutton = tk.Button(self.container2)\n",
    "        self.hwbutton[\"text\"] = \"Say hello!\"\n",
    "        self.hwbutton.pack(side=\"left\")\n",
    "        self.hwbutton.bind(\"<Button-1>\", self.hwbuttonClick)\n",
    "        self.gbbutton = tk.Button(self.container2, \n",
    "                                  text=\"Goodbye!\", background=\"red\")\n",
    "        self.gbbutton.pack(side=\"left\")\n",
    "        self.gbbutton.bind(\"<Button-1>\", self.gbbuttonClick)  \n",
    "        \n",
    "    def hwbuttonClick(self,event):\n",
    "        self.hwtext.configure(text=\"Hello World!\")  \n",
    "        \n",
    "    def gbbuttonClick(self,event):\n",
    "        self.parent.destroy()\n",
    "        \n",
    "root = tk.Tk()\n",
    "hwapp = HelloWorldApp(root)\n",
    "root.mainloop()  "
   ]
  },
  {
   "cell_type": "markdown",
   "metadata": {},
   "source": [
    "The code now adds another container to the GUI frame, namely a Canvas container on top of the two previously defined containers. We create it with ```width = 100``` and ```height = 100```, meaning that the canvas will have a size of 100x100 pixels. Onto that canvas, we draw a big yellow circle, one red and two blue circles as well as an arc, which together create a nice smiley face. :) Note that the coordinate system of the canvas starts in the upper left corner, so x,y=0,0 is the coordinate in the upper left, 100,100 the one in the lower left, etc. The drawing functions expect a “bounding box”, i.e. two coordinate pairs that define the rectangle in which the figure is drawn, thus always 4 numbers as parameters in of the methods creating the shapes.\n",
    "\n",
    "Finally, note that it also possible to display the name of the app in the window frame, instead of “tk”. All that is required is to add one more line to the main program:\n",
    "```\n",
    "root = tk.Tk()\n",
    "root.title('Hello!')\n",
    "hwapp = HelloWorldApp(root)\n",
    "root.mainloop()   \n",
    "```\n",
    "<mark style=\"background-color: #FFFF00\"> Do you want me to repeat the whole piece of code above or just let the student add the extra line in the code block above to get the ouput with the name of the app displayed? </mark>\n",
    "\n",
    "So much about the basic principles of creating graphical user interfaces in Python with the Tkinter framework. There are a lot more widgets, events and configuration options to be explored, but they follow the same ideas. More advanced information can also be found in the online documentation and tutorials referenced above.\n",
    "\n",
    "As mentioned in the beginning, several (other) frameworks and toolkits for building GUIs with Python exist. Using toolkits for GUI design often makes it easier to create more “beautiful” interfaces, but on the other hand the code that they generate automatically can be more difficult to understand. If you are interested in more GUI programming, it might nevertheless be worth investigating them further."
   ]
  }
 ],
 "metadata": {
  "kernelspec": {
   "display_name": "Python 3",
   "language": "python",
   "name": "python3"
  },
  "language_info": {
   "codemirror_mode": {
    "name": "ipython",
    "version": 3
   },
   "file_extension": ".py",
   "mimetype": "text/x-python",
   "name": "python",
   "nbconvert_exporter": "python",
   "pygments_lexer": "ipython3",
   "version": "3.8.3"
  }
 },
 "nbformat": 4,
 "nbformat_minor": 4
}
