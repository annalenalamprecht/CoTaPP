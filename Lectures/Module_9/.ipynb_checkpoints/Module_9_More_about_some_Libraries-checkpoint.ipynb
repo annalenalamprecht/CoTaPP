{
 "cells": [
  {
   "cell_type": "markdown",
   "metadata": {},
   "source": [
    "# More (about some) Libraries \n",
    "<span style='color:#5A5A5A'> March <mark style=\"background-color: #FFFF00\">4</mark>, 2021 </span>"
   ]
  },
  {
   "cell_type": "markdown",
   "metadata": {},
   "source": [
    "Last time we covered how to read and write files in general, how to deal with CSV files in particular, Pandas data frames, and how to handle runtime errors that can for example be caused by user inputs or file operations.\n",
    "\n",
    "Today we have a closer look at some of the most popular Python libraries for data science applications: Pandas (continued), NumPy and Matplotlib. They all belong to the SciPy collection of libraries for mathematics, science and engineering (https://www.scipy.org/). Always keep in mind that in the lecture we can only discuss a few selected examples, so refer to the respective online documentation for full reference.\n",
    "\n",
    "On <mark style=\"background-color: #FFFF00\">Friday (March 6)</mark> is the mid-term exam, covering the content of modules 1-8. Next week the lectures will continue, first with a unit on Git.\n"
   ]
  },
  {
   "cell_type": "markdown",
   "metadata": {},
   "source": [
    "<h3 style='color:#3981CB'> Pandas </h3> \n",
    "\n",
    "The most important things to know about Pandas we have already covered last time: how to use Pandas to read content from CSV files, the data frame and series data structures, indexing operations and basic plotting and statistics methods for data frames and series. Please refer to the Pandas documentation at http://pandas.pydata.org/pandas-docs/stable/ for further details, as we cannot cover the library in depth in this course. In this lecture we only address two more aspects: handling of missing data and concatenating/joining tables with Pandas."
   ]
  },
  {
   "cell_type": "markdown",
   "metadata": {},
   "source": [
    "<h3 style='color:#3981CB'> Handling Missing Data </h3>\n",
    "\n",
    "For various reasons it can happen that data are missing in a data frame. They might, for example, already have been missing in the input CSV file due to measurement faults, or have become unavailable because of computations that were not able to return a (good) result.\n",
    "In Pandas the value ```np.nan``` (technically of type ```float```) is the primarily used value for representing missing data.  This can look as follows:\n"
   ]
  },
  {
   "cell_type": "code",
   "execution_count": null,
   "metadata": {},
   "outputs": [],
   "source": [
    "import pandas as pd\n",
    "\n",
    "df = pd.read_csv(\"table-with-missing-data.csv\", sep=\",\")\n",
    "print(df)"
   ]
  },
  {
   "cell_type": "markdown",
   "metadata": {},
   "source": [
    "Note that the value ```None```, should it occur during computations, is usually also interpreted as ```NaN```, and generally the values to be interpreted as missing can be configured in the Python options. This should be done with care, however.  \n",
    "\n",
    "By default, Pandas operations simply ignore ```NaN``` values. That is, they simply carry out the computation on the available data in the data frame or series, and/or propagate ```NaN``` values if a meaningful result cannot be derived. For example:\n"
   ]
  },
  {
   "cell_type": "code",
   "execution_count": null,
   "metadata": {},
   "outputs": [],
   "source": [
    "print(df.describe())\n",
    "print(df[\"age\"]+1)"
   ]
  },
  {
   "cell_type": "markdown",
   "metadata": {},
   "source": [
    "If such behavior is not wanted, the data frame or series can be manipulated accordingly before applying the operations. One option is to remove rows or columns with missing data completely by using the ```dropna()``` function. The following example shows how to drop all rows where any data are missing, and how to drop all rows where age or height data are missing:"
   ]
  },
  {
   "cell_type": "code",
   "execution_count": null,
   "metadata": {},
   "outputs": [],
   "source": [
    "print(df.dropna())\n",
    "print(df.dropna(subset=[\"age\", \"height\"]))"
   ]
  },
  {
   "cell_type": "markdown",
   "metadata": {},
   "source": [
    "Another possibility is to replace the ```NaN``` values by other/better values:"
   ]
  },
  {
   "cell_type": "code",
   "execution_count": null,
   "metadata": {},
   "outputs": [],
   "source": [
    "print(df.fillna(0))\n",
    "print(df.fillna(value={\"age\":0, \"height\":0}))\n",
    "print(df.fillna(value={\"age\":df[\"age\"].mean(), \\\n",
    "                       \"height\":df[\"height\"].mean()}))"
   ]
  },
  {
   "cell_type": "markdown",
   "metadata": {},
   "source": [
    "In some cases also Pandas’ ```interpolate()``` function can be used to come up with values to fill in for missing data. Of course, replacing missing data with values should always be done with great care, as there is a risk of producing distorted or even wrong results when adding data to a data set. Generally, the choice how to handle missing data depends on the specifics of the concrete case, but it is good to know about the different options."
   ]
  },
  {
   "cell_type": "markdown",
   "metadata": {},
   "source": [
    "<h3 style='color:#3981CB'> Concatenating and Joining Tables </h3>\n",
    "\n",
    "When working with data frames, often the question arises how to combine two or more of them into one. The following illustrates the most important ways to do that.\n",
    "\n",
    "The easiest case of combining two data frames into one is **concatenation**. It is possible if the two tables have the same columns, but a different set of rows, or if they have the same rows, but different sets of columns. In the former case, they can simply be concatenated vertically, on top of each other, and in the other case horizontally, or next to each other.  The following example illustrates how to do that with pandas, simply creating parts of the data frame above that are then concatenated:\n"
   ]
  },
  {
   "cell_type": "code",
   "execution_count": null,
   "metadata": {},
   "outputs": [],
   "source": [
    "import pandas as pd\n",
    "\n",
    "df = pd.read_csv(\"table-with-missing-data.csv\", sep=\",\")\n",
    "\n",
    "three_more_rows = pd.DataFrame(data=\\\n",
    "    {\"name\":[\"Ines\",\"Joe\",\"Kathy\"],\"age\":[51,18,34],\\\n",
    "    \"height\":[178,185,168]})\n",
    "print(three_more_rows)\n",
    "\n",
    "df_concatenated = pd.concat([df, three_more_rows], axis=0)\n",
    "print(df_concatenated)"
   ]
  },
  {
   "cell_type": "markdown",
   "metadata": {},
   "source": [
    "Note that the ```concat()``` method does not assign new index values by default. Setting the parameter ```ignore_index=True``` will cause it to re-index, too.\n",
    "\n",
    "Adding a new column to the data frame can be done with the same method, but using the other axis. For example:"
   ]
  },
  {
   "cell_type": "code",
   "execution_count": null,
   "metadata": {},
   "outputs": [],
   "source": [
    "one_more_column = pd.Series([62,70,74,91,65,80,45,95],name=\"weight\")\n",
    "df_concatenated = pd.concat([df,one_more_column], axis=1)\n",
    "print(df_concatenated)"
   ]
  },
  {
   "cell_type": "markdown",
   "metadata": {},
   "source": [
    "Another, and sometimes not-so-easy case is the **joining** of data from different tables that do not come with the same set of rows or columns. In this case, one or more join keys need to be identified that are present in both files and can thus be used to associate the different data items to each other. Sometimes two columns are named the same and do in fact contain the same kind of data. Then it is easy to see that they might be a good key. Here is an example with two simple data frames that both have a key column and can thus easily be joined with merge:"
   ]
  },
  {
   "cell_type": "code",
   "execution_count": null,
   "metadata": {},
   "outputs": [],
   "source": [
    "left = pd.DataFrame({'key': ['key1', 'key2', 'key3', 'key4'],\n",
    "                     'A': ['A0', 'A1', 'A2', 'A3'],\n",
    "                     'B': ['B0', 'B1', 'B2', 'B3']})  \n",
    "\n",
    "right = pd.DataFrame({'key': ['key1', 'key3', 'key4', 'key2'],\n",
    "                      'C': ['C0', 'C1', 'C2', 'C3'],\n",
    "                      'D': ['D0', 'D1', 'D2', 'D3']})\n",
    "\n",
    "join = pd.merge(left, right, on='key')\n",
    "print(join)"
   ]
  },
  {
   "cell_type": "markdown",
   "metadata": {},
   "source": [
    "In other cases, it is not so obvious from the name of the column, but if there are two columns with different names that contain the same kind of data, they can also be used as join keys:"
   ]
  },
  {
   "cell_type": "code",
   "execution_count": null,
   "metadata": {},
   "outputs": [],
   "source": [
    "left = pd.DataFrame({'key': ['key1', 'key2', 'key3', 'key4'],\n",
    "                    'A': ['A0', 'A1', 'A2', 'A3'],\n",
    "                    'B': ['B0', 'B1', 'B2', 'B3']})  \n",
    "\n",
    "right = pd.DataFrame({'ID': ['key5', 'key3', 'key4', 'key2'],\n",
    "                       'C': ['C0', 'C1', 'C2', 'C3'],\n",
    "                       'D': ['D0', 'D1', 'D2', 'D3']})\n",
    "\n",
    "join = pd.merge(left, right, left_on=\"key\",right_on=\"ID\")\n",
    "print(join)"
   ]
  },
  {
   "cell_type": "markdown",
   "metadata": {},
   "source": [
    "Apparently, only the rows whose keys appear in both data frames are contained in the result. This is the default behavior and corresponds to a so-called inner join. It is also possible to use all data from one or both tables in the joined table, and let the missing values in the rows simply be filled with ```NaN``` values. Those are then called left outer join (if everything from the left table is used, but only the matching keys from the right), right outer join (everything from the right), or outer join (every-thing from both). See the following examples for illustration:"
   ]
  },
  {
   "cell_type": "code",
   "execution_count": null,
   "metadata": {},
   "outputs": [],
   "source": [
    "inner_join = pd.merge(left, right, left_on=\"key\", right_on=\"ID\", how='inner')\n",
    "print(inner_join)\n",
    "\n",
    "left_outer_join = pd.merge(left, right, left_on=\"key\", right_on=\"ID\", how='left')\n",
    "print(left_outer_join)\n",
    "\n",
    "right_outer_join = pd.merge(left, right, left_on=\"key\",right_on=\"ID\", how='right')\n",
    "print(right_outer_join)\n",
    "\n",
    "outer_join = pd.merge(left, right, left_on=\"key\",right_on=\"ID\", how='outer')\n",
    "print(outer_join)\n"
   ]
  },
  {
   "cell_type": "markdown",
   "metadata": {},
   "source": [
    "For full reference regarding table merging operations with pandas, see https://pandas.pydata.org/pandas-docs/stable/merging.html."
   ]
  },
  {
   "cell_type": "markdown",
   "metadata": {},
   "source": [
    "<h3 style='color:#3981CB'> NumPy </h3>\n",
    "\n",
    "The NumPy library (http://www.numpy.org/) has been designed to provide specific support for numerical mathematics in Python. In particular, it provides a data structure for n-dimensional arrays/matrices (the ndarray) and operations for working with it. Note that Pandas, itself focusing on functionality for data science applications, has been built on top of NumPy.\n",
    "\n",
    "Here is a small basic NumPy example that shows some of many different ways to create ndarrays:"
   ]
  },
  {
   "cell_type": "code",
   "execution_count": null,
   "metadata": {},
   "outputs": [],
   "source": [
    "import numpy as np\n",
    "a = np.array([[1,5,6],[6,7,6],[5,4,3]])\n",
    "b = np.zeros((3,3))\n",
    "c = np.ones((3,3))\n",
    "d = np.identity(3)\n",
    "print(a)\n",
    "print(b)\n",
    "print(c)\n",
    "print(d)"
   ]
  },
  {
   "cell_type": "markdown",
   "metadata": {},
   "source": [
    "Indexing etc. basically works as with lists, data frames and other collection data structures that we have seen before. Note, however, that ndarrays are homogeneously typed, that is, all contained elements must be of the same type, and that they are usually fixed-size, that is, all rows in a dimension must be of the same length. Also appending new rows or columns to ndarrays is not as easy as with the aforementioned data types, so ideally they are created directly with the size and number of dimensions needed, and values filled in later in the program if needed. The advantage of ndarrays is that numerical operations on large matrices run much faster on them then on the dynamic collection data structures.\n",
    "\n",
    "Python’s standard arithmetic operations can be used on ndarrays, and will be executed elementwise. For example:\n"
   ]
  },
  {
   "cell_type": "code",
   "execution_count": null,
   "metadata": {},
   "outputs": [],
   "source": [
    "print(a+c)\n",
    "print(a*a)\n",
    "print((a-c)<=b)"
   ]
  },
  {
   "cell_type": "markdown",
   "metadata": {},
   "source": [
    "For matrix-specific operations, own operators and attributes have been defined, for example for matrix multiplication and transposition:"
   ]
  },
  {
   "cell_type": "code",
   "execution_count": null,
   "metadata": {},
   "outputs": [],
   "source": [
    "print(a@a) \n",
    "print(a.T)"
   ]
  },
  {
   "cell_type": "markdown",
   "metadata": {},
   "source": [
    "Here is now an example (largely taken from https://www.geeksforgeeks.org/check-given-matrix-is-magic-square-or-not/) that actually does something more useful with ndarrays: A “magic square” is a nxn matrix all of whose row sums, column sums and the sums of the two diagonals are the same. The function ```is_magic(matrix)``` in the program below checks if a ndarray represents a magic square:"
   ]
  },
  {
   "cell_type": "code",
   "execution_count": null,
   "metadata": {},
   "outputs": [],
   "source": [
    "import numpy as np\n",
    "\n",
    "def is_magic(matrix):\n",
    "    # check if matrix is nxn\n",
    "    dim = matrix.shape\n",
    "    if len(dim)!=2 or dim[0] != dim[1]: return False\n",
    "    N = dim[0]        \n",
    "    \n",
    "    # calculate the sum of the prime diagonal \n",
    "    s = 0\n",
    "    for i in range(0, N): \n",
    "        s = s + matrix[i][i]      \n",
    "        \n",
    "    # calculate the sum of the other diagonal\n",
    "    s2 = 0\n",
    "    for i in range(0,N):\n",
    "        s2 = s2 + matrix[i][N-i-1]\n",
    "        \n",
    "    if (s != s2): return False\n",
    "    \n",
    "    # For sums of Rows\n",
    "    for i in range(0, N):\n",
    "        rowSum = 0;      \n",
    "        for j in range(0, N): \n",
    "            rowSum += matrix[i][j]   \n",
    "            \n",
    "        # check if every row sum is equal to prime diagonal sum \n",
    "        if (rowSum != s): \n",
    "            return False\n",
    "        \n",
    "    # For sums of Columns \n",
    "    for i in range(0, N): \n",
    "        colSum = 0\n",
    "        for j in range(0, N): \n",
    "            colSum += matrix[j][i]   \n",
    "            \n",
    "        # check if every column sum is equal to prime diagonal sum\n",
    "        if (s != colSum):\n",
    "            return False\n",
    "        \n",
    "    # if all yes, return true\n",
    "    return True\n",
    "\n",
    "# test program:\n",
    "A = np.array([[4,9,2],\n",
    "             [3,5,7],\n",
    "             [8,1,6]])\n",
    "B = np.array([[3,9,2],\n",
    "              [4,5,7],\n",
    "              [8,1,6]])\n",
    "\n",
    "print(f\"Is A magic? {is_magic(A)}\")\n",
    "print(f\"Is B magic? {is_magic(B)}\")\n"
   ]
  },
  {
   "cell_type": "markdown",
   "metadata": {},
   "source": [
    "<h3 style='color:#3981CB'> Matplotlib </h3>\n",
    "\n",
    "Matplotlib (https://matplotlib.org/) is Python's 2D plotting library. A number of plotting functions in other libraries, for example the Pandas plotting functions, are actually wrappers around the respective Matplotlib functions. Here is a first simple example with random data:\n"
   ]
  },
  {
   "cell_type": "code",
   "execution_count": null,
   "metadata": {},
   "outputs": [],
   "source": [
    "import matplotlib.pyplot as plt\n",
    "\n",
    "x = [1,2,3,4,5,6,7,8,9,10]\n",
    "y = [34,53,64,10,60,40,73,23,49,10]\n",
    "\n",
    "plt.plot(x,y)\n",
    "plt.show()"
   ]
  },
  {
   "cell_type": "markdown",
   "metadata": {},
   "source": [
    "First the ```matplotlib.pyplot``` module (https://matplotlib.org/api/_as_gen/matplotlib.pyplot.html) is imported and given the shorter name ```plt```. Then two lists x and y of same length are created. X contains a sequence of ascending numbers, and y the same number of random values. The simplest plot is to plot x against y, which is done with the ```plt.plot(x,y)``` statement. ```plt.show()``` then shows the plot.\n",
    "\n",
    "Instead of or in addition to displaying the plots to the user, they can also be saved into raster or vector files for later use with the ```savefig``` function. See the following code for an example that also uses further parameters of the plot function to change the color and add markers to the plotted line:\n"
   ]
  },
  {
   "cell_type": "code",
   "execution_count": null,
   "metadata": {},
   "outputs": [],
   "source": [
    "plt.plot(x,y, color=\"r\", marker=\"o\")\n",
    "plt.savefig(\"plot.png\")\n",
    "plt.savefig(\"plot.pdf\")"
   ]
  },
  {
   "attachments": {
    "plot_pdf_file.png": {
     "image/png": "[encoded data removed]"
    },
    "plot_png_file.png": {
     "image/png": "[encoded data removed]"
    }
   },
   "cell_type": "markdown",
   "metadata": {},
   "source": [
    "<mark style=\"background-color: #FFFF00\">Resulting Files:</mark>\n",
    "\n",
    "![plot_png_file.png](attachment:plot_png_file.png)![plot_pdf_file.png](attachment:plot_pdf_file.png)\n",
    "\n",
    "As another example, consider again the Dutch municipalities data set that we worked with earlier. We can create histograms of population numbers with the following code:"
   ]
  },
  {
   "cell_type": "code",
   "execution_count": null,
   "metadata": {},
   "outputs": [],
   "source": [
    "df = pd.read_csv(\"dutch_municipalities.csv\", sep=\"\\t\")\n",
    "plt.hist(df[\"population\"])\n",
    "plt.show()\n",
    "\n",
    "plt.hist(df[\"population\"], bins=50)\n",
    "plt.title(\"Size of Municipalities\")\n",
    "plt.xlabel(\"inhabitants\")\n",
    "plt.ylabel(\"# municipalities\")\n",
    "plt.show() "
   ]
  },
  {
   "cell_type": "markdown",
   "metadata": {},
   "source": [
    "In principle the functions in Matplotlib all work according to the same principles, but it is always crucial to refer to their specific documentation and understand their parameters in order to use them proficiently in own context. If you would like to see more examples, you can for example go to https://matplotlib.org/tutorials/introductory/sample_plots.html#sphx-glr-tutorials-introductory-sample-plots-py for further introductory examples of 2D plotting,  https://pythonprogramming.net/matplotlib-intro-tutorial/ for video lectures on Matplotlib, or https://pandas.pydata.org/pandas-docs/stable/user_guide/visualization.html for visualization using the Pandas package.\n"
   ]
  }
 ],
 "metadata": {
  "kernelspec": {
   "display_name": "Python 3",
   "language": "python",
   "name": "python3"
  },
  "language_info": {
   "codemirror_mode": {
    "name": "ipython",
    "version": 3
   },
   "file_extension": ".py",
   "mimetype": "text/x-python",
   "name": "python",
   "nbconvert_exporter": "python",
   "pygments_lexer": "ipython3",
   "version": "3.8.3"
  }
 },
 "nbformat": 4,
 "nbformat_minor": 4
}
