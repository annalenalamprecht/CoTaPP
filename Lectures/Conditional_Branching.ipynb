{
 "cells": [
  {
   "cell_type": "markdown",
   "metadata": {},
   "source": [
    "# Conditional Branching\n",
    "<span style='color:#5A5A5A'> February <mark style=\"background-color: #FFFF00\">14</mark>, 2021 </span>"
   ]
  },
  {
   "cell_type": "markdown",
   "metadata": {},
   "source": [
    "<h3 style='color:#3981CB'> The <code style='color:#3981CB'>if</code> statement </h3> \n",
    "\n",
    "Now let’s see how we can use Boolean expressions for implementing conditional branching in Python programs. This will allow us to not only print out the bare Boolean values as we did above, but to actually react on whether something is true or false. What we need is the ```if``` statement. Here is a simple example:"
   ]
  },
  {
   "cell_type": "code",
   "execution_count": null,
   "metadata": {},
   "outputs": [],
   "source": [
    "name = input(\"What is your name? \")\n",
    "if name == \"Jane\":\n",
    "    print(\"Hello Jane, nice to see you again!\") "
   ]
  },
  {
   "cell_type": "markdown",
   "metadata": {},
   "source": [
    "In the first line the program reads an input (name) from the user. In the next line, it checks if the name is “Jane”, and only if that is ```True``` the following line is executed. If it is ```False```, nothing else happens.\n",
    "\n",
    "If we want something to happen also for the case the checked condition is False, we can add an else statement. For example:"
   ]
  },
  {
   "cell_type": "code",
   "execution_count": null,
   "metadata": {},
   "outputs": [],
   "source": [
    "name = input(\"What is your name? \")\n",
    "if name == \"Jane\":\n",
    "    print(\"Hello Jane, nice to see you again!\")\n",
    "else:\n",
    "    print(f\"Hello {name}, nice to meet you!\") "
   ]
  },
  {
   "cell_type": "markdown",
   "metadata": {},
   "source": [
    "And if we want to distinguish even more than two cases, we can furthermore add ```elif``` (Python’s abbreviation for “else if”) statements. For example:"
   ]
  },
  {
   "cell_type": "code",
   "execution_count": null,
   "metadata": {},
   "outputs": [],
   "source": [
    "name = input(\"What is your name? \")\n",
    "if name == \"Jane\":\n",
    "    print(\"Hello Jane, nice to see you again!\")\n",
    "elif name == \"Steven\":\n",
    "    print(\"Hello Steven, nice to see you again!\")\n",
    "elif name == \"Kim\":\n",
    "    print(\"Hello Kim, nice to see you again!\")\n",
    "else:\n",
    "    print(f\"Hello {name}, nice to meet you!\")"
   ]
  },
  {
   "cell_type": "markdown",
   "metadata": {},
   "source": [
    "With the if statement we can also rewrite <mark style=\"background-color: #FFFF00\">the examples from Boolean Expressions</mark> to produce nicer outputs:"
   ]
  },
  {
   "cell_type": "code",
   "execution_count": null,
   "metadata": {},
   "outputs": [],
   "source": [
    "x = int(input(\"Enter an integer number: \"))\n",
    "if 0 < x and x <= 10:\n",
    "    print(f\"{x} is in range.\")\n",
    "else:\n",
    "    print(f\"{x} is not in range\")"
   ]
  },
  {
   "cell_type": "code",
   "execution_count": null,
   "metadata": {},
   "outputs": [],
   "source": [
    "weekday = input(\"Which day of the week is it? \")\n",
    "time = input(\"What time is it? (hh:mm) \")\n",
    "if (weekday == \"Wednesday\" or weekday == \"Friday\") and \\\n",
    "    time >= \"13:15\" and time <= \"15:00\":\n",
    "    print(\"It is lecture time!\")\n",
    "elif (weekday == \"Wednesday\" or weekday == \"Friday\") and \\\n",
    "    time >= \"15:15\" and time <= \"17:00\":\n",
    "    print(\"It is lab time!\")\n",
    "else:\n",
    "    print(\"It is homework time!\") "
   ]
  },
  {
   "cell_type": "markdown",
   "metadata": {},
   "source": [
    "So, the basic structure for conditional branching with in Python can be described as follows (where ```elif``` and ```else``` are optional and there can be more than one ```elif```):\n",
    "\n",
    "```\n",
    "if <some condition>:\n",
    "    <do something>\n",
    "elif <some condition>:\n",
    "    <do something else>\n",
    "else:\n",
    "    <do something else>\n",
    "```\n",
    "\n",
    "Two things are important to note here:\n",
    "\n",
    "1.\tThere can be more than one line of code after the ```if/elif/else``` statements that is executed for the respective case. These lines of code together are then called a block. Blocks can contain further ```if/elif/else``` statements.\n",
    "\n",
    "\n",
    "2.\tIndentation is important. The ```if/elif/else``` blocks are indented by exactly four spaces (in most Python editors the TAB key will insert them automatically) to denote that they belong to the block for the respective case. The next code after the if-statement is simply not indented. (We will see later that Python uses this “meaningful whitespace” also for other constructs. Many other languages use additional parentheses for the same purpose.)\n",
    "\n",
    "Here is a slightly more complex example to illustrate the above:"
   ]
  },
  {
   "cell_type": "code",
   "execution_count": null,
   "metadata": {},
   "outputs": [],
   "source": [
    "a = float(input(\"Enter a number:\"))\n",
    "b = float(input(\"Enter another number:\")) \n",
    "                \n",
    "if a == b:\n",
    "    print(\"The numbers are the same\")\n",
    "    print(\"(What a boring input…)\")\n",
    "else:\n",
    "    if a > b:\n",
    "        print(f\"{a} is greater than {b}.\")\n",
    "        print(f\"{a/b:.1f} times greater, to be more precise.\")\n",
    "    else:\n",
    "        print(f\"{b} is greater than {a}.\")\n",
    "        print(f\"{b/a:.1f} times greater, to be more precise.\")\n",
    "                \n",
    "print(\"Thanks for using this program.\")\n"
   ]
  },
  {
   "cell_type": "markdown",
   "metadata": {},
   "source": [
    "<h3 style='color:#3981CB'> By the way: Binary Numbers </h3> \n",
    "\n",
    "True/False, 1/0, binary numbers… Does that somehow belong together? Yes, it does indeed. You have probably heard people saying that computers work with 1s and 0s, and often graphics or movie scenes that have something to do with computers or hackers or anything like that are heavily decorated with sequences of these two numbers… However, we don’t (usually) see anything of that when writing software with a high-level language like Python. There are several layers that translate between our Python program and the bare machine, most importantly the interpreter and the operating system. On the lowest level, the voltage in memory cells is interpreted as 1 (voltage above a certain threshold, present, or True) or 0 (below, not present, or False). This smallest unit of meaningful information is called a bit. 8 bits form one byte. Let’s look at a random example:\n"
   ]
  },
  {
   "cell_type": "markdown",
   "metadata": {},
   "source": [
    "|1|1|0|1|0|0|1|0|\n",
    "| :-: | :-: | :-: | :-: | :-: | :-: | :-: | :-: |\n",
    "|x2$^7$|x2$^6$|x2$^5$|x2$^4$|x2$^3$|x2$^2$|x2$^1$|x2$^0$|\n",
    "|128|64|0|16|0|0|2|0|"
   ]
  },
  {
   "cell_type": "markdown",
   "metadata": {},
   "source": [
    "The first row represents the 8-bit binary number 11010010. If it was a “normal” decimal number, we would interpret its last digit as 0x1 (or 0x10$^0$), its second to last digit as 1x10 (or 1x10$^1$), its third to last digit as 0x100 (or 0x10$^2$), etc. In the binary system, the base is however not 10, but 2, so the places in the number represent the amount of 1 (2$^0$), 2 (2$^1$), 4 (2$^2$), etc in it. The third row in the table is thus the result of the multiplications of the two cells above. When we add them together, we get the decimal representation of 11010010, which is 210. This is often also written as 11010010$_{(2)}$ = 210$_{(10)}$ to make clear which numeral system is used. Note that in principle all integer numbers can be used as base (how useful that is is another question). Another system that is sometimes used in computing is the hexadecimal system, with base 16, which uses the letters A-F in addition to the decimal digits 0-9 to be able to represent the numbers.\n",
    "\n",
    "At the end of the day all operations that are carried out on a computer and all data that is processed are represented as binary numbers. Modern computers have 32 or 64 bit CPU architectures, which means that they have the respective number of bits available for the representing the instruction set of the corresponding machine language. Modern harddrives easily store terabytes of data, and the working memory (RAM) of modern computers can also hold several gigabytes of data.\n",
    "\n",
    "As mentioned above, one does usually not see anything of binary numbers when working with high-level languages like Python. Certainly not in most data science applications, but they can be useful for en-/decryption purposes or for smart memory management in programs that are supposed to run on embedded systems, where programs need to make more efficient use of the limited available resources. Therefore, also Python supports some arithmetic operations that make sense on the binary representation of numbers:\n",
    "\n",
    "    <<   (left shift, shifting the bits of the number to the left)\n",
    "\t>>   (right shift, shifting the bits of the number to the right)\n",
    "\t&\t(bit-wise AND of the numbers)\n",
    "\t|\t(bit-wise OR of the numbers)\n",
    "\t^\t(bit-wise XOR of the numbers)\n",
    "\t~\t(bit-wise invert of the number)\n",
    "\n",
    "The following Python codes uses the ```bin()``` function to illustrate the operations:"
   ]
  },
  {
   "cell_type": "code",
   "execution_count": null,
   "metadata": {},
   "outputs": [],
   "source": [
    "number = 210\n",
    "print(f\"{number} << 2 results in {number << 2} because \"\\\n",
    "      f\"{bin(number)} << 2 is {bin(number << 2)}\")\n",
    "print(f\"{number} >> 2 results in {number >> 2} because \" \\\n",
    "      f\"{bin(number)} >> 2 is {bin(number >> 2)}\")\n",
    "print(f\"{number} & 7 results in {number & 7} because \"\\\n",
    "      f\"{bin(number)} & {bin(7)} is {bin(number & 7)}\")\n",
    "print(f\"{number} | 7 results in {number | 7} because \" \\\n",
    "      f\"{bin(number)} | {bin(7)} is {bin(number | 7)}\")\n",
    "print(f\"{number} ^ 7 results in {number ^ 7} because \" \\\n",
    "      f\"{bin(number)} ^ {bin(7)} is {bin(number ^ 7)}\")\n",
    "print(f\"~{number} results in {~ number} because \" \\\n",
    "      f\"~{bin(number)} is {bin(~ number)}\") "
   ]
  },
  {
   "cell_type": "markdown",
   "metadata": {},
   "source": [
    "Most of the bit-wise operations should be self-explanatory when looking at the binary representation of the numbers. The last, the bit-wise invert, causes the number to become negative. This is because (not shown in our simplified representation) there is one designated bit (typically the first) in a bit sequence representing a binary number that is 1 to indicate a positive number. If it is flipped to 0, the whole number becomes negative."
   ]
  }
 ],
 "metadata": {
  "kernelspec": {
   "display_name": "Python 3",
   "language": "python",
   "name": "python3"
  },
  "language_info": {
   "codemirror_mode": {
    "name": "ipython",
    "version": 3
   },
   "file_extension": ".py",
   "mimetype": "text/x-python",
   "name": "python",
   "nbconvert_exporter": "python",
   "pygments_lexer": "ipython3",
   "version": "3.8.3"
  }
 },
 "nbformat": 4,
 "nbformat_minor": 4
}
