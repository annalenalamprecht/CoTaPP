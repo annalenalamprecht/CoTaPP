{
 "cells": [
  {
   "cell_type": "markdown",
   "metadata": {},
   "source": [
    "# Data Structures \n",
    "<span style='color:#5A5A5A'> February <mark style=\"background-color: #FFFF00\">26</mark>, 2021 </span>"
   ]
  },
  {
   "cell_type": "markdown",
   "metadata": {},
   "source": [
    "Last time we discussed functions, modules and packages, had a quick look at the Python’s standard library and the Python Package Index, and introduced the principle of recursion and recursive function definitions.\n",
    "\n",
    "Today we will cover data structures (lists, tuples, dictionaries, sets) in Python that will allow us to work with more powerful data items than just the individual numbers, strings and Booleans that we have used so far. We will also discuss the important difference between call by value and call by reference.\n",
    "\n",
    "Next time we will start to interact with the “outside world”, read from and write to files, retrieve data from online sources, call web services etc. Along with that, we will also talk about error and exception handling."
   ]
  },
  {
   "cell_type": "markdown",
   "metadata": {},
   "source": [
    "<h3 style='color:#3981CB'> Data Structures in Python </h3> \n",
    "\n",
    "We have already seen the four basic data types that Python provides: string, integer, float and Boolean. Data structures are more than data types, they are used to represent more complex types of data. There are four built-in data structures in Python: lists, tuples, dictionaries and sets. They are all special kinds of variables that can store more than just one value. In lists and tuples the elements have a defined order. Lists, dictionaries and sets are the so-called mutable data structures, meaning that it is possible to add, edit or delete elements. Lists and tuples allow for duplicates, while dictionaries (at least for the keys) and sets contain each value at most once. All these data structures are iterable, that is, a for-loop can automatically go through all their elements."
   ]
  },
  {
   "cell_type": "markdown",
   "metadata": {},
   "source": [
    "<h3 style='color:#3981CB'> Lists </h3>\n",
    "\n",
    "Here is an example of a list in Python, containing the first 12 Fibonacci numbers:"
   ]
  },
  {
   "cell_type": "code",
   "execution_count": null,
   "metadata": {},
   "outputs": [],
   "source": [
    "fibonacci_numbers = [1, 1, 2, 3, 5, 8, 13, 21, 34, 55, 89, 144] "
   ]
  },
  {
   "cell_type": "markdown",
   "metadata": {},
   "source": [
    "That is, lists can simply be defined by comma-separated lists of values in square brackets:\n",
    "\n",
    "```\n",
    "<list_name> = [<value1>, <value2>, …, <valueN>]\n",
    "```\n",
    "\n",
    "Lists can also contain values of different types, for example:"
   ]
  },
  {
   "cell_type": "code",
   "execution_count": null,
   "metadata": {},
   "outputs": [],
   "source": [
    "person_details = [\"Bob\", \"Smith\", \"22.05.1987\", 1.6, 4094379] "
   ]
  },
  {
   "cell_type": "markdown",
   "metadata": {},
   "source": [
    "Individual elements of lists can be accessed by giving their position (index) in the list in square brackets directly behind the name of the variable:\n",
    "\n",
    "```\n",
    "<list_name>[<index>]\n",
    "```\n",
    "\n",
    "Note that for historical technical reasons the first index of a list is not 1, but 0, and accordingly the last index is its length – 1. For example, we can print the 7th Fibonacci number (13) by:"
   ]
  },
  {
   "cell_type": "code",
   "execution_count": null,
   "metadata": {},
   "outputs": [],
   "source": [
    "print(fibonacci_numbers[6]) "
   ]
  },
  {
   "cell_type": "markdown",
   "metadata": {},
   "source": [
    "Or Bob's last name by:"
   ]
  },
  {
   "cell_type": "code",
   "execution_count": null,
   "metadata": {},
   "outputs": [],
   "source": [
    "print(person_details[1]) "
   ]
  },
  {
   "cell_type": "markdown",
   "metadata": {},
   "source": [
    "Conversely, a new value can be assigned to a list element, for example a new last name for Bob:"
   ]
  },
  {
   "cell_type": "code",
   "execution_count": null,
   "metadata": {},
   "outputs": [],
   "source": [
    "person_details[1] = \"Tailor\" "
   ]
  },
  {
   "cell_type": "markdown",
   "metadata": {},
   "source": [
    "Resulting in a changed list:"
   ]
  },
  {
   "cell_type": "code",
   "execution_count": null,
   "metadata": {},
   "outputs": [],
   "source": [
    "print(person_details) "
   ]
  },
  {
   "cell_type": "markdown",
   "metadata": {},
   "source": [
    "We can delete an element from the list, for example:"
   ]
  },
  {
   "cell_type": "code",
   "execution_count": null,
   "metadata": {},
   "outputs": [],
   "source": [
    "del person_details[4] "
   ]
  },
  {
   "cell_type": "markdown",
   "metadata": {},
   "source": [
    "Resulting in:"
   ]
  },
  {
   "cell_type": "code",
   "execution_count": null,
   "metadata": {},
   "outputs": [],
   "source": [
    "print(person_details) "
   ]
  },
  {
   "cell_type": "markdown",
   "metadata": {},
   "source": [
    "The operators \"in\" and \"not in\" can be used to check if a particular values is contained in a list (or not):"
   ]
  },
  {
   "cell_type": "code",
   "execution_count": null,
   "metadata": {},
   "outputs": [],
   "source": [
    "if \"Bob\" in person_details:\n",
    "    print(\"Bob is there.\")"
   ]
  },
  {
   "cell_type": "markdown",
   "metadata": {},
   "source": [
    "Using the ```len``` function we can get the length of a list:"
   ]
  },
  {
   "cell_type": "code",
   "execution_count": null,
   "metadata": {},
   "outputs": [],
   "source": [
    "print(len(person_details))"
   ]
  },
  {
   "cell_type": "markdown",
   "metadata": {},
   "source": [
    "Lists can also be used as iterable objects for for-loops, which are in fact a convenient way for going through the elements of a list. Here is an example:"
   ]
  },
  {
   "cell_type": "code",
   "execution_count": null,
   "metadata": {},
   "outputs": [],
   "source": [
    "numbers = [2, 4, 6, 8, 10]\n",
    "for n in numbers:\n",
    "    print(n)"
   ]
  },
  {
   "cell_type": "markdown",
   "metadata": {},
   "source": [
    "Nesting for-loops into each other is also easy with lists. If we want, for example, to determine all matches to be played in a \"Province League\" between the provinces in Ireland (Gaelic football or Rugby or …) the following piece of code is sufficient:"
   ]
  },
  {
   "cell_type": "code",
   "execution_count": null,
   "metadata": {},
   "outputs": [],
   "source": [
    "teams = [\"Connacht\", \"Ulster\", \"Munster\", \"Leinster\"]\n",
    "for home in teams:\n",
    "    for guest in teams:\n",
    "        if home != guest:\n",
    "            print(f\"{home} : {guest}\") "
   ]
  },
  {
   "cell_type": "markdown",
   "metadata": {},
   "source": [
    "Let’s look at a longer and more serious example with lists: sorting a list of names alphabetically with the famous \"Bubblesort” algorithm. The algorithm goes through the elements of a list from beginning to end, and every time it discovers that an element is not in the right order with its successor, it swaps the two elements. This is repeated until no incorrectly ordered elements are detected any more. During the process the elements slowly \"rise\" to their right position, like bubbles in liquid, thus the name of the algorithm. This can be implemented in Python as follows:"
   ]
  },
  {
   "cell_type": "code",
   "execution_count": null,
   "metadata": {},
   "outputs": [],
   "source": [
    "# function to check if a list is sorted\n",
    "def is_sorted(list):\n",
    "    i = 0\n",
    "    while i < len(list)-1:\n",
    "        if list[i] > list[i+1]:\n",
    "            return False\n",
    "        i = i + 1\n",
    "    return True\n",
    "\n",
    "# simple implementation of the bubblesort algorithm\n",
    "def bubblesort(list):\n",
    "    while not is_sorted(list):\n",
    "        i = 0\n",
    "        while i < len(list)-1:\n",
    "            if list[i] > list[i+1]:\n",
    "                tmp = list[i]\n",
    "                list[i] = list[i+1]\n",
    "                list[i+1] = tmp\n",
    "            i = i + 1  \n",
    "            \n",
    "# main program\n",
    "names = [\"Hieke\", \"Alexander\", \"Sergey\", \"Anna-Lena\", \"Amir\"]\n",
    "print(names)\n",
    "bubblesort(names)\n",
    "print(names) "
   ]
  },
  {
   "cell_type": "markdown",
   "metadata": {},
   "source": [
    "In fact, there is a much simpler (and probably also more efficient) way to sort lists in Python: the ```sort()``` function for lists. Using this function instead of our bubblesort, the code becomes:"
   ]
  },
  {
   "cell_type": "code",
   "execution_count": null,
   "metadata": {},
   "outputs": [],
   "source": [
    "names = [\"Hieke\", \"Alexander\", \"Sergey\", \"Anna-Lena\", \"Amir\"]\n",
    "print(names)\n",
    "names.sort()\n",
    "print(names)"
   ]
  },
  {
   "cell_type": "markdown",
   "metadata": {},
   "source": [
    "Note here that the list is sorted by calling ```names.sort()```, and not ```sort(names)``` as you might have expected. The reason is that the methods ```sort()``` is provided by the list class, hence it can be called on all instances of list, like ```names``` in our example. In contrast, a method like print() is not connected to a particular object, and is just called by itself.\n",
    "\n",
    "There are a few other useful object methods available for lists:\n",
    "\n",
    "\n",
    "  ```<list>.index(<value>)``` returns the index of the first occurrence of the value in the list\n",
    " \n",
    "  ```<list>.append(<value>)``` appends the value to the list as new element\n",
    " \n",
    "  ```<list>.remove(<value>)``` removes the (first) element with the value from the list\n",
    " \n",
    "\n",
    "Here is a simple random example:"
   ]
  },
  {
   "cell_type": "code",
   "execution_count": null,
   "metadata": {},
   "outputs": [],
   "source": [
    "numbers = [4, 31, 34, 2, 3, 13, 53, 54, 2]\n",
    "print(numbers)\n",
    "print(f\"Index(2): {numbers.index(2)}\")\n",
    "numbers.append(99)\n",
    "print(numbers)\n",
    "numbers.remove(2)\n",
    "print(numbers)\n",
    "print(f\"Index(2): {numbers.index(2)}\")"
   ]
  },
  {
   "cell_type": "markdown",
   "metadata": {},
   "source": [
    "Maybe you have wondered if lists can also contain others lists. Yes, there are also lists of lists. Here is an example, doing the opposite of sorting, namely creating a random running order of presentations:"
   ]
  },
  {
   "cell_type": "code",
   "execution_count": null,
   "metadata": {},
   "outputs": [],
   "source": [
    "import random\n",
    "\n",
    "presentations = [[\"Bob\", \"ABC\"], \\\n",
    "                 [\"Elise\", \"DEF\"], \\\n",
    "                 [\"Evelyne\", \"GHI\"], \\\n",
    "                 [\"Harry\", \"JKL\"], \\\n",
    "                 [\"Jack\", \"MNO\"], \\\n",
    "                 [\"Linda\", \"PQR\"], \\\n",
    "                 [\"Michael\", \"STU\"], \\\n",
    "                 [\"Paul\", \"VWX\"]]\n",
    "\n",
    "random.shuffle(presentations)\n",
    "\n",
    "i = 0\n",
    "print(\"Presentations on Tuesday, April 3:\")\n",
    "while i < len(presentations)/2:\n",
    "    print(f\"\\t {presentations[i][0]}: {presentations[i][1]}\")\n",
    "    i += 1\n",
    "print(\"Presentations on Thursday, April 4:\")\n",
    "while i < len(presentations):\n",
    "    print(f\"\\t {presentations[i][0]}: {presentations[i][1]}\")\n",
    "    i += 1"
   ]
  },
  {
   "cell_type": "markdown",
   "metadata": {},
   "source": [
    "We can also use slicing to split the above list in two. Slicing allows to refer to a whole range of indexes instead to just a single one. A slicing expression has the following basic form, referring to all elements from the first index to the one before the last index:\n",
    "\n",
    "```\n",
    "<list>[<first_index>:<last_index>]\n",
    "```\n",
    "    \n",
    "That can for instance be used to replace the while loops in the example above by for-loops:"
   ]
  },
  {
   "cell_type": "code",
   "execution_count": null,
   "metadata": {},
   "outputs": [],
   "source": [
    "print(\"Presentations on Tuesday, April 3:\")\n",
    "for presentation in presentations[0:len(presentations)//2]:\n",
    "    print(f\"\\t {presentation[0]}: {presentation[1]}\")   \n",
    "    \n",
    "print(\"Presentations on Thursday, April 4:\")\n",
    "for presentation in presentations[len(presentations)//2:8]:\n",
    "    print(f\"\\t {presentation[0]}: {presentation[1]}\") "
   ]
  },
  {
   "cell_type": "markdown",
   "metadata": {},
   "source": [
    "When copying lists, whether completely or partially with the slicing operators, it needs to be taken into account that copying of complex objects like lists behaves a bit differently than the copying of simple variable values. If the usual assignment operator (=) is used, only the reference to the list is copied, meaning that all changes to the original list are also visible in the copied list, because they refer to the same object. This is sometimes also called a \"shallow copy\". If it is necessary to copy the list completely, so that the copy is really independent from the original list, a \"deep copy\" needs to be made. The following code illustrates the difference:"
   ]
  },
  {
   "cell_type": "code",
   "execution_count": null,
   "metadata": {},
   "outputs": [],
   "source": [
    "import copy\n",
    "\n",
    "orig_list = [\"a\", \"b\", \"c\", \"d\", \"e\", \"f\", \"g\"]\n",
    "copied_list = orig_list\n",
    "deep_copied_list = copy.deepcopy(orig_list)\n",
    "\n",
    "print(orig_list)\n",
    "print(copied_list)\n",
    "print(deep_copied_list)\n",
    "\n",
    "del orig_list[3]\n",
    "print(orig_list)\n",
    "print(copied_list)\n",
    "print(deep_copied_list)"
   ]
  },
  {
   "cell_type": "markdown",
   "metadata": {},
   "source": [
    "The main reason for not doing deep copies of lists by default is that they are typically slower and in many cases not necessary.\n",
    "\n",
    "Finally two more notes on indexing in Python: So far we have seen forward indexing, from 0 to len(list)-1, is it is common also in a lot of other programming languages. Python allows additionally also for backward indexing, where the last element in the list is indexed with –1, and the first with –len(list). For example, consider the list of Fibonacci numbers from above again:"
   ]
  },
  {
   "cell_type": "code",
   "execution_count": null,
   "metadata": {},
   "outputs": [],
   "source": [
    "fibonacci_numbers = [1, 1, 2, 3, 5, 8, 13, 21, 34, 55, 89, 144]"
   ]
  },
  {
   "cell_type": "markdown",
   "metadata": {},
   "source": [
    "The first 1 has index 0, or alternatively index –12. The 144 has index 11, or alternatively –1. The 5 can be indexed by 4 or –8:"
   ]
  },
  {
   "cell_type": "code",
   "execution_count": null,
   "metadata": {},
   "outputs": [],
   "source": [
    "print(f\"{fibonacci_numbers[0]} == {fibonacci_numbers[-12]}\")\n",
    "print(f\"{fibonacci_numbers[11]} == {fibonacci_numbers[-1]}\")\n",
    "print(f\"{fibonacci_numbers[4]} == {fibonacci_numbers[-8]}\")"
   ]
  },
  {
   "cell_type": "markdown",
   "metadata": {},
   "source": [
    "And then there is the so-called unspecified index that can be used with slicing. If the first index of the slice is left unspecified, it refers to all elements in the list from the beginning to the second index - 1. If the second index is left unspecified, it refers to the first index and all remaining elements after it:"
   ]
  },
  {
   "cell_type": "code",
   "execution_count": null,
   "metadata": {},
   "outputs": [],
   "source": [
    "print(fibonacci_numbers[:6])\n",
    "print(fibonacci_numbers[6:])"
   ]
  },
  {
   "cell_type": "markdown",
   "metadata": {},
   "source": [
    "<h3 style='color:#3981CB'> Tuples </h3>\n",
    "\n",
    "Tuples are actually very similar to lists, just that they are immutable and cannot be changed. Thus, they only support operations that read from them, but no operations that would change or delete the data structure.\n",
    "In practice tuples are frequently obtained as a result from library functions, but they can also be created directly, by using round brackets:\n",
    "\n",
    "```\n",
    "<tuple_name> = (<value1>, <value2>, …, <valueN>)\n",
    "```\n",
    "\n",
    "For example:\n"
   ]
  },
  {
   "cell_type": "code",
   "execution_count": null,
   "metadata": {},
   "outputs": [],
   "source": [
    "sample = (\"Thursday\", \"lunch\", \"pasta\", 3.95)\n",
    "print(sample)"
   ]
  },
  {
   "cell_type": "markdown",
   "metadata": {},
   "source": [
    "All reading operations (such as indexing, slicing, iteration…) work in the same way as on lists, for example:"
   ]
  },
  {
   "cell_type": "code",
   "execution_count": null,
   "metadata": {},
   "outputs": [],
   "source": [
    "print(sample[0])\n",
    "print(sample[len(sample)//2:])\n",
    "\n",
    "for s in sample:\n",
    "    print(s)"
   ]
  },
  {
   "cell_type": "markdown",
   "metadata": {},
   "source": [
    "However, writing operations are not possible on tuples, that is, no changing of elements, no deletions, no appending, no sorting, etc. In practice, tuples are frequently used for example by web services or other APIs to return results. You cannot manipulate these directly, but of course access them and copy the contained values to other data structures. Being read-only data structures also makes operations on tuples faster than on lists, so when working with large collections of data that does not change, the use of tuples might be preferred over lists. Furthermore, tuples are also used to make functions return more than one value. For example:"
   ]
  },
  {
   "cell_type": "code",
   "execution_count": null,
   "metadata": {},
   "outputs": [],
   "source": [
    "def integer_division(a,b):\n",
    "    quotient = a//b\n",
    "    remainder = a%b\n",
    "    return quotient, remainder\n",
    "\n",
    "print(integer_division(20,6))"
   ]
  },
  {
   "cell_type": "markdown",
   "metadata": {},
   "source": [
    "Note that the return statement does not explicitly define the pair of numbers as a tuple, but any comma-separated list of return values as shown here will automatically be turned into a tuple."
   ]
  },
  {
   "cell_type": "markdown",
   "metadata": {},
   "source": [
    "<h3 style='color:#3981CB'> Dictionaries </h3>\n",
    "\n",
    "Dictionaries are another complex data structure in Python that can be used to store several values, or more precisely key-value pairs. Keys must be unique and immutable (to be safe it is best to only use simple data types such as strings or numbers as keys), while values can occur repeatedly and be any kind of data type. Dictionaries can be defined as follows:\n",
    "\n",
    "```\n",
    "<dictionary_name> = {<key1>:<value1>,… ,<keyN>:<valueN>}\n",
    "```\n",
    "\n",
    "For example:"
   ]
  },
  {
   "cell_type": "code",
   "execution_count": null,
   "metadata": {},
   "outputs": [],
   "source": [
    "person_details = {\"First name\":\"Bob\", \"Last name\":\"Smith\", \\\n",
    "                  \"Building\":\"BBG\", \"Room\":223} "
   ]
  },
  {
   "cell_type": "markdown",
   "metadata": {},
   "source": [
    "The ```print()``` function can also print out dictionaries, for example:"
   ]
  },
  {
   "cell_type": "code",
   "execution_count": null,
   "metadata": {},
   "outputs": [],
   "source": [
    "print(person_details)"
   ]
  },
  {
   "cell_type": "markdown",
   "metadata": {},
   "source": [
    "<mark style=\"background-color: #FFFF00\">Apparently, the order here is different from the definition of the dictionary.</mark> That's not a problem, however, but intended: While in lists a numerical index is used to access the element at a certain position, with dictionaries the key is used to access a particular value, and the order of the pairs inside the data structure should not matter for the user. The basic syntax for accessing a value is:\n",
    "\n",
    "```\n",
    "<dictionary_name>[<key>]\n",
    "```\n",
    "    \n",
    "For example, to print out the first name of the person, we can use the following code:"
   ]
  },
  {
   "cell_type": "code",
   "execution_count": null,
   "metadata": {},
   "outputs": [],
   "source": [
    "print(f\"First name:\" + person_details[\"First name\"])"
   ]
  },
  {
   "cell_type": "markdown",
   "metadata": {},
   "source": [
    "To change the value for a key or to add a new key-value pair to a dictionary, the assignment statement can be used, for example:"
   ]
  },
  {
   "cell_type": "code",
   "execution_count": null,
   "metadata": {},
   "outputs": [],
   "source": [
    "person_details[\"Last name\"] = \"Tailor\"\n",
    "person_details[\"Phone\"] = 1234"
   ]
  },
  {
   "cell_type": "markdown",
   "metadata": {},
   "source": [
    "Resulting in a changed dictionary:"
   ]
  },
  {
   "cell_type": "code",
   "execution_count": null,
   "metadata": {},
   "outputs": [],
   "source": [
    "print(person_details)"
   ]
  },
  {
   "cell_type": "markdown",
   "metadata": {},
   "source": [
    "Elements can be deleted from a dictionary also via their key, for example:"
   ]
  },
  {
   "cell_type": "code",
   "execution_count": null,
   "metadata": {},
   "outputs": [],
   "source": [
    "del person_details[\"Building\"]\n",
    "del person_details[\"Room\"]"
   ]
  },
  {
   "cell_type": "markdown",
   "metadata": {},
   "source": [
    "Resulting in:"
   ]
  },
  {
   "cell_type": "code",
   "execution_count": null,
   "metadata": {},
   "outputs": [],
   "source": [
    "print(person_details)"
   ]
  },
  {
   "cell_type": "markdown",
   "metadata": {},
   "source": [
    "Just as lists, also dictionaries know their length, that is, the number of key-value pairs in them:"
   ]
  },
  {
   "cell_type": "code",
   "execution_count": null,
   "metadata": {},
   "outputs": [],
   "source": [
    "print(len(person_details))"
   ]
  },
  {
   "cell_type": "markdown",
   "metadata": {},
   "source": [
    "The operators \"in\" and \"not in\" can be used to check if a **key** is contained in a dictionary (or not):"
   ]
  },
  {
   "cell_type": "code",
   "execution_count": null,
   "metadata": {},
   "outputs": [],
   "source": [
    "print(\"First name\" in person_details)\n",
    "print(\"Bob\" in person_details)"
   ]
  },
  {
   "cell_type": "markdown",
   "metadata": {},
   "source": [
    "Now let's look at a more comprehensive example with dictionaries. The following small program lets the user enter a number of term-definition pairs for a glossary, then prints the glossary alphabetically sorted by the terms:"
   ]
  },
  {
   "cell_type": "code",
   "execution_count": 7,
   "metadata": {},
   "outputs": [
    {
     "name": "stdout",
     "output_type": "stream",
     "text": [
      "Please enter term: iterable\n",
      "Please enter definition: An object capable of returning its members one at a time.\n",
      "Do you want to add another entry? (y/n) y\n",
      "Please enter term: argument\n",
      "Please enter definition: A value passed to a function or method when calling it.\n",
      "Do you want to add another entry? (y/n) y\n",
      "Please enter term: expression\n",
      "Please enter definition: A piece of Syntax which can be evaluated to some value.\n",
      "Do you want to add another entry? (y/n) y\n",
      "Please enter term: slice\n",
      "Please enter definition: An object usually containing a portion of a sequence.\n",
      "Do you want to add another entry? (y/n) n\n",
      "argument: A value passed to a function or method when calling it.\n",
      "expression: A piece of Syntax which can be evaluated to some value.\n",
      "iterable: An object capable of returning its members one at a time.\n",
      "slice: An object usually containing a portion of a sequence.\n"
     ]
    }
   ],
   "source": [
    "glossary = {}\n",
    "\n",
    "while True:\n",
    "    new_key = input(\"Please enter term: \")\n",
    "    new_value = input(\"Please enter definition: \")\n",
    "    glossary[new_key] = new_value\n",
    "    more_entries = input(\"Do you want to add another entry? (y/n) \")\n",
    "    if more_entries != \"y\":\n",
    "        break\n",
    "        \n",
    "keys = list(glossary.keys())\n",
    "keys.sort()\n",
    "\n",
    "for key in keys:\n",
    "    print(f\"{key}: {glossary[key]}\")"
   ]
  },
  {
   "cell_type": "markdown",
   "metadata": {},
   "source": [
    "As with lists, also with dictionaries there is a difference between a normal \"shallow\" copy through the assignment operator, and a thorough deep copy with the ```copy.deepcopy()``` function."
   ]
  },
  {
   "cell_type": "markdown",
   "metadata": {},
   "source": [
    "<h3 style='color:#3981CB'> Sets </h3>\n",
    "\n",
    "Sets in Python correspond to sets in mathematics. They contain each element only once, and set operations like union and intersection can be performed on them. Sets support membership tests (```in, not in```), but they are unordered and have no index to access individual elements. Sets can be defined as in the following example:"
   ]
  },
  {
   "cell_type": "code",
   "execution_count": null,
   "metadata": {},
   "outputs": [],
   "source": [
    "set1 = {3,1,2}\n",
    "set2 = set([5,6,4])"
   ]
  },
  {
   "cell_type": "markdown",
   "metadata": {},
   "source": [
    "That is, a list of elements in curly braces defines a set. An empty pair of curly braces is however already reserved for creating an empty dictionary, so alternatively a set can be created as shown in the second line,  but calling the set function with a (possibly empty) list to create a new set.\n",
    "\n",
    "Sets define no order themselves, but commands like print might order the elements:"
   ]
  },
  {
   "cell_type": "code",
   "execution_count": null,
   "metadata": {},
   "outputs": [],
   "source": [
    "print(set1)\n",
    "print(set2)"
   ]
  },
  {
   "cell_type": "markdown",
   "metadata": {},
   "source": [
    "Elements can be added and removed from sets with the corresponding functions. Adding and element to a set that is already contained in it will simply have no effect:"
   ]
  },
  {
   "cell_type": "code",
   "execution_count": null,
   "metadata": {},
   "outputs": [],
   "source": [
    "set1.add(1)\n",
    "print(set1)\n",
    "set1.add(4)\n",
    "print(set1)"
   ]
  },
  {
   "cell_type": "markdown",
   "metadata": {},
   "source": [
    "The operators |, &, - and ^ can be used to compute the union, intersection, difference and symmetric difference between sets, respectively:"
   ]
  },
  {
   "cell_type": "code",
   "execution_count": null,
   "metadata": {},
   "outputs": [],
   "source": [
    "print(set1 | set2)\n",
    "print(set1 & set2)\n",
    "print(set2 - set1) \n",
    "print(set2 ^ set1)  "
   ]
  },
  {
   "cell_type": "markdown",
   "metadata": {},
   "source": [
    "<h3 style='color:#3981CB'> Call by Reference vs. Call by Value </h3>\n",
    "\n",
    "There is an important difference between passing complex data objects (like the data structures discussed today) as arguments to a function, compared to passing variables of simple types. Have a look at the following code and try to guess what it does before you (execute it and) check the actual output:"
   ]
  },
  {
   "cell_type": "code",
   "execution_count": null,
   "metadata": {},
   "outputs": [],
   "source": [
    "# function that manipulates the string passed as argument\n",
    "def add_to_string(string, addition):\n",
    "    string = string + addition\n",
    "    print(f\"\\t {string}\")\n",
    "    \n",
    "# function that manipulates the dictionary passed as argument\n",
    "def add_to_dictionary(dictionary, key, value):\n",
    "    dictionary[key] = value\n",
    "    print(f\"\\t {dictionary}\")\n",
    "    \n",
    "#main program\n",
    "a_string = \"Hello!\"\n",
    "print(a_string)\n",
    "add_to_string(a_string, \" Hello World!\")\n",
    "print(a_string)\n",
    "a_dictionary = {}\n",
    "print(a_dictionary)\n",
    "add_to_dictionary(a_dictionary, \"greeting\", \"Hello World!\")\n",
    "print(a_dictionary) "
   ]
  },
  {
   "cell_type": "markdown",
   "metadata": {},
   "source": [
    "A string and a dictionary are defined and then passed to a string and dictionary manipulation function, respectively. The printouts within the functions show the effects of the manipulation. However, the printouts after the function calls show a difference: The string is still the same as before the manipulation, while the dictionary has changed. The reason for this lies in the way that parameters are passed to functions. Passing variables of the basic data types (such as strings, integers, floats and booleans) happens as call-by-value, that is, the current value of the variable is copied to create a new local variable with the same value for use inside the function. Because it is only visible in the scope of the function, however, changes to it will not be visible after the function. To achieve that, the new values would have to be returned by the function and, e.g., assigned to another variable by the calling code.\n",
    "\n",
    "In contrast, passing variables of complex data types (such as lists and dictionaries) happens as call-by-reference. As with shallow copies, only the reference to the (address of the) object in the memory is copied to a new variable and passed as argument, but no (deep) copy of the object itself is created. Thus, manipulations to the object that happen inside a function will also be visible afterwards, also without returning and re-assigning the result of the function. If a function is not supposed to be able to change the object passed as an argument, a (deep) copy needs to be made before it is passed to the function."
   ]
  }
 ],
 "metadata": {
  "kernelspec": {
   "display_name": "Python 3",
   "language": "python",
   "name": "python3"
  },
  "language_info": {
   "codemirror_mode": {
    "name": "ipython",
    "version": 3
   },
   "file_extension": ".py",
   "mimetype": "text/x-python",
   "name": "python",
   "nbconvert_exporter": "python",
   "pygments_lexer": "ipython3",
   "version": "3.8.3"
  }
 },
 "nbformat": 4,
 "nbformat_minor": 4
}
