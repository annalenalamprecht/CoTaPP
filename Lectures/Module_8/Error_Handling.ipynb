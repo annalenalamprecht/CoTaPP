{
 "cells": [
  {
   "cell_type": "markdown",
   "metadata": {},
   "source": [
    "# Error Handling\n",
    "<span style='color:#5A5A5A'> February <mark style=\"background-color: #FFFF00\">28</mark>, 2021 </span>"
   ]
  },
  {
   "cell_type": "markdown",
   "metadata": {},
   "source": [
    "<h3 style='color:#3981CB'> Error Handling </h3>\n",
    "\n",
    "There are basically two kinds of errors that can be detected by the Python interpreter: syntax (aka parsing) errors and exceptions (aka runtime or execution-time errors). ```SyntaxErrors``` are caused by syntactically incorrect code (like invalid variable names, forgotten indentations, braces, quotation marks or colons, etc.; Spyder will often already point you to them). They are fixed by correcting the code accordingly. Syntactically correct code can however still cause exceptions during exection. For example, a division by zero will result in a ```ZeroDivisonError```, and a type mismatch between str and int will result in a ```TypeError```. We say that an exception is \"thrown\" at runtime when the respective error occurs, and we can add code to \"catch\" and handle it if that happens (and thus prevent the program from simply crashing). That is done by the try-and-except construct in Python. Simply put, it defines what should be tried, and what happens if that goes wrong:\n",
    "\n",
    "```\n",
    "try:\n",
    "    <do something>\n",
    "except <error>:\n",
    "    <do something to react on error>\n",
    "```\n",
    "\n",
    "For example, a ValueError is thrown when the user's input is not convertible into an integer, so we can catch it and display an error message accordingly:"
   ]
  },
  {
   "cell_type": "code",
   "execution_count": null,
   "metadata": {},
   "outputs": [],
   "source": [
    "try:\n",
    "    x = int(input(\"Please enter a number: \"))\n",
    "except ValueError:\n",
    "    print(\"That was no valid number.\")"
   ]
  },
  {
   "cell_type": "markdown",
   "metadata": {},
   "source": [
    "In this case, it would in practice be handy if the user is asked to try again, until (s)he enters a valid input. Maybe even encapsulated into a function, to have a specific, error-handling reader available for reuse:"
   ]
  },
  {
   "cell_type": "code",
   "execution_count": null,
   "metadata": {},
   "outputs": [],
   "source": [
    "def read_integer(prompt):\n",
    "    while True:\n",
    "        try:\n",
    "            x = int(input(prompt))\n",
    "            return x\n",
    "        except ValueError:\n",
    "            print(\"That was no valid number. Try again.\")\n",
    "            \n",
    "# in main program:\n",
    "number = read_integer(\"Please enter a number:\" )"
   ]
  },
  {
   "cell_type": "markdown",
   "metadata": {},
   "source": [
    "As another example: When handling files, it can easily happen that the path to the file to be opened is not correct, and the file cannot be opened. Then the ```FileNotFoundError``` can be caught to prevent the program from crashing because of that:"
   ]
  },
  {
   "cell_type": "code",
   "execution_count": null,
   "metadata": {},
   "outputs": [],
   "source": [
    "filename = input(\"Enter file name: \")\n",
    "while True:\n",
    "    try:\n",
    "        with open(filename, \"r\") as file:\n",
    "            print(file.read())\n",
    "        break\n",
    "    except FileNotFoundError:\n",
    "        print(\"File not found. Please try again.\")\n",
    "        filename = input(\"Enter file name: \")"
   ]
  },
  {
   "cell_type": "markdown",
   "metadata": {},
   "source": [
    "There are several built-in exceptions in Python. We cannot go through them all, but you find them listed at https://docs.python.org/3/library/exceptions.html.\n",
    "\n",
    "Often several things can potentially go wrong, so that it makes sense to catch several exceptions:"
   ]
  },
  {
   "cell_type": "code",
   "execution_count": null,
   "metadata": {},
   "outputs": [],
   "source": [
    "number1 = read_integer(\"Enter number 1: \")\n",
    "number2 = read_integer(\"Enter number 2: \")\n",
    "try:\n",
    "    print(number1 * number2)\n",
    "    print(number1 / number2)\n",
    "except (FloatingPointError, OverflowError, ZeroDivisionError):\n",
    "    print(\"Something went wrong with the calculation.\")"
   ]
  },
  {
   "cell_type": "markdown",
   "metadata": {},
   "source": [
    "Or in a more specific variant, distinguishing between division by zero and all other kinds of errors:"
   ]
  },
  {
   "cell_type": "code",
   "execution_count": null,
   "metadata": {},
   "outputs": [],
   "source": [
    "number1 = read_integer(\"Enter number 1: \")\n",
    "number2 = read_integer(\"Enter number 2: \")\n",
    "try:\n",
    "    print(number1 * number2)\n",
    "    print(number1 / number2)\n",
    "except ZeroDivisionError:\n",
    "    print(\"Division by 0!\")\n",
    "except:\n",
    "    print(\"Something went wrong with the calculation.\")"
   ]
  },
  {
   "cell_type": "markdown",
   "metadata": {},
   "source": [
    "As you can maybe guess from the previous example, and except clause with no specific error defined will catch all (remaining) errors that happen in the try clause. In such a case, it is often useful to assign a name to the exception that is caught, so that the error-handling code can check its type or get the underlying error message, to deal with the exception accordingly. For example:"
   ]
  },
  {
   "cell_type": "code",
   "execution_count": null,
   "metadata": {},
   "outputs": [],
   "source": [
    "number1 = read_integer(\"Enter number 1: \")\n",
    "number2 = read_integer(\"Enter number 2: \")\n",
    "try:\n",
    "    print(number1 * number2)\n",
    "    print(number1 / number2)\n",
    "except Exception as err:\n",
    "    print(\"Error handling for:\", err)"
   ]
  },
  {
   "cell_type": "markdown",
   "metadata": {},
   "source": [
    "Finally, note that with the ```raise``` statement it is also possible to let your own code throw one of the predefined or also self-defined exceptions:"
   ]
  },
  {
   "cell_type": "code",
   "execution_count": null,
   "metadata": {},
   "outputs": [],
   "source": [
    "temperature = read_integer(\"Enter temperature: \")\n",
    "try:\n",
    "    if 0 < temperature < 100:\n",
    "        print(\"Water is liquid.\")\n",
    "    else:\n",
    "        raise Exception(\"incompatible temperature\", temperature)\n",
    "except Exception as err:\n",
    "    print(err) "
   ]
  },
  {
   "cell_type": "markdown",
   "metadata": {},
   "source": [
    "In practice it needs a bit of experience to decide how and where to implement error-handling behavior in a software. In the scope of the projects that you are working on in this course, it would not be feasible to surround each individual statement by try-and-except clauses. As a practical rule, error-handling should be implemented at places where things can easily go wrong, such as reading input from the user (even users with a lot of goodwill make typos), handling files (working with file systems is always prone to unexpected behavior) or accessing online resources and services (communication with them can be affected by network problems etc.). Generally, the less control the programmer (or their code) has over what happens, the more error-handling is a good idea."
   ]
  }
 ],
 "metadata": {
  "kernelspec": {
   "display_name": "Python 3",
   "language": "python",
   "name": "python3"
  },
  "language_info": {
   "codemirror_mode": {
    "name": "ipython",
    "version": 3
   },
   "file_extension": ".py",
   "mimetype": "text/x-python",
   "name": "python",
   "nbconvert_exporter": "python",
   "pygments_lexer": "ipython3",
   "version": "3.8.3"
  }
 },
 "nbformat": 4,
 "nbformat_minor": 4
}
