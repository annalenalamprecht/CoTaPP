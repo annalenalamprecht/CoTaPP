{
 "cells": [
  {
   "cell_type": "markdown",
   "metadata": {},
   "source": [
    "# Lecture 01: Computational Thinking\n",
    "\n",
    "The decoded message is Pitter_Patter_Pitter_Patter_listen_to_the_rain_Pitter_Patter_Pitter_Patter_on_the_window_pane, which has a length of 93 characters:"
   ]
  },
  {
   "cell_type": "code",
   "execution_count": 4,
   "metadata": {},
   "outputs": [
    {
     "data": {
      "text/plain": [
       "93"
      ]
     },
     "execution_count": 4,
     "metadata": {},
     "output_type": "execute_result"
    }
   ],
   "source": [
    "len(\"Pitter_Patter_Pitter_Patter_listen_to_the_rain_Pitter_Patter_Pitter_Patter_on_the_window_pane\")"
   ]
  },
  {
   "cell_type": "markdown",
   "metadata": {},
   "source": [
    "The encoded version was 31 characters long:"
   ]
  },
  {
   "cell_type": "code",
   "execution_count": 5,
   "metadata": {},
   "outputs": [
    {
     "data": {
      "text/plain": [
       "31"
      ]
     },
     "execution_count": 5,
     "metadata": {},
     "output_type": "execute_result"
    }
   ],
   "source": [
    "len(\"бlisten_toдrain_бonдwindow_pane\")"
   ]
  },
  {
   "cell_type": "markdown",
   "metadata": {},
   "source": [
    "As stated in the problem statement, we need at least 25 characters to represent the key:"
   ]
  },
  {
   "cell_type": "code",
   "execution_count": 11,
   "metadata": {},
   "outputs": [
    {
     "data": {
      "text/plain": [
       "25"
      ]
     },
     "execution_count": 11,
     "metadata": {},
     "output_type": "execute_result"
    }
   ],
   "source": [
    "len(\"\"\"д_the_\\\n",
    "жtter_\\\n",
    "иPi\\\n",
    "жлPa\\\n",
    "жбилил\"\"\")"
   ]
  },
  {
   "cell_type": "markdown",
   "metadata": {},
   "source": [
    "Thus, the number of characters you save by using the encoded version is 93-(31+25):"
   ]
  },
  {
   "cell_type": "code",
   "execution_count": 12,
   "metadata": {},
   "outputs": [
    {
     "name": "stdout",
     "output_type": "stream",
     "text": [
      "37\n"
     ]
    }
   ],
   "source": [
    "print(93-(31+25))"
   ]
  },
  {
   "cell_type": "markdown",
   "metadata": {},
   "source": [
    "Of course, you'd run into trouble if any of the symbols used for the encryption (which, in this case, were Cyrillic letters) were also included in the original text. There are more sophisticated encryption methods to account for this case."
   ]
  },
  {
   "cell_type": "markdown",
   "metadata": {},
   "source": [
    "# Lecture 02: Activity Diagrams\n",
    "The correct elements are: A, B, C, E, and G. D and F represent fork and join, which are not used in the Python code. "
   ]
  },
  {
   "cell_type": "markdown",
   "metadata": {},
   "source": [
    "# Lecture 03: Getting Started with Python\n",
    "\n",
    "The text input by the user has not been converted to numeric format. Thus, when you multiply the string \"17\" by 12, you get the string \"17\" repeated 12 times. If you wanted to multiply the number 17 by 12, you'd have to convert the age in years into integer format first:"
   ]
  },
  {
   "cell_type": "code",
   "execution_count": null,
   "metadata": {},
   "outputs": [],
   "source": [
    "a = int(input('What is your age in years?'))          # Note the conversion using \"int\"\n",
    "print(f'Your age in months is {a * 12} months')"
   ]
  },
  {
   "cell_type": "markdown",
   "metadata": {},
   "source": [
    "# Lecture 04: Boolean expressions and conditional branching"
   ]
  },
  {
   "cell_type": "markdown",
   "metadata": {},
   "source": [
    "A) ```red_eyes``` **or** ```blue_nose``` **or**  ```green_ears```\n",
    "\n",
    "B) **not** ```red_eyes``` **and** (```blue_nose``` **or** ```green_ears```)"
   ]
  },
  {
   "cell_type": "markdown",
   "metadata": {},
   "source": [
    "# Lecture 05: Loops\n",
    "\n",
    "The correct answer is **b**: exit the loop. To exit the program immediately, there is an *exit* function. To go back to the beginning of the loop body, there is a *continue* statement. There is no simple function or statement to go back to the beginning of the program."
   ]
  },
  {
   "cell_type": "markdown",
   "metadata": {},
   "source": [
    "# Lecture 06: Functions, modules, and recursion"
   ]
  },
  {
   "cell_type": "code",
   "execution_count": 61,
   "metadata": {},
   "outputs": [
    {
     "name": "stdout",
     "output_type": "stream",
     "text": [
      "1\n",
      "6\n",
      "720\n"
     ]
    }
   ],
   "source": [
    "def fac(n):\n",
    "    if n == 1:\n",
    "        return 1\n",
    "    else:\n",
    "        return n * fac(n-1)\n",
    "    \n",
    "#test\n",
    "print(fac(1))\n",
    "print(fac(3))\n",
    "print(fac(6))"
   ]
  },
  {
   "cell_type": "markdown",
   "metadata": {},
   "source": [
    "# Lecture 07: Data Structures\n",
    "\n",
    "The correct answer is **c**: 2. To begin the search, we set the variable *mySmallestElement* to the value of ```myList[0]```, which is ```4```. After that, we execute the ```print``` statement once for each element in the list that is smaller than ```mySmallestElement```. When we reach the element in position 2 (remember Python is 0-indexed), which is equal to ```2```, the variable ```mySmallestElement``` is updated, and the ```print``` statement is executed. After that, the next element has a value of ```3```, which is smaller than ```4```, but remember that the variable ```mySmallestElement``` now has a value of ```2```, and ```3``` is not smaller than ```2```. Thus, the variable is not updated, and the ```print``` statement is not executed. The next element is ```1```, which is smaller than ```2```, so the ```print``` statement is executed and the variable ```mySmallestElement``` is updated. After that, no smaller value appears, and nothing else is printed."
   ]
  },
  {
   "cell_type": "markdown",
   "metadata": {},
   "source": [
    "# Lecture 08: File I/O and error handling\n",
    "First part:\n",
    "1. False. The ```r``` mode only allows to read a file, not to write.\n",
    "2. False. The ```with```-statement closes the file automatically, so there is no need to use ```file.close()```.\n",
    "3. True.\n",
    "\n",
    "Second part (try/run the code yourself):"
   ]
  },
  {
   "cell_type": "code",
   "execution_count": 55,
   "metadata": {},
   "outputs": [
    {
     "name": "stdout",
     "output_type": "stream",
     "text": [
      "              city      lat       lng      country  population\n",
      "0            Tokyo  35.6897  139.6922        Japan  37977000.0\n",
      "1          Jakarta  -6.2146  106.8451    Indonesia  34540000.0\n",
      "2            Delhi  28.6600   77.2300        India  29617000.0\n",
      "3           Mumbai  18.9667   72.8333        India  23355000.0\n",
      "4           Manila  14.6000  120.9833  Philippines  23088000.0\n",
      "...            ...      ...       ...          ...         ...\n",
      "40996       Tukchi  57.3670  139.5000       Russia        10.0\n",
      "40997        Numto  63.6667   71.3333       Russia        10.0\n",
      "40998         Nord  81.7166  -17.8000    Greenland        10.0\n",
      "40999  Timmiarmiut  62.5333  -42.2167    Greenland        10.0\n",
      "41000      Nordvik  74.0165  111.5100       Russia         0.0\n",
      "\n",
      "[41001 rows x 5 columns]\n",
      "                city      lat       lng           country  population\n",
      "15           Bangkok  13.7500  100.5167          Thailand  17066000.0\n",
      "16      Buenos Aires -34.5997  -58.3819         Argentina  16157000.0\n",
      "17          Shenzhen  22.5350  114.0540             China  15929000.0\n",
      "18             Dhaka  23.7289   90.3944        Bangladesh  15443000.0\n",
      "19             Lagos   6.4500    3.4000           Nigeria  15279000.0\n",
      "20          Istanbul  41.0100   28.9603            Turkey  15154000.0\n",
      "21             Ōsaka  34.7500  135.4601             Japan  14977000.0\n",
      "22           Karachi  24.8600   67.0100          Pakistan  14835000.0\n",
      "23         Bangalore  12.9699   77.5980             India  13707000.0\n",
      "24            Tehran  35.7000   51.4167              Iran  13633000.0\n",
      "25          Kinshasa  -4.3233   15.3081  Congo (Kinshasa)  13528000.0\n",
      "26  Ho Chi Minh City  10.8167  106.6333           Vietnam  13312000.0\n",
      "27       Los Angeles  34.1139 -118.4068     United States  12750807.0\n",
      "28    Rio de Janeiro -22.9083  -43.1964            Brazil  12272000.0\n",
      "29           Nanyang  32.9987  112.5292             China  12010000.0\n",
      "30           Baoding  38.8671  115.4845             China  11860000.0\n",
      "             city      lat       lng country  population\n",
      "0           Tokyo  35.6897  139.6922   Japan  37977000.0\n",
      "21          Ōsaka  34.7500  135.4601   Japan  14977000.0\n",
      "45         Nagoya  35.1167  136.9333   Japan   9113000.0\n",
      "211      Yokohama  35.4333  139.6333   Japan   3757630.0\n",
      "365       Fukuoka  33.6000  130.4167   Japan   2128000.0\n",
      "...           ...      ...       ...     ...         ...\n",
      "39816        Ochi  33.5328  133.2519   Japan      5111.0\n",
      "39871    Shibetsu  43.6614  145.1314   Japan      5123.0\n",
      "39876   Oshamambe  42.5136  140.3804   Japan      5112.0\n",
      "40024  Naganohara  36.5522  138.6375   Japan      5026.0\n",
      "40029     Imagane  42.4294  140.0086   Japan      5052.0\n",
      "\n",
      "[682 rows x 5 columns]\n",
      "            city      lat      lng      country  population\n",
      "218       Berlin  52.5167  13.3833      Germany   3644826.0\n",
      "417      Hamburg  53.5500  10.0000      Germany   1841179.0\n",
      "503       Munich  48.1372  11.5755      Germany   1471508.0\n",
      "524    The Hague  52.0767   4.2986  Netherlands   1406000.0\n",
      "658      Cologne  50.9422   6.9578      Germany   1085664.0\n",
      "733    Amsterdam  52.3667   4.8833  Netherlands    862965.0\n",
      "1044   Frankfurt  50.1136   8.6797      Germany    753056.0\n",
      "1076      Bremen  53.1153   8.7975      Germany    724909.0\n",
      "1175  Düsseldorf  51.2311   6.7724      Germany    645923.0\n",
      "1183     Utrecht  52.0908   5.1222  Netherlands    640000.0\n",
      "1193   Stuttgart  48.7761   9.1775      Germany    634830.0\n",
      "1200   Rotterdam  51.9225   4.4792  Netherlands    631155.0\n",
      "1257     Leipzig  51.3333  12.3833      Germany    593197.0\n",
      "1266    Dortmund  51.5139   7.4653      Germany    587010.0\n",
      "1272       Essen  51.4508   7.0131      Germany    583109.0\n",
      "1315     Dresden  51.0500  13.7400      Germany    556549.0\n",
      "1342    Hannover  52.3744   9.7386      Germany    538068.0\n",
      "1373   Nuremberg  49.4539  11.0775      Germany    518365.0\n",
      "1419    Duisburg  51.4322   6.7611      Germany    498590.0\n",
      "1672   Eindhoven  51.4408   5.4778  Netherlands    398053.0\n",
      "1776      Bochum  51.4833   7.2167      Germany    364628.0\n",
      "1806   Wuppertal  51.2667   7.1833      Germany    354382.0\n",
      "1895   Bielefeld  52.0167   8.5333      Germany    333786.0\n",
      "1925        Bonn  50.7339   7.0997      Germany    327258.0\n",
      "2000     Münster  51.9625   7.6256      Germany    314319.0\n",
      "2003   Karlsruhe  49.0167   8.4000      Germany    313092.0\n",
      "2025    Mannheim  49.4878   8.4661      Germany    309370.0\n",
      "Utrecht\n",
      "111761.44727019846\n"
     ]
    }
   ],
   "source": [
    "import pandas as pd\n",
    "df = pd.read_csv('worldcities_edited.csv', sep=\",\")\n",
    "print(df)\n",
    "# All the data from rows with index 15 up to and including row index 30. Since we are using slicing, the last\n",
    "# element should be 31 and not 30. \n",
    "print(df.iloc[15:31])\n",
    "# All the data from the cities in \"Japan\".\n",
    "print(df[df[\"country\"]==\"Japan\"])\n",
    "# All the data from the cities in \"Germany\" and \"Netherlands\" with a population greater or equal than 300000.\n",
    "print(df[ ((df[\"country\"]==\"Germany\") | (df[\"country\"]==\"Netherlands\")) & (df[\"population\"]>=300000) ])\n",
    "# Only the city name of row index 1183.\n",
    "print(df.loc[1183,\"city\"])\n",
    "# The mean average of the population from all the cities.\n",
    "print(df['population'].mean())"
   ]
  }
 ],
 "metadata": {
  "kernelspec": {
   "display_name": "Python 3 (ipykernel)",
   "language": "python",
   "name": "python3"
  },
  "language_info": {
   "codemirror_mode": {
    "name": "ipython",
    "version": 3
   },
   "file_extension": ".py",
   "mimetype": "text/x-python",
   "name": "python",
   "nbconvert_exporter": "python",
   "pygments_lexer": "ipython3",
   "version": "3.8.12"
  }
 },
 "nbformat": 4,
 "nbformat_minor": 4
}
