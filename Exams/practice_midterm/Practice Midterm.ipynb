{
 "cells": [
  {
   "cell_type": "markdown",
   "metadata": {},
   "source": [
    "# Lecture 01: Computational Thinking"
   ]
  },
  {
   "cell_type": "markdown",
   "metadata": {},
   "source": [
    "Below is an encoded message, along with its decryption key.\n",
    "\n",
    "Encoded message: бlisten_toдrain_бonдwindow_pane\n",
    "\n",
    "Key:\n",
    "\n",
    "д \\_the\\_\n",
    "\n",
    "ж tter\\_\n",
    "\n",
    "и Piж\n",
    "\n",
    "л Paж\n",
    "\n",
    "б илил\n",
    "\n",
    "By replacing the unknown symbols in the message by those in the key, the original message can be recovered. The objective of the encoded message is to write the same message with fewer symbols. Decode the message. How many characters do you save by using the encoded version? *Hint: you need to count the 25 characters used to represent the key*\n",
    "\n",
    "a) 37\n",
    "\n",
    "b) 62\n",
    "\n",
    "c) 32\n",
    "\n",
    "d) 31"
   ]
  },
  {
   "cell_type": "markdown",
   "metadata": {},
   "source": [
    "# Lecture 02: Activity Diagrams\n",
    "Consider the following piece of Python code: "
   ]
  },
  {
   "cell_type": "code",
   "execution_count": null,
   "metadata": {},
   "outputs": [],
   "source": [
    "temperature = int(input(\"Enter temperature:\"))\n",
    "if temperature < 0:\n",
    "    print(\"Water will freeze.\")\n",
    "elif temperature > 100:\n",
    "    print(\"Water will boil.\")\n",
    "else:\n",
    "    print(\"Water will stay liquid.\")"
   ]
  },
  {
   "cell_type": "markdown",
   "metadata": {},
   "source": [
    "Which of the following UML Activity Diagram elements are needed for drawing a diagram that corresponds to this piece of code? (multiple answers are allowed)\n",
    "\n",
    "![](elements.png)"
   ]
  },
  {
   "cell_type": "markdown",
   "metadata": {},
   "source": [
    "# Lecture 03: Getting Started with Python\n",
    "\n",
    "Consider the following piece of code:"
   ]
  },
  {
   "cell_type": "code",
   "execution_count": null,
   "metadata": {},
   "outputs": [],
   "source": [
    "a = input('What is your age in years?')\n",
    "print(f'Your age in months is {a * 12} months')"
   ]
  },
  {
   "cell_type": "markdown",
   "metadata": {},
   "source": [
    "Suppose that the user enters \"17\". What is the output that will be printed to screen?\n",
    "\n",
    "a) 17\n",
    "\n",
    "b) 204\n",
    "\n",
    "c) 171717171717171717171717\n",
    "\n",
    "d) 204.0"
   ]
  },
  {
   "cell_type": "markdown",
   "metadata": {},
   "source": [
    "# Lecture 04: Boolean expressions and conditional branching\n",
    "In a program we have three Boolean variables ```red_eyes```, ```blue_nose``` and ```green_ears``` (standing for the respective symptoms).  \n",
    "\n",
    "A) Using the three Boolean variables, write a Boolean expression to check if the patient has at least one of the three symptoms.\n",
    "\n",
    "B) Using the three three Boolean variables, write a Boolean expression to check if the patient has a blue nose or green ears, but no red eyes."
   ]
  },
  {
   "cell_type": "markdown",
   "metadata": {},
   "source": [
    "# Lecture 05: Loops\n",
    "\n",
    "Python implements two kinds of loops: *while* and *for*. There is also a special *statement* that can be used within these loops, called *break*. What does it do?\n",
    "\n",
    "a) Stop the program\n",
    "\n",
    "b) Exit the loop\n",
    "\n",
    "c) Go back to the beginning of the loop body\n",
    "\n",
    "d) Go back to the beginning of the program"
   ]
  },
  {
   "cell_type": "markdown",
   "metadata": {},
   "source": [
    "# Lecture 06: Functions, modules, and recursion"
   ]
  },
  {
   "cell_type": "markdown",
   "metadata": {},
   "source": [
    "Order the following lines of code to produce a recursive function that computes the factorial of a number:"
   ]
  },
  {
   "cell_type": "markdown",
   "metadata": {},
   "source": [
    "    if n == 1:"
   ]
  },
  {
   "cell_type": "markdown",
   "metadata": {},
   "source": [
    "        return n * fac(n-1)"
   ]
  },
  {
   "cell_type": "markdown",
   "metadata": {},
   "source": [
    "def fac(n):"
   ]
  },
  {
   "cell_type": "markdown",
   "metadata": {},
   "source": [
    "        return 1"
   ]
  },
  {
   "cell_type": "markdown",
   "metadata": {},
   "source": [
    "    else:"
   ]
  },
  {
   "cell_type": "markdown",
   "metadata": {},
   "source": [
    "# Lecture 07: Data Structures\n",
    "\n",
    "The following piece of code finds the smallest element in a given list"
   ]
  },
  {
   "cell_type": "code",
   "execution_count": null,
   "metadata": {},
   "outputs": [],
   "source": [
    "myList = [4, 5, 2, 3, 1, 4, 6, 3, 7, 2]\n",
    "mySmallestElement = myList[0]\n",
    "for myElement in myList:\n",
    "    if myElement < mySmallestElement:\n",
    "        mySmallestElement = myElement\n",
    "        print(f'For now, the smallest element is {mySmallestElement}')"
   ]
  },
  {
   "cell_type": "markdown",
   "metadata": {},
   "source": [
    "How many times will the print statement be shown?\n",
    "\n",
    "a) 0\n",
    "\n",
    "b) 1\n",
    "\n",
    "c) 2\n",
    "\n",
    "d) 3"
   ]
  },
  {
   "cell_type": "markdown",
   "metadata": {},
   "source": [
    "# Lecture 08: File I/O and error handling"
   ]
  },
  {
   "cell_type": "markdown",
   "metadata": {},
   "source": [
    "For each of the following statements, indicate if they are true or false:\n",
    "1. The ```open()``` function with the  ```r``` mode allows to read and write a file\n",
    "2. When using the ```with```-statement is also necessary to use the ```file.close()``` instruction to close the file\n",
    "3. The ```readLines()``` returns a list with all the lines of a file\n",
    "\n",
    "Now, suppose there is a data frame called ```df``` about world cities (you can check the 'worldcities_edited.csv' file). The data frame contains more than 40000 rows and the following columns: \"city\", \"lat\", \"lng\", \"country\", and \"population\".\n",
    "For each of the following requirements, write a line of Python code that will return the required information:\n",
    "1. All the data from rows with index 15 up to and including row index 30.\n",
    "2. All the data from the cities in \"Japan\".\n",
    "3. All the data from the cities in \"Germany\" and \"Netherlands\" with a population greater or equal than 300000. Note: the **or** boolean operator in pandas is ```|```. \n",
    "4. Only the city name of row index 1183.\n",
    "5. The mean average of the population from all the cities.\n"
   ]
  }
 ],
 "metadata": {
  "kernelspec": {
   "display_name": "Python 3 (ipykernel)",
   "language": "python",
   "name": "python3"
  },
  "language_info": {
   "codemirror_mode": {
    "name": "ipython",
    "version": 3
   },
   "file_extension": ".py",
   "mimetype": "text/x-python",
   "name": "python",
   "nbconvert_exporter": "python",
   "pygments_lexer": "ipython3",
   "version": "3.8.12"
  }
 },
 "nbformat": 4,
 "nbformat_minor": 4
}
