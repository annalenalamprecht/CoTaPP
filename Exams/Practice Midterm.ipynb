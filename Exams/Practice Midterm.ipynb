{
 "cells": [
  {
   "cell_type": "markdown",
   "metadata": {},
   "source": [
    "# Lecture 01: Computational Thinking"
   ]
  },
  {
   "cell_type": "markdown",
   "metadata": {},
   "source": [
    "Below is an encoded message, along with its decryption key.\n",
    "\n",
    "Encoded message: бlisten_toдrain_бonдwindow_pane\n",
    "\n",
    "Key:\n",
    "\n",
    "д \\_the\\_\n",
    "\n",
    "ж tter\\_\n",
    "\n",
    "и Piж\n",
    "\n",
    "л Paж\n",
    "\n",
    "б илил\n",
    "\n",
    "By replacing the unknown symbols in the message by those in the key, the original message can be recovered. The objective of the encoded message is to write the same message with fewer symbols. Decode the message. How many characters do you save by using the encoded version? *Hint: you need to count the 25 characters used to represent the key*\n",
    "\n",
    "a) 37\n",
    "\n",
    "b) 62\n",
    "\n",
    "c) 32\n",
    "\n",
    "d) 31"
   ]
  },
  {
   "cell_type": "markdown",
   "metadata": {},
   "source": [
    "# Lecture 03: Getting Started with Python\n",
    "\n",
    "Consider the following piece of code:"
   ]
  },
  {
   "cell_type": "code",
   "execution_count": null,
   "metadata": {},
   "outputs": [],
   "source": [
    "a = input('What is your age in years?')\n",
    "print(f'Your age in months is {a * 12} months')"
   ]
  },
  {
   "cell_type": "markdown",
   "metadata": {},
   "source": [
    "Suppose that the user enters \"17\". What is the output that will be printed to screen?\n",
    "\n",
    "a) 17\n",
    "\n",
    "b) 204\n",
    "\n",
    "c) 171717171717171717171717\n",
    "\n",
    "d) 204.0"
   ]
  },
  {
   "cell_type": "code",
   "execution_count": null,
   "metadata": {},
   "outputs": [],
   "source": []
  }
 ],
 "metadata": {
  "kernelspec": {
   "display_name": "Python 3",
   "language": "python",
   "name": "python3"
  },
  "language_info": {
   "codemirror_mode": {
    "name": "ipython",
    "version": 3
   },
   "file_extension": ".py",
   "mimetype": "text/x-python",
   "name": "python",
   "nbconvert_exporter": "python",
   "pygments_lexer": "ipython3",
   "version": "3.8.10"
  }
 },
 "nbformat": 4,
 "nbformat_minor": 4
}
